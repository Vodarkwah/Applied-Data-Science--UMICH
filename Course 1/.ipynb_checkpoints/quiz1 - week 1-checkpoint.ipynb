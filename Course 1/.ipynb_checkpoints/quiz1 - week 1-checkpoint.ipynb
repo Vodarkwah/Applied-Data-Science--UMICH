{
 "cells": [
  {
   "cell_type": "markdown",
   "id": "24f3b3db",
   "metadata": {},
   "source": [
    "# Quiz 1\n",
    "\n"
   ]
  },
  {
   "cell_type": "code",
   "execution_count": 1,
   "id": "ebeab7b1",
   "metadata": {},
   "outputs": [],
   "source": [
    "import numpy as np\n",
    "import re"
   ]
  },
  {
   "cell_type": "code",
   "execution_count": 5,
   "id": "125fc023",
   "metadata": {},
   "outputs": [
    {
     "data": {
      "text/plain": [
       "array([1, 2, 3])"
      ]
     },
     "execution_count": 5,
     "metadata": {},
     "output_type": "execute_result"
    }
   ],
   "source": [
    "# Assume a and b are two (20, 20) numpy arrays. The L2-distance (defined above) between two equal \n",
    "# dimension arrays can be calculated in python as follows:\n",
    "\n",
    "def l2_dist(a, b):\n",
    "    result = ((a - b) * (a - b)).sum()\n",
    "    result = result ** 0.5\n",
    "    return result \n",
    "\n"
   ]
  },
  {
   "cell_type": "code",
   "execution_count": 15,
   "id": "1c122c48",
   "metadata": {},
   "outputs": [
    {
     "name": "stdout",
     "output_type": "stream",
     "text": [
      "(1, 4) (3,)\n",
      "1\n"
     ]
    },
    {
     "data": {
      "text/plain": [
       "True"
      ]
     },
     "execution_count": 15,
     "metadata": {},
     "output_type": "execute_result"
    }
   ],
   "source": [
    "a1 = np.random.rand(4) # more like (1x4) matrix\n",
    "a2 = np.random.rand(4, 1) # more like (4x1) matrix (4 rows, 1 col, 2D)\n",
    "a3 = np.array([[1, 2, 3, 4]])\n",
    "a4 = np.arange(1, 4, 1)\n",
    "a5 = np.linspace(1 ,4, 4)\n",
    "\n",
    "\n",
    "print(a3.shape, a4.shape,)\n",
    "print(a4.ndim)\n",
    "a5.shape == a1.shape"
   ]
  },
  {
   "cell_type": "code",
   "execution_count": 16,
   "id": "cffa356f",
   "metadata": {},
   "outputs": [
    {
     "name": "stdout",
     "output_type": "stream",
     "text": [
      "[[0 0 1]\n",
      " [1 1 1]]\n"
     ]
    }
   ],
   "source": [
    "# Which of the following is the correct output for the code given below?\n",
    "\n",
    "old = np.array([[1, 1, 1], [1, 1, 1]])\n",
    "new = old\n",
    "new[0, :2] = 0  # :2 indicates all columns from the 0th column to the 2nd column (exclusive).\n",
    "\n",
    "print(old)"
   ]
  },
  {
   "cell_type": "code",
   "execution_count": 18,
   "id": "58693210",
   "metadata": {},
   "outputs": [
    {
     "data": {
      "text/plain": [
       "['AC']"
      ]
     },
     "execution_count": 18,
     "metadata": {},
     "output_type": "execute_result"
    }
   ],
   "source": [
    "# For the given string, which of the following regular expressions can be used to check if the string starts with 'AC'?\n",
    "s = 'ACBCAC'\n",
    "# re.findall('AC',s) #finds all occurences of AC\n",
    "re.findall('^AC', s) #correct"
   ]
  },
  {
   "cell_type": "code",
   "execution_count": 21,
   "id": "c87bb78d",
   "metadata": {},
   "outputs": [
    {
     "data": {
      "text/plain": [
       "['A', 'AA', 'AA', 'AA', 'A']"
      ]
     },
     "execution_count": 21,
     "metadata": {},
     "output_type": "execute_result"
    }
   ],
   "source": [
    "# What will be the output of the variable L after the following code is executed?\n",
    "\n",
    "string = 'ACAABAACAAAB'\n",
    "result = re.findall('A{1,2}', string)\n",
    "#                   min A - 1 max A - 2  \n",
    "len(result) # 5 ---- bcos for last but 1, 3As, so captures the first 2 and the last 2 later\n",
    "result"
   ]
  },
  {
   "cell_type": "code",
   "execution_count": 46,
   "id": "678cb21f",
   "metadata": {},
   "outputs": [
    {
     "data": {
      "text/plain": [
       "['(734) 647-6333',\n",
       " '(734) 647-8044',\n",
       " '(734) 763-2285',\n",
       " '(734) 647-3576',\n",
       " '(734) 763-1251',\n",
       " '(734) 764-9376']"
      ]
     },
     "execution_count": 46,
     "metadata": {},
     "output_type": "execute_result"
    }
   ],
   "source": [
    "# Which of the following is the correct regular expression to extract all the phone numbers \n",
    "# from the following chunk of text:\n",
    "\n",
    "txt = \"\"\"Office of Research Administration: (734) 647-6333 | 4325 North Quad\n",
    "Office of Budget and Financial Administration: (734) 647-8044 | 309 Maynard, Suite 205\n",
    "Health Informatics Program: (734) 763-2285 | 333 Maynard, Suite 500\n",
    "Office of the Dean: (734) 647-3576 | 4322 North Quad\n",
    "UMSI Engagement Center: (734) 763-1251 | 777 North University\n",
    "Faculty Adminstrative Support Staff: (734) 764-9376 | 4322 North Quad\"\"\"\n",
    "\n",
    "# re.findall('\\([\\d]+\\)\\s[\\d]+-\\d{4}', txt) # this will even select more nums above 3 sef\n",
    "re.findall('\\(\\d{3}\\)\\s\\d{3}-\\d{4}', txt) # remember that for digits(\\d), no need using [] if we want to apply the min max scenario\n",
    "# print(txt)"
   ]
  },
  {
   "cell_type": "code",
   "execution_count": 75,
   "id": "0e283b0d",
   "metadata": {},
   "outputs": [
    {
     "data": {
      "text/plain": [
       "['google.com', 'www.baidu.com']"
      ]
     },
     "execution_count": 75,
     "metadata": {},
     "output_type": "execute_result"
    }
   ],
   "source": [
    "# Which of the following regular expressions can be used to get the domain names \n",
    "# (e.g. google.com, www.baidu.com) from the following sentence?\n",
    "\n",
    "link = 'I refer to https://google.com and I never refer http://www.baidu.com if I have to search anything'\n",
    "\n",
    "# re.findall('https?://(www\\.)?(\\w+\\.\\w+)',link) # not output I expected\n",
    "re.findall('(?<=[https]:\\/\\/)([A-Za-z0-9.]*)', link) # correct\n",
    "\n",
    "# (?<=[https]:\\/\\/): This is a positive lookbehind assertion. It asserts that the following \n",
    "# pattern must be preceded by \"http://\" or \"https://\", but it doesn't capture those characters \n",
    "# as part of the match.\n",
    "\n",
    "# [A-Za-z0-9.]*: Matches zero or more characters that are letters (uppercase or lowercase), \n",
    "# digits, or dots.\n",
    "\n",
    "\n",
    "# =========    Explanation on why we used the look behind regex ==========\n",
    "# This regex is designed to extract domain names from text while ensuring they are preceded by \n",
    "# \"http://\" or \"https://\". However, it doesn't capture the protocol part itself.\n"
   ]
  },
  {
   "cell_type": "code",
   "execution_count": 87,
   "id": "9d116267",
   "metadata": {},
   "outputs": [
    {
     "data": {
      "text/plain": [
       "['(a)', '(b)', '(c)', '(d)']"
      ]
     },
     "execution_count": 87,
     "metadata": {},
     "output_type": "execute_result"
    }
   ],
   "source": [
    "# The text from the Canadian Charter of Rights and Freedoms section 2 lists the fundamental \n",
    "# freedoms afforded to everyone. Of the four choices provided to replace X in the code below, \n",
    "# which would accurately count the number of fundamental freedoms that Canadians have?\n",
    "\n",
    "\n",
    "text=r'''Everyone has the following fundamental freedoms:\n",
    "    (a) freedom of conscience and religion;\n",
    "    (b) freedom of thought, belief, opinion and expression, including freedom of the press and other media of communication;\n",
    "    (c) freedom of peaceful assembly; and\n",
    "    (d) freedom of association.'''\n",
    "# print(len(re.findall('',text)))\n",
    "re.findall('\\([a-z]\\)',text) # to find the letters a,b,c,d as this lists the freedoms\n",
    "re.findall('\\(.\\)',text) # matches any single char except a newline that is located within the parenthesis\n"
   ]
  },
  {
   "cell_type": "markdown",
   "id": "4d4e1b73",
   "metadata": {},
   "source": [
    "# WEEK 1 - Assignment 1\n"
   ]
  },
  {
   "cell_type": "markdown",
   "id": "ba7adad4",
   "metadata": {},
   "source": [
    "## Part A\n",
    "\n",
    "Find a list of all of all of the names in the following string using regex."
   ]
  },
  {
   "cell_type": "code",
   "execution_count": 92,
   "id": "f7016f9c",
   "metadata": {},
   "outputs": [
    {
     "data": {
      "text/plain": [
       "['Amy', 'Mary', 'Ruth', 'Peter']"
      ]
     },
     "execution_count": 92,
     "metadata": {},
     "output_type": "execute_result"
    }
   ],
   "source": [
    "def names():\n",
    "    simple_string = \"\"\"Amy is 5 years old, and her sister Mary is 2 years old. \n",
    "    Ruth and Peter, their parents, have 3 kids.\"\"\"\n",
    "    \n",
    "    return re.findall('[A-Z][a-z]+', simple_string)\n",
    "\n",
    "names()"
   ]
  },
  {
   "cell_type": "markdown",
   "id": "f1607aac",
   "metadata": {},
   "source": [
    "## Part B\n",
    "\n",
    "The dataset file in [assets/grades.txt](assets/grades.txt) contains a line separated list of people with their grade in a class. Create a regex to generate a list of just those students who received a B in the course."
   ]
  },
  {
   "cell_type": "code",
   "execution_count": 143,
   "id": "f62b3a1c",
   "metadata": {},
   "outputs": [
    {
     "data": {
      "text/plain": [
       "['Bell Kassulke: B',\n",
       " 'Simon Loidl: B',\n",
       " 'Elias Jovanovic: B',\n",
       " 'Hakim Botros: B',\n",
       " 'Emilie Lorentsen: B',\n",
       " 'Jake Wood: B',\n",
       " 'Fatemeh Akhtar: B',\n",
       " 'Kim Weston: B',\n",
       " 'Yasmin Dar: B',\n",
       " 'Viswamitra Upandhye: B',\n",
       " 'Killian Kaufman: B',\n",
       " 'Elwood Page: B',\n",
       " 'Elodie Booker: B',\n",
       " 'Adnan Chen: B',\n",
       " 'Hank Spinka: B',\n",
       " 'Hannah Bayer: B']"
      ]
     },
     "execution_count": 143,
     "metadata": {},
     "output_type": "execute_result"
    }
   ],
   "source": [
    "def grades():\n",
    "    with open (\"assets/grades.txt\", \"r\") as file:\n",
    "        grades = file.read()\n",
    "        return re.findall('[\\w\\- ]*\\s[\\w]+:\\sB',grades) # generates a list. using grouping would generate a tuple\n",
    "        \n",
    "#     [\\w\\- ]*\\s[\\w]+  --- finds any word or - in words, then space, then other words\n",
    "#      :\\s ----- after grouping names, it should end with ':' followed by space\n",
    "#     (B) ----- captures all B chars after the space char\n",
    "\n",
    "# grades()\n",
    "# len(grades())\n",
    "# grades(), len(grades())\n",
    "# re.findall('([\\w]+?[-\\w+]?\\s[\\w]+):\\s(.)','Lola-Rose Coates: C')"
   ]
  },
  {
   "cell_type": "code",
   "execution_count": 259,
   "id": "70716005",
   "metadata": {},
   "outputs": [
    {
     "data": {
      "text/plain": [
       "['Bell Kassulke',\n",
       " 'Simon Loidl',\n",
       " 'Elias Jovanovic',\n",
       " 'Hakim Botros',\n",
       " 'Emilie Lorentsen',\n",
       " 'Jake Wood',\n",
       " 'Fatemeh Akhtar',\n",
       " 'Kim Weston',\n",
       " 'Yasmin Dar',\n",
       " 'Viswamitra Upandhye',\n",
       " 'Killian Kaufman',\n",
       " 'Elwood Page',\n",
       " 'Elodie Booker',\n",
       " 'Adnan Chen',\n",
       " 'Hank Spinka',\n",
       " 'Hannah Bayer']"
      ]
     },
     "execution_count": 259,
     "metadata": {},
     "output_type": "execute_result"
    }
   ],
   "source": [
    "def grades():\n",
    "    with open (\"assets/grades.txt\", \"r\") as file:\n",
    "        grades = file.read()\n",
    "        student =[]\n",
    "        \n",
    "        for i in re.findall('[\\w\\- ]*\\s[\\w]+:\\sB',grades):\n",
    "            student.append(re.split(':',i)[0])\n",
    "\n",
    "        return student    # returns a list of student names\n",
    "\n",
    "grades()\n",
    "# len(grades())\n",
    "# grades(), len(grades())\n",
    "# re.findall('([\\w]+?[-\\w+]?\\s[\\w]+):\\s(.)','Lola-Rose Coates: C')"
   ]
  },
  {
   "cell_type": "markdown",
   "id": "856d4484",
   "metadata": {},
   "source": [
    "## Part C\n",
    "\n",
    "Consider the standard web log file in [assets/logdata.txt](assets/logdata.txt). This file records the access a user makes when visiting a web page (like this one!). Each line of the log has the following items:\n",
    "\n",
    "* a host (e.g., '146.204.224.152') \n",
    "* a user_name (e.g., 'feest6811' **note: sometimes the user name is missing! In this case, use '-' as the value for the username.**)\n",
    "* the time a request was made (e.g., '21/Jun/2019:15:45:24 -0700')\n",
    "* the post request type (e.g., 'POST /incentivize HTTP/1.1' **note: not everything is a POST!**)\n",
    "\n",
    "Your task is to convert this into a list of dictionaries, where each dictionary looks like the following:\n",
    "```\n",
    "example_dict = {\"host\":\"146.204.224.152\", \n",
    "                \"user_name\":\"feest6811\", \n",
    "                \"time\":\"21/Jun/2019:15:45:24 -0700\",\n",
    "                \"request\":\"POST /incentivize HTTP/1.1\"}\n",
    "```"
   ]
  },
  {
   "cell_type": "code",
   "execution_count": 253,
   "id": "eff33c90",
   "metadata": {},
   "outputs": [
    {
     "data": {
      "text/plain": [
       "979"
      ]
     },
     "execution_count": 253,
     "metadata": {},
     "output_type": "execute_result"
    }
   ],
   "source": [
    "def logs():\n",
    "    with open(\"assets/logdata.txt\", \"r\") as file:\n",
    "        logdata = file.read()\n",
    "        pattern = \"\"\"\n",
    "        (?P<host>[\\d{3}]+\\.[\\d{3}]+\\.[\\d{3}]+\\.[\\d{3}]+)    #captures the ip addresses as agroup as \"host\"\n",
    "        \\s-\\s                                               #the space, hyphen space\n",
    "        (?P<user_name>[\\w-]*)                               #collect chars or hyphen. the captured chars are grouped under the name \"user_name\"\n",
    "        \\s\\[(?P<time>.*)]                                   #space + ' [ 'capturing all chars inside the sq bracket']'\n",
    "        \\s\"(?P<request>.*?)\"                                #space + ' \" ' + capturing all chars inside the col (non greedy marching) + ' \" '\n",
    "     \n",
    "        \"\"\"\n",
    "        log = [] # list to collect the dictionary group\n",
    "        \n",
    "        for item in re.finditer(pattern,logdata,re.VERBOSE):\n",
    "            log.append(item.groupdict())\n",
    "        return log\n",
    "len(logs())\n",
    "\n",
    "# \\s\"(?P<request>.*?)\"  "
   ]
  },
  {
   "cell_type": "code",
   "execution_count": null,
   "id": "0c65699c",
   "metadata": {},
   "outputs": [],
   "source": []
  }
 ],
 "metadata": {
  "kernelspec": {
   "display_name": "Python 3 (ipykernel)",
   "language": "python",
   "name": "python3"
  },
  "language_info": {
   "codemirror_mode": {
    "name": "ipython",
    "version": 3
   },
   "file_extension": ".py",
   "mimetype": "text/x-python",
   "name": "python",
   "nbconvert_exporter": "python",
   "pygments_lexer": "ipython3",
   "version": "3.9.12"
  }
 },
 "nbformat": 4,
 "nbformat_minor": 5
}

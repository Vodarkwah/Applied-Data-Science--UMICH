{
 "cells": [
  {
   "cell_type": "markdown",
   "id": "94e1e4ad",
   "metadata": {},
   "source": [
    "# Introduction to Pandas and Series Data"
   ]
  },
  {
   "cell_type": "markdown",
   "id": "e87e77f1",
   "metadata": {},
   "source": [
    "## The `Series` Datastructure\n",
    "\n",
    "- more like a cross between list and disctionary."
   ]
  },
  {
   "cell_type": "code",
   "execution_count": 2,
   "id": "895e6653",
   "metadata": {},
   "outputs": [],
   "source": [
    "import pandas as pd"
   ]
  },
  {
   "cell_type": "code",
   "execution_count": 3,
   "id": "46468096",
   "metadata": {},
   "outputs": [
    {
     "data": {
      "text/plain": [
       "0    Alice\n",
       "1     Jack\n",
       "2    Molly\n",
       "dtype: object"
      ]
     },
     "execution_count": 3,
     "metadata": {},
     "output_type": "execute_result"
    }
   ],
   "source": [
    "# you can create a series by passing in a list of values. \n",
    "# When you do this, Pandas automatically assigns an index starting with zero and\n",
    "# sets the name of the series to **None**.\n",
    "\n",
    "students = ['Alice', 'Jack', 'Molly']\n",
    "\n",
    "pd.Series(students)\n",
    "\n",
    "\n",
    "# the pandas has automatically identified the type of data in this Series as \"object\" and\n",
    "# set the dytpe parameter as appropriate. We see that the values are indexed with integers,\n",
    "# starting at zero"
   ]
  },
  {
   "cell_type": "code",
   "execution_count": 4,
   "id": "a08770f1",
   "metadata": {},
   "outputs": [
    {
     "data": {
      "text/plain": [
       "0    1\n",
       "1    2\n",
       "2    3\n",
       "dtype: int64"
      ]
     },
     "execution_count": 4,
     "metadata": {},
     "output_type": "execute_result"
    }
   ],
   "source": [
    "# Underneath panda stores series values in a \n",
    "# typed array using the Numpy library. This offers ***significant speedup*** when processing data \n",
    "# versus traditional python lists.\n",
    "\n",
    "numbers = [1, 2, 3]\n",
    "# And turn that into a series\n",
    "pd.Series(numbers)  \n",
    "\n"
   ]
  },
  {
   "cell_type": "code",
   "execution_count": 5,
   "id": "11768254",
   "metadata": {},
   "outputs": [
    {
     "data": {
      "text/plain": [
       "0    Alice\n",
       "1     Jack\n",
       "2     None\n",
       "dtype: object"
      ]
     },
     "execution_count": 5,
     "metadata": {},
     "output_type": "execute_result"
    }
   ],
   "source": [
    "# how Numpy and thus pandas handle missing data. \n",
    "# In Python, we have the **none type*** to indicate a **lack of data**. But what do we do if we want \n",
    "# to have a typed list like we do in the series object?\n",
    "\n",
    "\n",
    "#  Underneath, pandas does some type conversion. If we create a list of strings and we have \n",
    "# one element, a None type, pandas inserts it as a None and uses the type object for the \n",
    "# underlying array. \n",
    "\n",
    "\n",
    "students = ['Alice', 'Jack', None]\n",
    "# And let's convert this to a series\n",
    "pd.Series(students)\n",
    "\n",
    "# although the last data is a none type, pandas still asssigns it an object type"
   ]
  },
  {
   "cell_type": "code",
   "execution_count": 6,
   "id": "93ab0dde",
   "metadata": {},
   "outputs": [
    {
     "data": {
      "text/plain": [
       "0    1.0\n",
       "1    2.0\n",
       "2    NaN\n",
       "dtype: float64"
      ]
     },
     "execution_count": 6,
     "metadata": {},
     "output_type": "execute_result"
    }
   ],
   "source": [
    "# for numbers, the none type is converted into a NaN ( a special floating point value)\n",
    "\n",
    "numbers = [1, 2, None]\n",
    "# And turn that into a series\n",
    "pd.Series(numbers)\n",
    "\n",
    "# pandas set the dytpe of this series to floating point numbers instead of object or ints. T\n",
    "# Underneath, pandas represents NaN as a floating point number, and because integers can be typecast to\n",
    "# floats, pandas went and converted our integers to floats. \n",
    "\n",
    "\n",
    "# so ehen our series of int dtype brings up floats in padas, it reps **missing data**"
   ]
  },
  {
   "cell_type": "code",
   "execution_count": 7,
   "id": "846594d2",
   "metadata": {},
   "outputs": [
    {
     "data": {
      "text/plain": [
       "False"
      ]
     },
     "execution_count": 7,
     "metadata": {},
     "output_type": "execute_result"
    }
   ],
   "source": [
    "# None and NaN might be being used by the data scientist in the same way, to\n",
    "# denote missing data, but that underneath these are not represented by pandas in the same\n",
    "# way.\n",
    "\n",
    "# NaN is *NOT* equivilent to None and when we try the equality test, the result is False.\n",
    "\n",
    "# Lets bring in numpy which allows us to generate an NaN value\n",
    "import numpy as np\n",
    "\n",
    "np.nan == None # false bcos nan is not nan\n"
   ]
  },
  {
   "cell_type": "code",
   "execution_count": 8,
   "id": "fd0b6a64",
   "metadata": {},
   "outputs": [
    {
     "data": {
      "text/plain": [
       "False"
      ]
     },
     "execution_count": 8,
     "metadata": {},
     "output_type": "execute_result"
    }
   ],
   "source": [
    "# It turns out that you actually can't do an equality test of NAN to itself. When you do, \n",
    "# the answer is always False. \n",
    "\n",
    "np.nan == np.nan\n",
    "\n",
    "# One key characteristic of NaN is that it's incomparable to other values, including itself."
   ]
  },
  {
   "cell_type": "code",
   "execution_count": 9,
   "id": "abb97732",
   "metadata": {},
   "outputs": [
    {
     "data": {
      "text/plain": [
       "True"
      ]
     },
     "execution_count": 9,
     "metadata": {},
     "output_type": "execute_result"
    }
   ],
   "source": [
    "# Instead, you need to use special functions to test for the presence of not a number, \n",
    "# such as the Numpy library np.isnan(value)\n",
    "\n",
    "np.isnan(np.nan) # returns true since we explicitly want to compare them"
   ]
  },
  {
   "cell_type": "code",
   "execution_count": 10,
   "id": "c0c0d6b8",
   "metadata": {},
   "outputs": [
    {
     "data": {
      "text/plain": [
       "array(['Physics', 'Chemistry', 'English'], dtype=object)"
      ]
     },
     "execution_count": 10,
     "metadata": {},
     "output_type": "execute_result"
    }
   ],
   "source": [
    "# A series can be created directly from dictionary data. \n",
    "# the index is automatically assigned to the keys of the dictionary \n",
    "# that you provided and not just incrementing integers.\n",
    "\n",
    "\n",
    "students_scores = {'Alice': 'Physics',\n",
    "                   'Jack': 'Chemistry',\n",
    "                   'Molly': 'English'}\n",
    "\n",
    "s = pd.Series(students_scores)\n",
    "s.index # prints the index (i.e. keys of the dict)\n",
    "s.values"
   ]
  },
  {
   "cell_type": "code",
   "execution_count": 26,
   "id": "d8a01e7a",
   "metadata": {},
   "outputs": [
    {
     "data": {
      "text/plain": [
       "'Jack'"
      ]
     },
     "execution_count": 26,
     "metadata": {},
     "output_type": "execute_result"
    }
   ],
   "source": [
    "# from the above, the index, the first column, is also a list of strings.\n",
    "# The dtype of object is not just for strings, but for arbitrary objects.e.g. tuples\n",
    "\n",
    "students = [(\"Alice\",\"Brown\"), (\"Jack\", \"White\"), (\"Molly\", \"Green\")]\n",
    "s = pd.Series(students)\n",
    "s               #the tuples is stored in the series object, and the type is object.\n",
    "# s.values\n",
    "# s.values[1][0]  # we want to find jack\n"
   ]
  },
  {
   "cell_type": "code",
   "execution_count": 27,
   "id": "8b2cfec9",
   "metadata": {},
   "outputs": [
    {
     "data": {
      "text/plain": [
       "Alice      Physics\n",
       "Jack     Chemistry\n",
       "Molly      English\n",
       "dtype: object"
      ]
     },
     "execution_count": 27,
     "metadata": {},
     "output_type": "execute_result"
    }
   ],
   "source": [
    "# Create your own index from the data by passing in the index as a \n",
    "# list explicitly to the series.\n",
    "\n",
    "s = pd.Series(['Physics', 'Chemistry', 'English'], index=['Alice', 'Jack', 'Molly'])\n",
    "#               vals of the index (keys)                     index vals (keys)                  \n",
    "s"
   ]
  },
  {
   "cell_type": "code",
   "execution_count": 32,
   "id": "e128c1fc",
   "metadata": {},
   "outputs": [
    {
     "name": "stdout",
     "output_type": "stream",
     "text": [
      "Alice    Physics\n",
      "Molly    English\n",
      "Sam          NaN\n",
      "dtype: object\n"
     ]
    },
    {
     "data": {
      "text/plain": [
       "Alice      Physics\n",
       "Molly      English\n",
       "Sam            NaN\n",
       "Jack     Chemistry\n",
       "dtype: object"
      ]
     },
     "execution_count": 32,
     "metadata": {},
     "output_type": "execute_result"
    }
   ],
   "source": [
    "# if your list of values in the index object are not aligned with the keys \n",
    "# pandas overrides the automatic creation to favor the indices values that you provided. \n",
    "# It will ignore from your dictionary all keys which are not in your index, and pandas will \n",
    "# add None or NaN type values for any index value you provide, which is not in your dictionary key list.\n",
    "\n",
    "students_scores = {'Alice': 'Physics',\n",
    "                   'Jack': 'Chemistry',\n",
    "                   'Molly': 'English'}\n",
    "# When I create the series object though I'll only ask for an index with three students, and\n",
    "# I'll exclude Jack\n",
    "s = pd.Series(students_scores, index=['Alice', 'Molly', 'Sam'])\n",
    "print(s)     # NAN for \"sam\" b/c no index is called \"sam\"\n",
    "      # Since Jack was not called, the program ignores it\n",
    "# pd.Series(students_scores, index=['Alice', 'Molly', 'Sam',\"Jack\"]) # calls Jack since it was specified. "
   ]
  },
  {
   "cell_type": "code",
   "execution_count": null,
   "id": "f4a6076c",
   "metadata": {},
   "outputs": [],
   "source": []
  }
 ],
 "metadata": {
  "kernelspec": {
   "display_name": "Python 3 (ipykernel)",
   "language": "python",
   "name": "python3"
  },
  "language_info": {
   "codemirror_mode": {
    "name": "ipython",
    "version": 3
   },
   "file_extension": ".py",
   "mimetype": "text/x-python",
   "name": "python",
   "nbconvert_exporter": "python",
   "pygments_lexer": "ipython3",
   "version": "3.9.12"
  }
 },
 "nbformat": 4,
 "nbformat_minor": 5
}

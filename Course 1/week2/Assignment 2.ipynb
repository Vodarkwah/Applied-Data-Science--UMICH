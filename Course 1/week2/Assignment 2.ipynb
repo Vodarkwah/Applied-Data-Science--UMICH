{
 "cells": [
  {
   "cell_type": "markdown",
   "id": "4451833b",
   "metadata": {},
   "source": [
    "# Assignment 2"
   ]
  },
  {
   "cell_type": "markdown",
   "id": "a53e7653",
   "metadata": {},
   "source": [
    "\n",
    "For this assignment you'll be looking at 2017 data on immunizations from the CDC. Your datafile for this assignment is in [assets/NISPUF17.csv](assets/NISPUF17.csv). A data users guide for this, which you'll need to map the variables in the data to the questions being asked, is available at [assets/NIS-PUF17-DUG.pdf](assets/NIS-PUF17-DUG.pdf). **Note: you may have to go to your Jupyter tree (click on the Coursera image) and navigate to the assignment 2 assets folder to see this PDF file).**"
   ]
  },
  {
   "cell_type": "markdown",
   "id": "c2b32d4c",
   "metadata": {},
   "source": [
    "## Question 1\n",
    "Write a function called `proportion_of_education` which returns the proportion of children in the dataset who had a mother with the education levels equal to less than high school (<12), high school (12), more than high school but not a college graduate (>12) and college degree.\n",
    "\n",
    "*This function should return a dictionary in the form of (use the correct numbers, do not round numbers):* \n",
    "```\n",
    "    {\"less than high school\":0.2,\n",
    "    \"high school\":0.4,\n",
    "    \"more than high school but not college\":0.2,\n",
    "    \"college\":0.2}\n",
    "```"
   ]
  },
  {
   "cell_type": "code",
   "execution_count": 179,
   "id": "92d87e63",
   "metadata": {},
   "outputs": [],
   "source": [
    "import pandas as pd\n",
    "import numpy as np\n",
    "\n",
    "df = pd.read_csv('dataset/NISPUF17.csv')\n",
    "# df.loc['AGEGRP']\n",
    "\n",
    "# titles = [df.columns]\n",
    "# df.T.loc['EDUC1'] # used to check if any cols has the educ1 col\n",
    "# df.loc[0, 'EDUC1'] # this also works. (digged into first row to find the col name 'EDUC1')\n",
    "# df.loc[:,'EDUC1'].describe()\n",
    "\n"
   ]
  },
  {
   "cell_type": "code",
   "execution_count": 180,
   "id": "ef430fdc",
   "metadata": {},
   "outputs": [
    {
     "name": "stdout",
     "output_type": "stream",
     "text": [
      "2904\n"
     ]
    }
   ],
   "source": [
    "# Edu_level = df['EDUC1']\n",
    "# df['EDUC1'].isnull() # the EDUC1 col has no null val\n",
    "# df['EDUC1'].unique() # has 4 unique numbers signifying the classification\n",
    "\n",
    "L11 = df[df['EDUC1']==1]  # \"less than high school\"                   --- category 1\n",
    "L12 = df[df['EDUC1']==2]  # \"high school\"                             --- category 2\n",
    "L13 = df[df['EDUC1']==3]  # \"more than high school but not college\"   --- cat 3\n",
    "L14 = df[df['EDUC1']==4]  # \"college\"                                 --- cat 4\n",
    "\n",
    "LTHS = L11['EDUC1'] # extracts the true vals for this case\n",
    "HS = L12['EDUC1']\n",
    "MTHS = L13['EDUC1']\n",
    "COL = L14['EDUC1']\n",
    "\n",
    "print(len(df[df['EDUC1'] == 1]['EDUC1'])) # to find number of mothers who fall under category 1\n",
    "\n",
    "# len(LTHS), len(HS), len(MTHS), len(COL) # count of mothers per category\n",
    "# len(MTHS)/len(df.index) # to find fraction of high school, but not college compared to the whole mothers\n"
   ]
  },
  {
   "cell_type": "code",
   "execution_count": 181,
   "id": "3f744ce5",
   "metadata": {},
   "outputs": [],
   "source": [
    "# new_df = pd.DataFrame([LTHS,HS,MTHS,COL], index = ['a', 'b', 'c', 'd'])\n",
    "# new_df\n",
    "\n",
    "\n",
    "\n",
    "# using the unique function\n",
    "\n",
    "# np.sort(df['EDUC1'].unique()) # trying to findout the unique nums used to denote education level. (Check Tabke 5, Pg 42 of the pdf doc)\n",
    "# new_df = pd.Series(np.sort(df['EDUC1'].unique()), index = [\"less than high school\", \"high school\",\"more than high school but not college\",\"college\"])\n",
    "# new_df # This one was just to throw more light on the classification\n"
   ]
  },
  {
   "cell_type": "code",
   "execution_count": 182,
   "id": "d307d35e",
   "metadata": {},
   "outputs": [
    {
     "data": {
      "text/plain": [
       "{'less than high school': 0.10202002459160373,\n",
       " 'high school': 0.172352011241876,\n",
       " 'more than high school but not college': 0.24588090637625154,\n",
       " 'college': 0.47974705779026877}"
      ]
     },
     "execution_count": 182,
     "metadata": {},
     "output_type": "execute_result"
    }
   ],
   "source": [
    "# Instead of DF, I'm trying a series data, because its basically a 1-D problem\n",
    "new_df = {\"less than high school\": len(df[df['EDUC1'] == 1]['EDUC1'])/len(df),\n",
    "          \"high school\": len(df[df['EDUC1'] == 2]['EDUC1'])/len(df),\n",
    "          \"more than high school but not college\": len(df[df['EDUC1'] == 3]['EDUC1'])/len(df),\n",
    "          \"college\": len(df[df['EDUC1'] == 4]['EDUC1'])/len(df)   \n",
    "}\n",
    "new_df\n",
    "\n",
    "# new_df\n",
    "# type(new_df) # worked as expected\n",
    "# df[df['EDUC1'] == 2]['EDUC1']\n",
    "# prints the df indices that meets the criteria. The ['EDUC1'] is used to fetch the filtered row from the df"
   ]
  },
  {
   "cell_type": "code",
   "execution_count": 183,
   "id": "006cd6af",
   "metadata": {},
   "outputs": [
    {
     "data": {
      "text/plain": [
       "{'less than high school': 0.10202002459160373,\n",
       " 'high school': 0.172352011241876,\n",
       " 'more than high school but not college': 0.24588090637625154,\n",
       " 'college': 0.47974705779026877}"
      ]
     },
     "execution_count": 183,
     "metadata": {},
     "output_type": "execute_result"
    }
   ],
   "source": [
    "def proportion_of_education(row):\n",
    "    # your code goes here\n",
    "    # YOUR CODE HERE\n",
    "    new_df = {\"less than high school\": len(row[row['EDUC1'] == 1]['EDUC1'])/len(row),\n",
    "          \"high school\": len(row[row['EDUC1'] == 2]['EDUC1'])/len(row),\n",
    "          \"more than high school but not college\": len(row[row['EDUC1'] == 3]['EDUC1'])/len(row),\n",
    "          \"college\": len(row[row['EDUC1'] == 4]['EDUC1'])/len(row)   \n",
    "             }\n",
    "    return new_df\n",
    "proportion_of_education(df) # worked,  HURRAY......\n",
    "#     raise NotImplementedError()"
   ]
  },
  {
   "cell_type": "code",
   "execution_count": 184,
   "id": "552e00ad",
   "metadata": {},
   "outputs": [
    {
     "data": {
      "text/plain": [
       "{'less than high school': 0.10202002459160373,\n",
       " 'high school': 0.172352011241876,\n",
       " 'more than high school but not college': 0.24588090637625154,\n",
       " 'college': 0.47974705779026877}"
      ]
     },
     "execution_count": 184,
     "metadata": {},
     "output_type": "execute_result"
    }
   ],
   "source": [
    "def proportion_of_education():\n",
    "    \n",
    "    import pandas as pd\n",
    "    \n",
    "    df = pd.read_csv('dataset/NISPUF17.csv')\n",
    "    \n",
    "    new_df = {\"less than high school\": len(df[df['EDUC1'] == 1]['EDUC1'])/len(df),\n",
    "          \"high school\": len(df[df['EDUC1'] == 2]['EDUC1'])/len(df),\n",
    "          \"more than high school but not college\": len(df[df['EDUC1'] == 3]['EDUC1'])/len(df),\n",
    "          \"college\": len(df[df['EDUC1'] == 4]['EDUC1'])/len(df)   \n",
    "            }\n",
    "    \n",
    "    return new_df\n",
    "\n",
    "proportion_of_education() # worked\n",
    "# proportion_of_education()['high school']"
   ]
  },
  {
   "cell_type": "markdown",
   "id": "48da0e16",
   "metadata": {},
   "source": [
    "## Question 2\n",
    "\n",
    "Let's explore the relationship between being fed breastmilk as a child and getting a seasonal influenza vaccine from a healthcare provider. Return a tuple of the average number of influenza vaccines for those children we know received breastmilk as a child and those who know did not.\n",
    "\n",
    "*This function should return a tuple in the form (use the correct numbers:*\n",
    "```\n",
    "(2.5, 0.1)\n",
    "```"
   ]
  },
  {
   "cell_type": "code",
   "execution_count": 185,
   "id": "849651b0",
   "metadata": {},
   "outputs": [],
   "source": [
    "# #  Breastfeeding   ----  CBF_01  (pg 43)\n",
    "# #  Total number of seasonal influenza doses ----  P_NUMFLU  NB. P_NUMFLU contains NA vals, so better to remove those portions\n",
    "\n",
    "# print(df['CBF_01'].unique()) # unique vals of the col CBF_01 (child breastfed)\n",
    "# print('Number of breast-fed kids: ',len(df[df['CBF_01']==1]['CBF_01']))\n",
    "\n",
    "# print('Unique flu vacs',df['P_NUMFLU'].unique())  # unique total no of influenza vaccines taken by a child\n",
    "\n",
    "# len(df['P_NUMFLU'].dropna()) #15333 kids took the vaccine (maybe, we'll fill the na vals with 0)\n",
    "# df['P_NUMFLU'].dropna()\n",
    "\n",
    "# # df['P_NUMFLU'][2]"
   ]
  },
  {
   "cell_type": "code",
   "execution_count": 186,
   "id": "77cf00b5",
   "metadata": {},
   "outputs": [],
   "source": [
    "# # new_df = df\n",
    "# # new_df[\"P_NUMFLU\"].fillna(0, inplace = True)\n",
    "# # (new_df[new_df['CBF_01']==1]['CBF_01']) & (new_df[new_df['P_NUMFLU'] == 0]['P_NUMFLU'])\n",
    "\n",
    "# # df['P_NUMFLU']\n",
    "\n",
    "# # df[(df['CBF_01'] == 1) & (df['P_NUMFLU'] > 0)]['CBF_01','P_NUMFLU']\n",
    "\n",
    "# df[(df['CBF_01'] == 1) & (df['P_NUMFLU'] > 0)]             # Breastfed + vaccinated\n",
    "# df[(df['CBF_01'] == 1) & (df['P_NUMFLU'].fillna(0) == 0)]  # Breastfed + unvaccinated\n",
    "# df[(df['CBF_01'] != 1) & (df['P_NUMFLU'].fillna(0) > 0)]   # Not Breastfed + vaccinated\n",
    "# df[(df['CBF_01'] != 1) & (df['P_NUMFLU'].fillna(0) == 0)]  # Not Breastfed + unvaccinated\n",
    "\n",
    "\n"
   ]
  },
  {
   "cell_type": "code",
   "execution_count": 187,
   "id": "863cb8b6",
   "metadata": {},
   "outputs": [],
   "source": [
    "# len(df)"
   ]
  },
  {
   "cell_type": "code",
   "execution_count": 194,
   "id": "aecf97a5",
   "metadata": {},
   "outputs": [
    {
     "data": {
      "text/plain": [
       "(0.3451607236957667, 0.04809415071139996)"
      ]
     },
     "execution_count": 194,
     "metadata": {},
     "output_type": "execute_result"
    }
   ],
   "source": [
    "# BVAC = len(df[(df['CBF_01'] == 1) & (df['P_NUMFLU'] > 0)])/len(df) # avg kids breastfed and vaccined\n",
    "# UVAC = len(df[(df['CBF_01'] != 1) & (df['P_NUMFLU'].fillna(0) > 0)]) / len(df) # avg kids not breastfed and vaccined\n",
    "\n",
    "# BVAC, UVAC # worked"
   ]
  },
  {
   "cell_type": "code",
   "execution_count": 189,
   "id": "3295872b",
   "metadata": {},
   "outputs": [],
   "source": [
    "# def average_influenza_doses():\n",
    "#     # YOUR CODE HERE\n",
    "#     import pandas as pd\n",
    "    \n",
    "#     df = pd.read_csv('dataset/NISPUF17.csv')\n",
    "    \n",
    "#     BVAC = len(df[(df['CBF_01'] == 1) & (df['P_NUMFLU'] > 0)])/len(df) # avg kids breastfed and vaccined\n",
    "#     UVAC = len(df[(df['CBF_01'] != 1) & (df['P_NUMFLU'].fillna(0) > 0)]) / len(df) # avg kids not breastfed and vaccined\n",
    "\n",
    "#     return BVAC, UVAC\n",
    "    \n",
    "#     # raise NotImplementedError()\n",
    "# average_influenza_doses()"
   ]
  },
  {
   "cell_type": "markdown",
   "id": "fdfd7524",
   "metadata": {},
   "source": [
    "## Question 2\n",
    "\n",
    "Let's explore the relationship between being fed breastmilk as a child and getting a seasonal influenza vaccine from a healthcare provider. Return a tuple of the average number of influenza vaccines for those children we know received breastmilk as a child and those who know did not.\n",
    "\n",
    "*This function should return a tuple in the form (use the correct numbers:*\n",
    "```\n",
    "(2.5, 0.1)\n",
    "```\n",
    "* The previous question I solved gave a wrong answer when I uploaded in the grader"
   ]
  },
  {
   "cell_type": "code",
   "execution_count": 192,
   "id": "0d7ee236",
   "metadata": {},
   "outputs": [
    {
     "name": "stdout",
     "output_type": "stream",
     "text": [
      "unique vals of breastfed kids:  [ 1  2 99 77]\n",
      "Number of breast-fed kids:  24261\n",
      "Unique flu vacs:  [nan  3.  0.  2.  1.  4.  5.  6.]\n",
      "unique num of flvac after droping nan: 15333\n"
     ]
    },
    {
     "data": {
      "text/plain": [
       "array([3., 0., 2., 1., 4., 5., 6.])"
      ]
     },
     "execution_count": 192,
     "metadata": {},
     "output_type": "execute_result"
    }
   ],
   "source": [
    "#  Breastfeeding   ----  CBF_01  (pg 43)\n",
    "#  Total number of seasonal influenza doses ----  P_NUMFLU  NB. P_NUMFLU contains NA vals, so better to remove those portions\n",
    "\n",
    "print('unique vals of breastfed kids: ',df['CBF_01'].unique()) # unique vals of the col CBF_01 (child breastfed)\n",
    "print('Number of breast-fed kids: ',len(df[df['CBF_01']==1]['CBF_01']))\n",
    "\n",
    "print('Unique flu vacs: ',df['P_NUMFLU'].unique())  # unique total no of influenza vaccines taken by a child\n",
    "\n",
    "print('unique num of flvac after droping nan:', len(df['P_NUMFLU'].dropna())) #15333 kids took the vaccine. Need to remove the nans\n",
    "df['P_NUMFLU'].dropna().unique()\n",
    "\n",
    "# df['P_NUMFLU'][2]"
   ]
  },
  {
   "cell_type": "code",
   "execution_count": 224,
   "id": "a87cdba6",
   "metadata": {},
   "outputs": [
    {
     "data": {
      "text/plain": [
       "(0.40497094101644615, 0.32827417380660956)"
      ]
     },
     "execution_count": 224,
     "metadata": {},
     "output_type": "execute_result"
    }
   ],
   "source": [
    "# avg kids breastfed and vaccined \n",
    "BVAC = len(df[(df['CBF_01'] == 1) & (df['P_NUMFLU'].dropna() > 0)])/len(df[(df['CBF_01'] == 1)]) \n",
    "\n",
    "# avg kids not breastfed and vaccined\n",
    "UVAC = len(df[(df['CBF_01'] == 2) & (df['P_NUMFLU'].dropna() > 0)]) / len(df[(df['CBF_01'] == 2)]) \n",
    "\n",
    "BVAC, UVAC # worked\n",
    "\n",
    "# len(df[df['CBF_01'] == 1])                                     # kids breastfed \n",
    "# len(df[(df['CBF_01'] == 2)])                                   # kids not breastfed\n",
    "# len(df[(df['CBF_01'] == 1) & (df['P_NUMFLU'].dropna() == 1)])  # breastfed and vaccined\n",
    "# len(df[(df['CBF_01'] == 2) & (df['P_NUMFLU'].dropna() == 1)])   # not breastfed and vaccined"
   ]
  },
  {
   "cell_type": "code",
   "execution_count": 249,
   "id": "bcad2728",
   "metadata": {},
   "outputs": [
    {
     "data": {
      "text/plain": [
       "2.5431043256997454"
      ]
     },
     "execution_count": 249,
     "metadata": {},
     "output_type": "execute_result"
    }
   ],
   "source": [
    "#  question requires the avg no of vaccines  not no of kids.\n",
    "#  Previous examples above, I was focussing on the no of kids, no the the vaccines\n",
    "\n",
    "\n",
    "#  extracting indices with at least 1 vaccine and the child breastfed\n",
    "NUM_BVAC = df[(df['CBF_01'] == 1) & (df['P_NUMFLU'].dropna() > 0)] \n",
    "\n",
    "sum(NUM_BVAC['P_NUMFLU'])/len(NUM_BVAC) # I thnik this is correct for the average\n",
    "NUM_BVAC['P_NUMFLU'].mean()  # same but simpler and shorter\n",
    "\n",
    "    "
   ]
  },
  {
   "cell_type": "code",
   "execution_count": 246,
   "id": "963926dc",
   "metadata": {},
   "outputs": [
    {
     "data": {
      "text/plain": [
       "2.377330350484713"
      ]
     },
     "execution_count": 246,
     "metadata": {},
     "output_type": "execute_result"
    }
   ],
   "source": [
    "#  extracting indices with at least 1 vaccine and the child not breastfed\n",
    "NUM_NBVAC = df[(df['CBF_01'] == 2) & (df['P_NUMFLU'].dropna() > 0)] \n",
    "\n",
    "sum(NUM_NBVAC['P_NUMFLU'])/len(NUM_NBVAC) # I thnik this is correct for the average\n",
    "NUM_NBVAC['P_NUMFLU'].mean()  # same but simpler and shorter\n",
    "\n",
    "\n",
    "\n"
   ]
  },
  {
   "cell_type": "code",
   "execution_count": 248,
   "id": "91e4124d",
   "metadata": {},
   "outputs": [
    {
     "data": {
      "text/plain": [
       "(1.8799187420058687, 1.5963945918878317)"
      ]
     },
     "execution_count": 248,
     "metadata": {},
     "output_type": "execute_result"
    }
   ],
   "source": [
    "def average_influenza_doses():\n",
    "    import pandas as np\n",
    "    df = pd.read_csv('dataset/NISPUF17.csv')\n",
    "    \n",
    "    KBFV = df[df['CBF_01'] == 1]      # Kids breastfed and vaccined\n",
    "    KNBFV = df[df[\"CBF_01\"] == 2]     # Kids not breastfed and vaccined\n",
    "    \n",
    "    return (KBFV[\"P_NUMFLU\"].mean(), KNBFV[\"P_NUMFLU\"].mean())\n",
    "\n",
    "average_influenza_doses()\n",
    "\n",
    "# got this from online. But I feel this is wrong because this code assumes that all nan  vals == 0\n",
    "#  this does not represent the data well in my opinion, as the nan vals could be more than 0\n",
    "\n",
    "\n",
    "#  If I modify my code not to assume > 0, but >= 0, it works"
   ]
  },
  {
   "cell_type": "markdown",
   "id": "5f904ea3",
   "metadata": {},
   "source": [
    "## Question 3\n",
    "It would be interesting to see if there is any evidence of a link between vaccine effectiveness and sex of the child. Calculate the ratio of the number of children who contracted chickenpox but were vaccinated against it (at least one varicella dose) versus those who were vaccinated but did not contract chicken pox. Return results by sex. \n",
    "\n",
    "*This function should return a dictionary in the form of (use the correct numbers):* \n",
    "```\n",
    "    {\"male\":0.2,\n",
    "    \"female\":0.4}\n",
    "```\n",
    "\n",
    "Note: To aid in verification, the `chickenpox_by_sex()['female']` value the autograder is looking for starts with the digits `0.0077`."
   ]
  },
  {
   "cell_type": "code",
   "execution_count": 148,
   "id": "c3e4c0ea",
   "metadata": {},
   "outputs": [
    {
     "data": {
      "text/plain": [
       "array([ 2,  1, 77, 99], dtype=int64)"
      ]
     },
     "execution_count": 148,
     "metadata": {},
     "output_type": "execute_result"
    }
   ],
   "source": [
    "# df['SEX'].unique()  # the sex of the child can be found on pg 42, table 5\n",
    "df['HAD_CPOX'].unique() # kids who have had chiclken pox\n",
    "# df['P_NUMVRC'].unique() #  total number of varicella doses\n"
   ]
  },
  {
   "cell_type": "code",
   "execution_count": 149,
   "id": "d757d948",
   "metadata": {},
   "outputs": [
    {
     "data": {
      "text/html": [
       "<div>\n",
       "<style scoped>\n",
       "    .dataframe tbody tr th:only-of-type {\n",
       "        vertical-align: middle;\n",
       "    }\n",
       "\n",
       "    .dataframe tbody tr th {\n",
       "        vertical-align: top;\n",
       "    }\n",
       "\n",
       "    .dataframe thead th {\n",
       "        text-align: right;\n",
       "    }\n",
       "</style>\n",
       "<table border=\"1\" class=\"dataframe\">\n",
       "  <thead>\n",
       "    <tr style=\"text-align: right;\">\n",
       "      <th></th>\n",
       "      <th>Unnamed: 0</th>\n",
       "      <th>SEQNUMC</th>\n",
       "      <th>SEQNUMHH</th>\n",
       "      <th>PDAT</th>\n",
       "      <th>PROVWT_D</th>\n",
       "      <th>RDDWT_D</th>\n",
       "      <th>STRATUM</th>\n",
       "      <th>YEAR</th>\n",
       "      <th>AGECPOXR</th>\n",
       "      <th>HAD_CPOX</th>\n",
       "      <th>...</th>\n",
       "      <th>XVRCTY2</th>\n",
       "      <th>XVRCTY3</th>\n",
       "      <th>XVRCTY4</th>\n",
       "      <th>XVRCTY5</th>\n",
       "      <th>XVRCTY6</th>\n",
       "      <th>XVRCTY7</th>\n",
       "      <th>XVRCTY8</th>\n",
       "      <th>XVRCTY9</th>\n",
       "      <th>INS_STAT2_I</th>\n",
       "      <th>INS_BREAK_I</th>\n",
       "    </tr>\n",
       "  </thead>\n",
       "  <tbody>\n",
       "    <tr>\n",
       "      <th>3</th>\n",
       "      <td>4</td>\n",
       "      <td>86131</td>\n",
       "      <td>8613</td>\n",
       "      <td>1</td>\n",
       "      <td>675.430817</td>\n",
       "      <td>333.447418</td>\n",
       "      <td>1040</td>\n",
       "      <td>2017</td>\n",
       "      <td>NaN</td>\n",
       "      <td>2</td>\n",
       "      <td>...</td>\n",
       "      <td></td>\n",
       "      <td></td>\n",
       "      <td>NaN</td>\n",
       "      <td>NaN</td>\n",
       "      <td>NaN</td>\n",
       "      <td>NaN</td>\n",
       "      <td>NaN</td>\n",
       "      <td>NaN</td>\n",
       "      <td>1.0</td>\n",
       "      <td>2.0</td>\n",
       "    </tr>\n",
       "    <tr>\n",
       "      <th>6</th>\n",
       "      <td>7</td>\n",
       "      <td>221381</td>\n",
       "      <td>22138</td>\n",
       "      <td>1</td>\n",
       "      <td>516.427723</td>\n",
       "      <td>248.916038</td>\n",
       "      <td>1008</td>\n",
       "      <td>2017</td>\n",
       "      <td>NaN</td>\n",
       "      <td>2</td>\n",
       "      <td>...</td>\n",
       "      <td></td>\n",
       "      <td></td>\n",
       "      <td>NaN</td>\n",
       "      <td>NaN</td>\n",
       "      <td>NaN</td>\n",
       "      <td>NaN</td>\n",
       "      <td>NaN</td>\n",
       "      <td>NaN</td>\n",
       "      <td>1.0</td>\n",
       "      <td>2.0</td>\n",
       "    </tr>\n",
       "    <tr>\n",
       "      <th>10</th>\n",
       "      <td>11</td>\n",
       "      <td>128211</td>\n",
       "      <td>12821</td>\n",
       "      <td>1</td>\n",
       "      <td>335.398714</td>\n",
       "      <td>198.123294</td>\n",
       "      <td>1057</td>\n",
       "      <td>2017</td>\n",
       "      <td>NaN</td>\n",
       "      <td>2</td>\n",
       "      <td>...</td>\n",
       "      <td></td>\n",
       "      <td></td>\n",
       "      <td>NaN</td>\n",
       "      <td>NaN</td>\n",
       "      <td>NaN</td>\n",
       "      <td>NaN</td>\n",
       "      <td>NaN</td>\n",
       "      <td>NaN</td>\n",
       "      <td>1.0</td>\n",
       "      <td>2.0</td>\n",
       "    </tr>\n",
       "    <tr>\n",
       "      <th>12</th>\n",
       "      <td>13</td>\n",
       "      <td>137041</td>\n",
       "      <td>13704</td>\n",
       "      <td>1</td>\n",
       "      <td>82.582116</td>\n",
       "      <td>45.544717</td>\n",
       "      <td>1051</td>\n",
       "      <td>2017</td>\n",
       "      <td>NaN</td>\n",
       "      <td>2</td>\n",
       "      <td>...</td>\n",
       "      <td></td>\n",
       "      <td></td>\n",
       "      <td>NaN</td>\n",
       "      <td>NaN</td>\n",
       "      <td>NaN</td>\n",
       "      <td>NaN</td>\n",
       "      <td>NaN</td>\n",
       "      <td>NaN</td>\n",
       "      <td>1.0</td>\n",
       "      <td>2.0</td>\n",
       "    </tr>\n",
       "    <tr>\n",
       "      <th>16</th>\n",
       "      <td>17</td>\n",
       "      <td>188611</td>\n",
       "      <td>18861</td>\n",
       "      <td>1</td>\n",
       "      <td>345.352030</td>\n",
       "      <td>196.111859</td>\n",
       "      <td>1057</td>\n",
       "      <td>2017</td>\n",
       "      <td>NaN</td>\n",
       "      <td>2</td>\n",
       "      <td>...</td>\n",
       "      <td>VO</td>\n",
       "      <td></td>\n",
       "      <td>NaN</td>\n",
       "      <td>NaN</td>\n",
       "      <td>NaN</td>\n",
       "      <td>NaN</td>\n",
       "      <td>NaN</td>\n",
       "      <td>NaN</td>\n",
       "      <td>1.0</td>\n",
       "      <td>2.0</td>\n",
       "    </tr>\n",
       "    <tr>\n",
       "      <th>...</th>\n",
       "      <td>...</td>\n",
       "      <td>...</td>\n",
       "      <td>...</td>\n",
       "      <td>...</td>\n",
       "      <td>...</td>\n",
       "      <td>...</td>\n",
       "      <td>...</td>\n",
       "      <td>...</td>\n",
       "      <td>...</td>\n",
       "      <td>...</td>\n",
       "      <td>...</td>\n",
       "      <td>...</td>\n",
       "      <td>...</td>\n",
       "      <td>...</td>\n",
       "      <td>...</td>\n",
       "      <td>...</td>\n",
       "      <td>...</td>\n",
       "      <td>...</td>\n",
       "      <td>...</td>\n",
       "      <td>...</td>\n",
       "      <td>...</td>\n",
       "    </tr>\n",
       "    <tr>\n",
       "      <th>28446</th>\n",
       "      <td>28447</td>\n",
       "      <td>193801</td>\n",
       "      <td>19380</td>\n",
       "      <td>1</td>\n",
       "      <td>321.058203</td>\n",
       "      <td>110.009181</td>\n",
       "      <td>2047</td>\n",
       "      <td>2017</td>\n",
       "      <td>NaN</td>\n",
       "      <td>2</td>\n",
       "      <td>...</td>\n",
       "      <td></td>\n",
       "      <td></td>\n",
       "      <td>NaN</td>\n",
       "      <td>NaN</td>\n",
       "      <td>NaN</td>\n",
       "      <td>NaN</td>\n",
       "      <td>NaN</td>\n",
       "      <td>NaN</td>\n",
       "      <td>2.0</td>\n",
       "      <td>2.0</td>\n",
       "    </tr>\n",
       "    <tr>\n",
       "      <th>28447</th>\n",
       "      <td>28448</td>\n",
       "      <td>136841</td>\n",
       "      <td>13684</td>\n",
       "      <td>1</td>\n",
       "      <td>593.426753</td>\n",
       "      <td>337.255316</td>\n",
       "      <td>2031</td>\n",
       "      <td>2017</td>\n",
       "      <td>NaN</td>\n",
       "      <td>2</td>\n",
       "      <td>...</td>\n",
       "      <td></td>\n",
       "      <td></td>\n",
       "      <td>NaN</td>\n",
       "      <td>NaN</td>\n",
       "      <td>NaN</td>\n",
       "      <td>NaN</td>\n",
       "      <td>NaN</td>\n",
       "      <td>NaN</td>\n",
       "      <td>1.0</td>\n",
       "      <td>2.0</td>\n",
       "    </tr>\n",
       "    <tr>\n",
       "      <th>28449</th>\n",
       "      <td>28450</td>\n",
       "      <td>132081</td>\n",
       "      <td>13208</td>\n",
       "      <td>1</td>\n",
       "      <td>166.681363</td>\n",
       "      <td>96.330007</td>\n",
       "      <td>2059</td>\n",
       "      <td>2017</td>\n",
       "      <td>NaN</td>\n",
       "      <td>2</td>\n",
       "      <td>...</td>\n",
       "      <td></td>\n",
       "      <td></td>\n",
       "      <td>NaN</td>\n",
       "      <td>NaN</td>\n",
       "      <td>NaN</td>\n",
       "      <td>NaN</td>\n",
       "      <td>NaN</td>\n",
       "      <td>NaN</td>\n",
       "      <td>1.0</td>\n",
       "      <td>2.0</td>\n",
       "    </tr>\n",
       "    <tr>\n",
       "      <th>28452</th>\n",
       "      <td>28453</td>\n",
       "      <td>82151</td>\n",
       "      <td>8215</td>\n",
       "      <td>1</td>\n",
       "      <td>335.456813</td>\n",
       "      <td>159.895243</td>\n",
       "      <td>2056</td>\n",
       "      <td>2017</td>\n",
       "      <td>NaN</td>\n",
       "      <td>2</td>\n",
       "      <td>...</td>\n",
       "      <td></td>\n",
       "      <td></td>\n",
       "      <td>NaN</td>\n",
       "      <td>NaN</td>\n",
       "      <td>NaN</td>\n",
       "      <td>NaN</td>\n",
       "      <td>NaN</td>\n",
       "      <td>NaN</td>\n",
       "      <td>1.0</td>\n",
       "      <td>2.0</td>\n",
       "    </tr>\n",
       "    <tr>\n",
       "      <th>28454</th>\n",
       "      <td>28455</td>\n",
       "      <td>191451</td>\n",
       "      <td>19145</td>\n",
       "      <td>1</td>\n",
       "      <td>59.626969</td>\n",
       "      <td>29.187316</td>\n",
       "      <td>2074</td>\n",
       "      <td>2017</td>\n",
       "      <td>NaN</td>\n",
       "      <td>2</td>\n",
       "      <td>...</td>\n",
       "      <td></td>\n",
       "      <td></td>\n",
       "      <td>NaN</td>\n",
       "      <td>NaN</td>\n",
       "      <td>NaN</td>\n",
       "      <td>NaN</td>\n",
       "      <td>NaN</td>\n",
       "      <td>NaN</td>\n",
       "      <td>3.0</td>\n",
       "      <td>2.0</td>\n",
       "    </tr>\n",
       "  </tbody>\n",
       "</table>\n",
       "<p>13830 rows × 454 columns</p>\n",
       "</div>"
      ],
      "text/plain": [
       "       Unnamed: 0  SEQNUMC  SEQNUMHH  PDAT    PROVWT_D     RDDWT_D  STRATUM  \\\n",
       "3               4    86131      8613     1  675.430817  333.447418     1040   \n",
       "6               7   221381     22138     1  516.427723  248.916038     1008   \n",
       "10             11   128211     12821     1  335.398714  198.123294     1057   \n",
       "12             13   137041     13704     1   82.582116   45.544717     1051   \n",
       "16             17   188611     18861     1  345.352030  196.111859     1057   \n",
       "...           ...      ...       ...   ...         ...         ...      ...   \n",
       "28446       28447   193801     19380     1  321.058203  110.009181     2047   \n",
       "28447       28448   136841     13684     1  593.426753  337.255316     2031   \n",
       "28449       28450   132081     13208     1  166.681363   96.330007     2059   \n",
       "28452       28453    82151      8215     1  335.456813  159.895243     2056   \n",
       "28454       28455   191451     19145     1   59.626969   29.187316     2074   \n",
       "\n",
       "       YEAR  AGECPOXR  HAD_CPOX  ...  XVRCTY2  XVRCTY3  XVRCTY4  XVRCTY5  \\\n",
       "3      2017       NaN         2  ...                        NaN      NaN   \n",
       "6      2017       NaN         2  ...                        NaN      NaN   \n",
       "10     2017       NaN         2  ...                        NaN      NaN   \n",
       "12     2017       NaN         2  ...                        NaN      NaN   \n",
       "16     2017       NaN         2  ...       VO               NaN      NaN   \n",
       "...     ...       ...       ...  ...      ...      ...      ...      ...   \n",
       "28446  2017       NaN         2  ...                        NaN      NaN   \n",
       "28447  2017       NaN         2  ...                        NaN      NaN   \n",
       "28449  2017       NaN         2  ...                        NaN      NaN   \n",
       "28452  2017       NaN         2  ...                        NaN      NaN   \n",
       "28454  2017       NaN         2  ...                        NaN      NaN   \n",
       "\n",
       "       XVRCTY6  XVRCTY7  XVRCTY8  XVRCTY9  INS_STAT2_I  INS_BREAK_I  \n",
       "3          NaN      NaN      NaN      NaN          1.0          2.0  \n",
       "6          NaN      NaN      NaN      NaN          1.0          2.0  \n",
       "10         NaN      NaN      NaN      NaN          1.0          2.0  \n",
       "12         NaN      NaN      NaN      NaN          1.0          2.0  \n",
       "16         NaN      NaN      NaN      NaN          1.0          2.0  \n",
       "...        ...      ...      ...      ...          ...          ...  \n",
       "28446      NaN      NaN      NaN      NaN          2.0          2.0  \n",
       "28447      NaN      NaN      NaN      NaN          1.0          2.0  \n",
       "28449      NaN      NaN      NaN      NaN          1.0          2.0  \n",
       "28452      NaN      NaN      NaN      NaN          1.0          2.0  \n",
       "28454      NaN      NaN      NaN      NaN          3.0          2.0  \n",
       "\n",
       "[13830 rows x 454 columns]"
      ]
     },
     "execution_count": 149,
     "metadata": {},
     "output_type": "execute_result"
    }
   ],
   "source": [
    "#  what we want:  vaccinated and contracted chicken pox, vaccinated and not contract\n",
    "\n",
    "# since we dont know the val of nan in the no of kids who were vaccinated, i'll drop the nan cols\n",
    "\n",
    "# new_df = df[(df['P_NUMVRC'].dropna())] \n",
    "# new_df\n",
    "\n",
    "df[(df['HAD_CPOX'] ==1) & (df['P_NUMVRC'].dropna() > 0)] # vaccinated, and chicken pox\n",
    "df[(df['HAD_CPOX'] == 2) & (df['P_NUMVRC'].dropna() > 0)] # vaccinated, and no chicken pox\n",
    "\n",
    "#  more info about the numbers on pg 43. 1 = yes, 2 = no for C_pOX disease"
   ]
  },
  {
   "cell_type": "code",
   "execution_count": 150,
   "id": "96fb288c",
   "metadata": {},
   "outputs": [
    {
     "data": {
      "text/plain": [
       "0.0077918259335489565"
      ]
     },
     "execution_count": 150,
     "metadata": {},
     "output_type": "execute_result"
    }
   ],
   "source": [
    "# grouping cols based on sex that matches the desired querry\n",
    "\n",
    "CPOX_and_VAC = df[(df['HAD_CPOX'] ==1) & (df['P_NUMVRC'].dropna() > 0)]['SEX']   # CPOX & VAC\n",
    "\n",
    "NCPOX_and_VAC = df[(df['HAD_CPOX'] == 2) & (df['P_NUMVRC'].dropna() > 0)]['SEX'] # NO_CPOX & VAC\n",
    "\n",
    "VAC_CH = (len(NCPOX_and_VAC)+len(CPOX_and_VAC)) # total vaccinated kids\n",
    "# len(CPOX_and_VAC[CPOX_and_VAC==2])\n",
    "53/13951\n",
    "\n",
    "# VAC_CH_MALE = (len(NCPOX_and_VAC[NCPOX_and_VAC==1])+len(CPOX_and_VAC[CPOX_and_VAC==1])) # male kids who are vaccinated\n",
    "\n",
    "\n",
    "len(CPOX_and_VAC)/len(NCPOX_and_VAC) # (vaccinated & chickenpox)/ (vaccinated & no chickenpox)\n",
    "\n",
    "\n",
    "# (vaccinated & chickenpox)/ (vaccinated & no chickenpox) for male children\n",
    "len(CPOX_and_VAC[CPOX_and_VAC==1])/len(NCPOX_and_VAC[NCPOX_and_VAC == 1]) \n",
    "\n",
    "# (vaccinated & chickenpox)/ (vaccinated & no chickenpox) for female children\n",
    "len(CPOX_and_VAC[CPOX_and_VAC==2])/len(NCPOX_and_VAC[NCPOX_and_VAC == 2]) "
   ]
  },
  {
   "cell_type": "code",
   "execution_count": 151,
   "id": "e2296c24",
   "metadata": {},
   "outputs": [
    {
     "data": {
      "text/plain": [
       "0.0077918259335489565"
      ]
     },
     "execution_count": 151,
     "metadata": {},
     "output_type": "execute_result"
    }
   ],
   "source": [
    "def chickenpox_by_sex():\n",
    "    import pandas as pd\n",
    "    df = pd.read_csv('dataset/NISPUF17.csv')\n",
    "    \n",
    "    # grouping cols based on sex that matches the desired querry\n",
    "    CPOX_and_VAC = df[(df['HAD_CPOX'] ==1) & (df['P_NUMVRC'].dropna() > 0)]['SEX']   # CPOX & VAC\n",
    "    NCPOX_and_VAC = df[(df['HAD_CPOX'] == 2) & (df['P_NUMVRC'].dropna() > 0)]['SEX'] # NO_CPOX & VAC\n",
    "    \n",
    "    \n",
    "    # Creating a dict for the querry \n",
    "    # (vaccinated & chickenpox)/ (vaccinated & no chickenpox) for male children\n",
    "    MALE = len(CPOX_and_VAC[CPOX_and_VAC==1])/len(NCPOX_and_VAC[NCPOX_and_VAC == 1]) # NB: for sex, 1 == male, 2 == female\n",
    "    \n",
    "    # (vaccinated & chickenpox)/ (vaccinated & no chickenpox) for female children\n",
    "    FEMALE = len(CPOX_and_VAC[CPOX_and_VAC==2])/len(NCPOX_and_VAC[NCPOX_and_VAC == 2]) \n",
    "    \n",
    "    ratio = {\"male\": MALE,\n",
    "             \"female\": FEMALE\n",
    "    }\n",
    "    \n",
    "    return ratio\n",
    "chickenpox_by_sex() # worked\n",
    "chickenpox_by_sex()['female']"
   ]
  },
  {
   "cell_type": "markdown",
   "id": "1fa09aff",
   "metadata": {},
   "source": [
    "## Question 4\n",
    "A correlation is a statistical relationship between two variables. If we wanted to know if vaccines work, we might look at the correlation between the use of the vaccine and whether it results in prevention of the infection or disease [1]. In this question, you are to see if there is a correlation between having had the chicken pox and the number of chickenpox vaccine doses given (varicella).\n",
    "\n",
    "Some notes on interpreting the answer. The `had_chickenpox_column` is either `1` (for yes) or `2` (for no), and the `num_chickenpox_vaccine_column` is the number of doses a child has been given of the varicella vaccine. A positive correlation (e.g., `corr > 0`) means that an increase in `had_chickenpox_column` (which means more no’s) would also increase the values of `num_chickenpox_vaccine_column` (which means more doses of vaccine). If there is a negative correlation (e.g., `corr < 0`), it indicates that having had chickenpox is related to an increase in the number of vaccine doses.\n",
    "\n",
    "Also, `pval` is the probability that we observe a correlation between `had_chickenpox_column` and `num_chickenpox_vaccine_column` which is greater than or equal to a particular value occurred by chance. A small `pval` means that the observed correlation is highly unlikely to occur by chance. In this case, `pval` should be very small (will end in `e-18` indicating a very small number).\n",
    "\n",
    "[1] This isn’t really the full picture, since we are not looking at when the dose was given. It’s possible that children had chickenpox and then their parents went to get them the vaccine. Does this dataset have the data we would need to investigate the timing of the dose?"
   ]
  },
  {
   "cell_type": "code",
   "execution_count": 152,
   "id": "0fdfa479",
   "metadata": {},
   "outputs": [],
   "source": [
    "    import scipy.stats as stats\n",
    "    import numpy as np\n",
    "    import pandas as pd"
   ]
  },
  {
   "cell_type": "code",
   "execution_count": 154,
   "id": "44092c09",
   "metadata": {},
   "outputs": [
    {
     "data": {
      "text/plain": [
       "array([2, 1], dtype=int64)"
      ]
     },
     "execution_count": 154,
     "metadata": {},
     "output_type": "execute_result"
    }
   ],
   "source": [
    "#  variables of interest HAD_CPOX, P_NUMVRC\n",
    "\n",
    "# df['HAD_CPOX'].unique()            # no nan numbers. However, we're only interested in 1(yes) and 2(no)\n",
    "# df['P_NUMVRC'].unique()            # nan present, hence needs cleaning\n",
    "# len(df[df['P_NUMVRC'] >= 0])       # looking for non-zero cells (15333. The rest are nan)\n",
    "# len(df[df['P_NUMVRC'].isna()])     # nan cols\n",
    "\n",
    "\n",
    "new_df = df[(df['HAD_CPOX']).lt(3) ]  # extracted all 1(yes) and 2(No) answers from DF\n",
    "\n",
    "# new_df\n",
    "new_df['HAD_CPOX'].unique()          # confirmation"
   ]
  },
  {
   "cell_type": "code",
   "execution_count": 163,
   "id": "bf325e89",
   "metadata": {},
   "outputs": [
    {
     "data": {
      "text/plain": [
       "array([2, 1], dtype=int64)"
      ]
     },
     "execution_count": 163,
     "metadata": {},
     "output_type": "execute_result"
    }
   ],
   "source": [
    "# extracting relevant info. Removing nan from the P_NUMVRC col and also extract \n",
    "# the Y/N col from the  HAD_CPOX \n",
    "\n",
    "new_df  = df[(df['P_NUMVRC'] >= 0) & (df['HAD_CPOX']).lt(3)] # extracted all non-zeros in VRC, and the 1s and 2s from HCPOX\n",
    "# new_df #worked\n",
    "\n",
    "new_df['P_NUMVRC'].unique()             # no. of vaccines col\n",
    "new_df['HAD_CPOX'].unique()             # data extracted correctly"
   ]
  },
  {
   "cell_type": "code",
   "execution_count": 166,
   "id": "7a974c2b",
   "metadata": {},
   "outputs": [
    {
     "data": {
      "text/plain": [
       "(0.07044873460148, 2.778026318286582e-18)"
      ]
     },
     "execution_count": 166,
     "metadata": {},
     "output_type": "execute_result"
    }
   ],
   "source": [
    "corr, pval=stats.pearsonr(new_df['P_NUMVRC'], new_df['HAD_CPOX'])\n",
    "corr, pval\n",
    "\n",
    "#  I guess the code worked :)"
   ]
  },
  {
   "cell_type": "code",
   "execution_count": 168,
   "id": "0c461bb0",
   "metadata": {},
   "outputs": [
    {
     "data": {
      "text/plain": [
       "(0.07044873460148, 2.778026318286582e-18)"
      ]
     },
     "execution_count": 168,
     "metadata": {},
     "output_type": "execute_result"
    }
   ],
   "source": [
    "def corr_chickenpox():\n",
    "    import scipy.stats as stats\n",
    "    import numpy as np\n",
    "    import pandas as pd\n",
    "     \n",
    "    df = pd.read_csv('dataset/NISPUF17.csv')\n",
    "    \n",
    "    new_df  = df[(df['P_NUMVRC'] >= 0) & (df['HAD_CPOX']).lt(3)] # extracted all non-zeros in VRC, and the 1s and 2s from HCPOX\n",
    "    corr, pval=stats.pearsonr(new_df['P_NUMVRC'], new_df['HAD_CPOX'])\n",
    "    \n",
    "    \n",
    "    return corr  #, pval\n",
    "    \n",
    "corr_chickenpox()    \n",
    "    \n",
    "    \n",
    "    "
   ]
  },
  {
   "cell_type": "code",
   "execution_count": null,
   "id": "1e752535",
   "metadata": {},
   "outputs": [],
   "source": []
  }
 ],
 "metadata": {
  "kernelspec": {
   "display_name": "Python 3 (ipykernel)",
   "language": "python",
   "name": "python3"
  },
  "language_info": {
   "codemirror_mode": {
    "name": "ipython",
    "version": 3
   },
   "file_extension": ".py",
   "mimetype": "text/x-python",
   "name": "python",
   "nbconvert_exporter": "python",
   "pygments_lexer": "ipython3",
   "version": "3.11.5"
  }
 },
 "nbformat": 4,
 "nbformat_minor": 5
}

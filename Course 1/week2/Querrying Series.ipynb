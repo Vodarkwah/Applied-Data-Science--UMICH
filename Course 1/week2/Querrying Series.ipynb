{
 "cells": [
  {
   "cell_type": "markdown",
   "id": "58352529",
   "metadata": {},
   "source": [
    "# Querying `Series`\n",
    "\n",
    "\n",
    "* A pandas Series can be queried either by the **`index position`** or the **`index label`**. \n",
    "* If you don't give an index to the series when querying, the position and the label are `effectively the same values`. \n",
    "\n",
    "* To query by <i>numeric location</i>, starting at zero, use the **`iloc`** attribute. To query by the <i>index label</i>, you can use the **`loc`** attribute. \n"
   ]
  },
  {
   "cell_type": "code",
   "execution_count": 6,
   "id": "859871d6",
   "metadata": {},
   "outputs": [
    {
     "name": "stdout",
     "output_type": "stream",
     "text": [
      "Alice      Physics\n",
      "Jack     Chemistry\n",
      "Molly      English\n",
      "Sam        History\n",
      "dtype: object\n",
      "\n",
      "Fourth entry using iloc[3]:  History\n",
      "Printing using the loc['Molly']: English\n"
     ]
    }
   ],
   "source": [
    "import pandas as pd\n",
    "students_classes = {'Alice': 'Physics',\n",
    "                   'Jack': 'Chemistry',\n",
    "                   'Molly': 'English',\n",
    "                   'Sam': 'History'}\n",
    "s = pd.Series(students_classes)\n",
    "print(s)\n",
    "print('\\nFourth entry using iloc[3]: ',s.iloc[3])  # to see the fourth entry\n",
    "# If you wanted to see what class Molly has, we would use the loc attribute with a parameter \n",
    "# of Molly.\n",
    "print(\"Printing using the loc['Molly']:\", s.loc['Molly'] )"
   ]
  },
  {
   "cell_type": "code",
   "execution_count": 17,
   "id": "f4b7f588",
   "metadata": {},
   "outputs": [],
   "source": [
    "# what happens if your index is a list of integers?\n",
    "\n",
    "class_code = {99: 'Physics',\n",
    "              100: 'Chemistry',\n",
    "              101: 'English',\n",
    "              102: 'History'}\n",
    "s = pd.Series(class_code)"
   ]
  },
  {
   "cell_type": "code",
   "execution_count": 22,
   "id": "797245b5",
   "metadata": {},
   "outputs": [
    {
     "data": {
      "text/plain": [
       "'Physics'"
      ]
     },
     "execution_count": 22,
     "metadata": {},
     "output_type": "execute_result"
    }
   ],
   "source": [
    "# s[0] # error because pandas assumes key is 99 for the first obj\n",
    "\n",
    "# to solve this, we need the iloc to explicity locate the index no.\n",
    "# s.iloc[1]\n",
    "# s.loc[99]"
   ]
  },
  {
   "cell_type": "code",
   "execution_count": 23,
   "id": "1363a08e",
   "metadata": {},
   "outputs": [
    {
     "name": "stdout",
     "output_type": "stream",
     "text": [
      "75.0\n"
     ]
    }
   ],
   "source": [
    "grades = pd.Series([90, 80, 70, 60])\n",
    "\n",
    "total = 0\n",
    "for grade in grades:\n",
    "    total+=grade\n",
    "print(total/len(grades))\n",
    "\n",
    "# works, but might be slow for huge data\n"
   ]
  },
  {
   "cell_type": "code",
   "execution_count": 25,
   "id": "a1e55c88",
   "metadata": {},
   "outputs": [
    {
     "data": {
      "text/plain": [
       "75.0"
      ]
     },
     "execution_count": 25,
     "metadata": {},
     "output_type": "execute_result"
    }
   ],
   "source": [
    "# using the numpy sum method we can improve the runtime\n",
    "\n",
    "import numpy as np\n",
    "\n",
    "total = np.sum(grades)\n",
    "total/len(grades) # find the avg"
   ]
  },
  {
   "cell_type": "code",
   "execution_count": 31,
   "id": "7db43a6b",
   "metadata": {},
   "outputs": [
    {
     "name": "stdout",
     "output_type": "stream",
     "text": [
      "10000\n"
     ]
    },
    {
     "data": {
      "text/plain": [
       "0    527\n",
       "1    946\n",
       "2    139\n",
       "3    392\n",
       "4    255\n",
       "dtype: int32"
      ]
     },
     "execution_count": 31,
     "metadata": {},
     "output_type": "execute_result"
    }
   ],
   "source": [
    "# both of these methods create the same value, but which one is actually faster?\n",
    "\n",
    "numbers = pd.Series(np.random.randint(1,1000,10000)) # rand 10000 len series\n",
    "print(len(numbers))\n",
    "numbers.head() # jsut to see the first 5"
   ]
  },
  {
   "cell_type": "code",
   "execution_count": 32,
   "id": "85509993",
   "metadata": {},
   "outputs": [],
   "source": [
    "# use cellular magic function. These start with \"%%\" and wrap the code in the current Jupyter cell. \n",
    "# The function we're going to use is called timeit. This function will run our code a few times to determine, \n",
    "# on average, how long it takes.\n",
    "\n",
    "\n",
    "# We are going to compare the two methods used to find the sum above"
   ]
  },
  {
   "cell_type": "code",
   "execution_count": 35,
   "id": "09b79710",
   "metadata": {},
   "outputs": [
    {
     "name": "stdout",
     "output_type": "stream",
     "text": [
      "1.44 ms ± 134 µs per loop (mean ± std. dev. of 7 runs, 100 loops each)\n"
     ]
    }
   ],
   "source": [
    "%%timeit -n 100\n",
    "total = 0\n",
    "\n",
    "for number in numbers:\n",
    "    total+=number\n",
    "total/len(numbers)"
   ]
  },
  {
   "cell_type": "code",
   "execution_count": 42,
   "id": "d2ee74f7",
   "metadata": {},
   "outputs": [
    {
     "name": "stdout",
     "output_type": "stream",
     "text": [
      "80.2 µs ± 16 µs per loop (mean ± std. dev. of 7 runs, 1,000 loops each)\n"
     ]
    }
   ],
   "source": [
    "%%timeit -n 1000\n",
    "\n",
    "total = np.sum(numbers)\n",
    "total/len(numbers)"
   ]
  },
  {
   "cell_type": "code",
   "execution_count": 43,
   "id": "b0a49d5c",
   "metadata": {},
   "outputs": [],
   "source": [
    "# difference is clear\n",
    "#  one should be aware of parallel computing features and start thinking in functional programming terms.\n",
    "\n",
    "# vectorization is the ability for a computer to execute multiple instructions\n",
    "# at once, and with high performance chips, especially graphics cards, you can get dramatic\n",
    "# speedups. Modern graphics cards can run thousands of instructions in parallel.\n",
    "\n",
    "# ============= more examples ============\n",
    "#  we should as much as possible reduce the number of times we iterate, as it reduces\n",
    "# program speed"
   ]
  },
  {
   "cell_type": "code",
   "execution_count": 46,
   "id": "438f4c6f",
   "metadata": {},
   "outputs": [
    {
     "name": "stdout",
     "output_type": "stream",
     "text": [
      "25.8 ms ± 968 µs per loop (mean ± std. dev. of 7 runs, 10 loops each)\n"
     ]
    }
   ],
   "source": [
    "%%timeit -n 10\n",
    "# we'll create a blank new series of items to deal with\n",
    "s = pd.Series(np.random.randint(0,1000,1000))\n",
    "# And we'll just rewrite our loop from above.\n",
    "for label, value in s.iteritems():\n",
    "    s.loc[label]= value+2"
   ]
  },
  {
   "cell_type": "code",
   "execution_count": 54,
   "id": "fda43744",
   "metadata": {},
   "outputs": [
    {
     "name": "stdout",
     "output_type": "stream",
     "text": [
      "370 µs ± 108 µs per loop (mean ± std. dev. of 7 runs, 10 loops each)\n"
     ]
    }
   ],
   "source": [
    "%%timeit -n 10\n",
    "# We need to recreate a series\n",
    "s = pd.Series(np.random.randint(0,1000,1000))\n",
    "# And we just broadcast with +=\n",
    "s+=2"
   ]
  },
  {
   "cell_type": "code",
   "execution_count": null,
   "id": "16398a1f",
   "metadata": {},
   "outputs": [],
   "source": [
    "# Not only is it significantly faster, but it's more concise and even easier \n",
    "# to read too."
   ]
  },
  {
   "cell_type": "code",
   "execution_count": 56,
   "id": "4a2e4753",
   "metadata": {},
   "outputs": [
    {
     "data": {
      "text/plain": [
       "0            1\n",
       "1            2\n",
       "2            3\n",
       "History    102\n",
       "dtype: int64"
      ]
     },
     "execution_count": 56,
     "metadata": {},
     "output_type": "execute_result"
    }
   ],
   "source": [
    "# Here's an example using a Series of a few numbers. \n",
    "s = pd.Series([1, 2, 3])\n",
    "\n",
    "# We could add some new value, maybe a university course\n",
    "s.loc['History'] = 102  # since this is not found, it creates a new entry\n",
    "\n",
    "s"
   ]
  },
  {
   "cell_type": "code",
   "execution_count": 62,
   "id": "ca6dea3d",
   "metadata": {},
   "outputs": [
    {
     "name": "stdout",
     "output_type": "stream",
     "text": [
      "All stud classes: \n",
      " Alice      Physics\n",
      "Jack     Chemistry\n",
      "Molly      English\n",
      "Sam        History\n",
      "dtype: object\n",
      "\n",
      "Kelly classes: \n",
      " Kelly    Philosophy\n",
      "Kelly          Arts\n",
      "Kelly          Math\n",
      "dtype: object\n"
     ]
    },
    {
     "name": "stderr",
     "output_type": "stream",
     "text": [
      "C:\\Users\\Victor Darkwah-Owusu\\AppData\\Local\\Temp\\ipykernel_13904\\3868507559.py:19: FutureWarning: The series.append method is deprecated and will be removed from pandas in a future version. Use pandas.concat instead.\n",
      "  all_students_classes = students_classes.append(kelly_classes)\n"
     ]
    },
    {
     "data": {
      "text/plain": [
       "Alice       Physics\n",
       "Jack      Chemistry\n",
       "Molly       English\n",
       "Sam         History\n",
       "Kelly    Philosophy\n",
       "Kelly          Arts\n",
       "Kelly          Math\n",
       "dtype: object"
      ]
     },
     "execution_count": 62,
     "metadata": {},
     "output_type": "execute_result"
    }
   ],
   "source": [
    "#  Dealing with non-unique index\n",
    "\n",
    "students_classes = pd.Series({'Alice': 'Physics',\n",
    "                   'Jack': 'Chemistry',\n",
    "                   'Molly': 'English',\n",
    "                   'Sam': 'History'})\n",
    "print('All stud classes: \\n',students_classes)\n",
    "\n",
    "\n",
    "# create a Series just for some new student Kelly, which lists all of the courses\n",
    "# she has taken. We'll set the index to Kelly, and the data to be the names of courses.\n",
    "\n",
    "kelly_classes = pd.Series(['Philosophy', 'Arts', 'Math'], index=['Kelly', 'Kelly', 'Kelly'])\n",
    "print('\\nKelly classes: \\n', kelly_classes)\n",
    "\n",
    "\n",
    "# Finally, we can append all of the data in this new Series to the first using the \n",
    "# .append() function.\n",
    "all_students_classes = students_classes.append(kelly_classes)\n",
    "\n",
    "# This creates a series which has our original people in it as well as all of Kelly's courses\n",
    "all_students_classes"
   ]
  },
  {
   "cell_type": "code",
   "execution_count": 64,
   "id": "4fedd2d5",
   "metadata": {},
   "outputs": [
    {
     "data": {
      "text/plain": [
       "Alice      Physics\n",
       "Jack     Chemistry\n",
       "Molly      English\n",
       "Sam        History\n",
       "dtype: object"
      ]
     },
     "execution_count": 64,
     "metadata": {},
     "output_type": "execute_result"
    }
   ],
   "source": [
    "# There are a couple of important considerations when using append. \n",
    "# First, Pandas will take the series and try to infer the best data types to use. In this \n",
    "# example, everything is a string, so there's no problems here. \n",
    "\n",
    "# Second, the append method doesn't actually change the underlying Series\n",
    "# objects, it instead returns a new series which is made up of the two appended together. This is\n",
    "# a common pattern in pandas - by default returning a new object instead of modifying in place - and\n",
    "# one you should come to expect. By printing the original series we can see that that series hasn't\n",
    "# changed.\n",
    "\n",
    "\n",
    "students_classes  # the original document is saved"
   ]
  },
  {
   "cell_type": "code",
   "execution_count": 65,
   "id": "2f13a875",
   "metadata": {},
   "outputs": [
    {
     "data": {
      "text/plain": [
       "Kelly    Philosophy\n",
       "Kelly          Arts\n",
       "Kelly          Math\n",
       "dtype: object"
      ]
     },
     "execution_count": 65,
     "metadata": {},
     "output_type": "execute_result"
    }
   ],
   "source": [
    "# Finally, we see that when we query the appended series for Kelly, we don't get a single value, \n",
    "# but a series itself. \n",
    "all_students_classes.loc['Kelly']"
   ]
  },
  {
   "cell_type": "code",
   "execution_count": null,
   "id": "65a47567",
   "metadata": {},
   "outputs": [],
   "source": [
    " "
   ]
  }
 ],
 "metadata": {
  "kernelspec": {
   "display_name": "Python 3 (ipykernel)",
   "language": "python",
   "name": "python3"
  },
  "language_info": {
   "codemirror_mode": {
    "name": "ipython",
    "version": 3
   },
   "file_extension": ".py",
   "mimetype": "text/x-python",
   "name": "python",
   "nbconvert_exporter": "python",
   "pygments_lexer": "ipython3",
   "version": "3.11.5"
  }
 },
 "nbformat": 4,
 "nbformat_minor": 5
}

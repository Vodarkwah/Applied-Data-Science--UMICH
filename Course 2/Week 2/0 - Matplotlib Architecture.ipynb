{
 "cells": [
  {
   "cell_type": "code",
   "execution_count": 1,
   "id": "e7c5afb1",
   "metadata": {},
   "outputs": [],
   "source": [
    "%matplotlib notebook\n",
    "\n",
    "# to create interactive visualizations in your notebooks.\n",
    "#  sets the backend to notebook. Allows for zooming, panning, etc\n",
    "\n",
    "# Compared to other options like %matplotlib inline, %matplotlib notebook renders plots in a separate area within \n",
    "# the notebook, allowing for resizing and more flexibility."
   ]
  },
  {
   "cell_type": "code",
   "execution_count": 2,
   "id": "832cb390",
   "metadata": {},
   "outputs": [
    {
     "data": {
      "text/plain": [
       "'nbAgg'"
      ]
     },
     "execution_count": 2,
     "metadata": {},
     "output_type": "execute_result"
    }
   ],
   "source": [
    "import matplotlib as mpl\n",
    "mpl.get_backend() # to know the type of backend you are using "
   ]
  },
  {
   "cell_type": "markdown",
   "id": "3394b951",
   "metadata": {},
   "source": [
    "# Matplotlib Architecture\n",
    "\n",
    "- Backend Layer\n",
    "    - Deals with the rendering of plots to screen or files\n",
    "    - in jupyter notebooks, we use the 'inline' backend\n",
    "\n",
    "\n",
    "- Artist Layer\n",
    "    - Contains containers such as Figure, Subplot, and axes\n",
    "    - Contains primitives, such as a Line2D and Rectangle, and collections\n",
    "\n",
    "- Scripting Layer\n",
    "    - Simplifies access to the artist and backend layers"
   ]
  },
  {
   "cell_type": "code",
   "execution_count": null,
   "id": "84d856de",
   "metadata": {},
   "outputs": [],
   "source": []
  }
 ],
 "metadata": {
  "kernelspec": {
   "display_name": "Python 3 (ipykernel)",
   "language": "python",
   "name": "python3"
  },
  "language_info": {
   "codemirror_mode": {
    "name": "ipython",
    "version": 3
   },
   "file_extension": ".py",
   "mimetype": "text/x-python",
   "name": "python",
   "nbconvert_exporter": "python",
   "pygments_lexer": "ipython3",
   "version": "3.11.5"
  }
 },
 "nbformat": 4,
 "nbformat_minor": 5
}

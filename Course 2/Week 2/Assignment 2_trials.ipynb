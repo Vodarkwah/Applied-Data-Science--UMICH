{
 "cells": [
  {
   "cell_type": "code",
   "execution_count": 2,
   "id": "d342fff3",
   "metadata": {},
   "outputs": [
    {
     "data": {
      "application/javascript": [
       "IPython.OutputArea.prototype._should_scroll = function(lines) {\n",
       "    return false; // disable scroll bar when displaying Folium map\n",
       "}\n"
      ],
      "text/plain": [
       "<IPython.core.display.Javascript object>"
      ]
     },
     "metadata": {},
     "output_type": "display_data"
    }
   ],
   "source": [
    "%%javascript\n",
    "IPython.OutputArea.prototype._should_scroll = function(lines) {\n",
    "    return false; // disable scroll bar when displaying Folium map\n",
    "}"
   ]
  },
  {
   "cell_type": "markdown",
   "id": "7e847364",
   "metadata": {},
   "source": [
    "# Assignment 2\n",
    "\n",
    "Before working on this assignment please read these instructions fully. In the submission area, you will notice that you can click the link to **Preview the Grading** for each step of the assignment. This is the criteria that will be used for peer grading. Please familiarize yourself with the criteria before beginning the assignment.\n",
    "\n",
    "The data for this assignment comes from a subset of The National Centers for Environmental Information (NCEI) [Global Historical Climatology Network daily (GHCNd)](https://www.ncei.noaa.gov/products/land-based-station/global-historical-climatology-network-daily) (GHCN-Daily). The GHCN-Daily is comprised of daily climate records from thousands of land surface stations across the globe - it's a wonderfully large dataset to play with! In particular, you will be asked to use data from the Ann Arbor Michigan location (my home!). and this is stored in the file: `assets/fb441e62df2d58994928907a91895ec62c2c42e6cd075c2700843b89.csv`\n",
    "\n",
    "Each row in this datafile corresponds to a single observation from a weather station, and has the following variables:\n",
    "* **id** : station identification code\n",
    "* **date** : date in YYYY-MM-DD format (e.g. 2012-01-24 = January 24, 2012)\n",
    "* **element** : indicator of element type\n",
    "    * TMAX : Maximum temperature (tenths of degrees C)\n",
    "    * TMIN : Minimum temperature (tenths of degrees C)\n",
    "* **value** : data value for element (tenths of degrees C)\n",
    "\n",
    "For this assignment, you must:\n",
    "\n",
    "1. Read the documentation and familiarize yourself with the dataset, then write a python notebook which plots line graphs of the record high and record low temperatures by day of the year over the period 2005-2014. The area between the record high and record low temperatures for each day should be shaded.\n",
    "2. Overlay a scatter of the 2015 data for any points (highs and lows) for which the ten year record (2005-2014) record high or record low was broken in 2015. (Based on the graph, do you think extreme weather is getting more frequent in 2015?)\n",
    "3. Watch out for leap days (i.e. February 29th), it is reasonable to remove these points from the dataset for the purpose of this visualization.\n",
    "4. Make the visual nice! Leverage principles from the first module in this course when developing your solution. Consider issues such as legends, labels, and chart junk.\n",
    "\n",
    "I've written some steps I think would be good to go through, but there are other ways to solve this assignment so feel free to explore the pandas library! What I really want to see is an image that looks like this sketch I drew at my desk:\n",
    "\n",
    "![](assets/chris_sketch.png)"
   ]
  },
  {
   "cell_type": "code",
   "execution_count": 3,
   "id": "336f797d",
   "metadata": {},
   "outputs": [],
   "source": [
    "#  I'll be using the folium package to render the data into a map in Jupyter.\n",
    "\n",
    "import folium\n",
    "import pandas as pd\n",
    "\n",
    "# get the location information for this dataset\n",
    "df = pd.read_csv('assets/BinSize_d400.csv')\n",
    "# df[df['NAME']=='DUBAI INTL']\n",
    "\n",
    "station_locations_by_hash = df[df['hash'] == 'fb441e62df2d58994928907a91895ec62c2c42e6cd075c2700843b89']\n",
    "# station_locations_by_hash\n",
    "\n",
    "\n",
    "\n",
    "# # get longitude and lattitude to plot\n",
    "lons = station_locations_by_hash['LONGITUDE'].tolist() #basically converts to py list\n",
    "lats = station_locations_by_hash['LATITUDE'].tolist()\n",
    "# lats # python lsits\n",
    "\n",
    "# lons = station_locations_by_hash['LONGITUDE'] # trying to ignore the .tolist()\n",
    "# lats = station_locations_by_hash['LATITUDE']\n",
    "# lats # contains the index since this is a pandas series. So to make our work easier, we convert to py lists\n",
    "\n",
    "\n",
    "# plot on a beautiful folium map\n",
    "my_map = folium.Map(location = [lats[0], lons[0]], height = 500,  zoom_start = 9)\n",
    "for lat, lon in zip(lats, lons): # zip just creates a pair....\n",
    "    folium.Marker([lat, lon]).add_to(my_map)\n",
    "\n",
    "# render map in Jupyter\n",
    "# display(my_map)"
   ]
  },
  {
   "cell_type": "markdown",
   "id": "c10ab1a0",
   "metadata": {},
   "source": [
    "## Step 1\n",
    "Load the dataset and transform the data into Celsius (refer to documentation) then extract all of the rows which have minimum or maximum temperatures.\n",
    "\n",
    "__hint: when I did this step I had two DataFrame objects, each with ~80,000 entries in it__\n"
   ]
  },
  {
   "cell_type": "code",
   "execution_count": 57,
   "id": "26ae04b2",
   "metadata": {},
   "outputs": [],
   "source": [
    "import pandas as pd\n",
    "df = pd.read_csv('assets/fb441e62df2d58994928907a91895ec62c2c42e6cd075c2700843b89.csv')\n",
    "df['Temp_C'] = df['Data_Value']*.1\n",
    "# df"
   ]
  },
  {
   "cell_type": "code",
   "execution_count": 67,
   "id": "5bb2c51a",
   "metadata": {},
   "outputs": [],
   "source": [
    "# In this code cell, transform the Data_Value column\n",
    "\n",
    "# TMAX_df = df[df['Element']=='TMAX'] #83063 entries\n",
    "# TMIN_df = df[df['Element'] == 'TMIN'] #82022 entries\n",
    "\n",
    "# type(df['Date'].values)\n",
    "# df['Date'].values # str (why dont I manipulate the str??)\n"
   ]
  },
  {
   "cell_type": "code",
   "execution_count": null,
   "id": "1fddb5aa",
   "metadata": {},
   "outputs": [],
   "source": [
    "# Looking at Dr's plot, it consisted of plot of months"
   ]
  },
  {
   "cell_type": "code",
   "execution_count": 56,
   "id": "a03db34e",
   "metadata": {
    "scrolled": false
   },
   "outputs": [],
   "source": [
    "#  since they all (TMIN, TMAX) have the same ID, ill sort by id and try to remove the ones without any data points to match\n",
    "TMAX_df = TMAX_df.reset_index().set_index('ID') #stores the original ID val in the \n",
    "TMIN_df = TMIN_df.reset_index().set_index('ID')\n",
    "# TMAX_df = TMAX_df.reset_index().reset_index()\n",
    "# TMAX_df['level_0'] = TMAX_df['index']\n",
    "\n",
    "# TMAX_df"
   ]
  },
  {
   "cell_type": "code",
   "execution_count": 7,
   "id": "3b68b52a",
   "metadata": {},
   "outputs": [],
   "source": [
    "# another way to have renamed the index to make manipulation easy\n",
    "\n",
    "# TMAX_df.index.name = 'hello'\n",
    "# TMAX_df.reset_index()"
   ]
  },
  {
   "cell_type": "code",
   "execution_count": 8,
   "id": "a7110a4f",
   "metadata": {},
   "outputs": [],
   "source": [
    "# TMAX_df\n",
    "# TMIN_df.sort_index(ascending=True)"
   ]
  },
  {
   "cell_type": "code",
   "execution_count": 9,
   "id": "f946885d",
   "metadata": {},
   "outputs": [],
   "source": [
    "import matplotlib.pyplot as plt\n",
    "import pandas as pd\n",
    "import datetime as dt"
   ]
  },
  {
   "cell_type": "code",
   "execution_count": 10,
   "id": "79d7b23b",
   "metadata": {},
   "outputs": [],
   "source": [
    "TMAX_df['Date']=pd.to_datetime(TMAX_df['Date'])\n",
    "TMIN_df['Date']=pd.to_datetime(TMIN_df['Date'])"
   ]
  },
  {
   "cell_type": "code",
   "execution_count": 11,
   "id": "c77f42ce",
   "metadata": {},
   "outputs": [],
   "source": [
    "# plt.plot(TMAX_df['Date'], TMAX_df['Temp_C'])\n",
    "TMAX_df.reset_index(inplace=True)\n",
    "TMIN_df.reset_index(inplace=True)\n",
    "TMAX_df.set_index('Date',inplace=True)\n",
    "TMAX_df.sort_index(ascending=True, inplace = True)\n",
    "\n",
    "TMIN_df.set_index('Date',inplace=True)\n",
    "TMIN_df.sort_index(ascending=True, inplace = True)\n",
    "\n",
    "TMAX_df = TMAX_df.reset_index()\n",
    "TMIN_df = TMIN_df.reset_index()\n",
    "# len(TMAX_df['ID'].unique())\n"
   ]
  },
  {
   "cell_type": "code",
   "execution_count": 12,
   "id": "25ca8ea9",
   "metadata": {},
   "outputs": [],
   "source": [
    "# plt.scatter( TMAX_df['Date'], TMAX_df['Temp_C'], c='r')\n",
    "# plt.scatter(TMIN_df['Date'], TMIN_df['Temp_C'], c = 'g', linewidths=0.1, marker='*')\n",
    "# TMIN_df\n",
    "\n",
    "# len(TMAX_df['ID'].unique()) # 24 unique IDs, good point to apply groupby()\n",
    "\n",
    "\n",
    "TMAX_fin = TMAX_df.groupby('Date')['Temp_C'].max()\n",
    "TMIN_fin = TMIN_df.groupby('Date')['Temp_C'].min()\n",
    "\n"
   ]
  },
  {
   "cell_type": "code",
   "execution_count": 13,
   "id": "1ec0f190",
   "metadata": {},
   "outputs": [],
   "source": [
    "# TMAX_fin, \n",
    "# TMIN_fin\n",
    "\n",
    "# plt.scatter(TMAX_fin.index,TMAX_fin.values)\n",
    "\n",
    "# TMIN_df['Date'][~pd.DatetimeIndex((TMIN_df['Date'])).is_leap_year]"
   ]
  },
  {
   "cell_type": "markdown",
   "id": "12658846",
   "metadata": {},
   "source": [
    "# RE-SOLVING STEP 1"
   ]
  },
  {
   "cell_type": "markdown",
   "id": "06f4711c",
   "metadata": {},
   "source": [
    "## Step 1\n",
    "Load the dataset and transform the data into Celsius (refer to documentation) then extract all of the rows which have minimum or maximum temperatures.\n",
    "\n",
    "__hint: when I did this step I had two DataFrame objects, each with ~80,000 entries in it__\n"
   ]
  },
  {
   "cell_type": "code",
   "execution_count": 14,
   "id": "178d5280",
   "metadata": {},
   "outputs": [],
   "source": [
    "import pandas as pd\n",
    "import numpy as np\n",
    "# import datetime\n",
    "df = pd.read_csv('assets/fb441e62df2d58994928907a91895ec62c2c42e6cd075c2700843b89.csv')\n",
    "df['Temp_C'] = df['Data_Value']*.1    # converting Temp to Celcius\n",
    "\n",
    "df['Date'] = pd.to_datetime(df['Date']) # to convert to time-series data\n",
    "df = df[['ID', 'Date', 'Element', 'Temp_C']]\n",
    "# df['Element'].unique()\n",
    "\n",
    "\n"
   ]
  },
  {
   "cell_type": "code",
   "execution_count": 15,
   "id": "f3cf973e",
   "metadata": {},
   "outputs": [],
   "source": [
    "# we want to plot according to the date, so I am sorting the dates\n",
    "df = df.sort_values('Date')\n",
    "\n",
    "# MAXIMUM TEMP\n",
    "TMAX_df = df[df['Element']==\"TMAX\"]\n",
    "\n",
    "# MINIMUM TEMP\n",
    "TMIN_df = df[df['Element']==\"TMIN\"]\n",
    "\n",
    "# TMIN_df[TMIN_df['Date']==]"
   ]
  },
  {
   "cell_type": "code",
   "execution_count": 16,
   "id": "87345a39",
   "metadata": {},
   "outputs": [],
   "source": [
    "\n",
    "# there are 24 different IDs, hence I grouped according to IDs\n",
    "# new_df = df.groupby('ID')\n",
    "# new_df[new_df['Element']=='TMAX']\n",
    "\n",
    "\n",
    "# TMIN_df.plot(\"Date\") #, TMAX_df\n",
    "\n",
    "# df[df['Element']=='TMIN'].groupby('ID').agg({'Min': np.min, 'Max':np.max})\n"
   ]
  },
  {
   "cell_type": "code",
   "execution_count": 17,
   "id": "b711da64",
   "metadata": {},
   "outputs": [
    {
     "data": {
      "text/html": [
       "<div>\n",
       "<style scoped>\n",
       "    .dataframe tbody tr th:only-of-type {\n",
       "        vertical-align: middle;\n",
       "    }\n",
       "\n",
       "    .dataframe tbody tr th {\n",
       "        vertical-align: top;\n",
       "    }\n",
       "\n",
       "    .dataframe thead th {\n",
       "        text-align: right;\n",
       "    }\n",
       "</style>\n",
       "<table border=\"1\" class=\"dataframe\">\n",
       "  <thead>\n",
       "    <tr style=\"text-align: right;\">\n",
       "      <th></th>\n",
       "      <th>ID</th>\n",
       "      <th>Date</th>\n",
       "      <th>Element</th>\n",
       "      <th>Temp_C</th>\n",
       "    </tr>\n",
       "  </thead>\n",
       "  <tbody>\n",
       "    <tr>\n",
       "      <th>17153</th>\n",
       "      <td>USC00207320</td>\n",
       "      <td>2005-01-01</td>\n",
       "      <td>TMAX</td>\n",
       "      <td>15.0</td>\n",
       "    </tr>\n",
       "    <tr>\n",
       "      <th>10073</th>\n",
       "      <td>USW00014833</td>\n",
       "      <td>2005-01-01</td>\n",
       "      <td>TMAX</td>\n",
       "      <td>3.3</td>\n",
       "    </tr>\n",
       "    <tr>\n",
       "      <th>60994</th>\n",
       "      <td>USW00004848</td>\n",
       "      <td>2005-01-01</td>\n",
       "      <td>TMAX</td>\n",
       "      <td>13.3</td>\n",
       "    </tr>\n",
       "    <tr>\n",
       "      <th>39454</th>\n",
       "      <td>USC00205563</td>\n",
       "      <td>2005-01-01</td>\n",
       "      <td>TMAX</td>\n",
       "      <td>2.8</td>\n",
       "    </tr>\n",
       "    <tr>\n",
       "      <th>18049</th>\n",
       "      <td>USW00014853</td>\n",
       "      <td>2005-01-01</td>\n",
       "      <td>TMAX</td>\n",
       "      <td>5.6</td>\n",
       "    </tr>\n",
       "    <tr>\n",
       "      <th>...</th>\n",
       "      <td>...</td>\n",
       "      <td>...</td>\n",
       "      <td>...</td>\n",
       "      <td>...</td>\n",
       "    </tr>\n",
       "    <tr>\n",
       "      <th>40650</th>\n",
       "      <td>USC00200228</td>\n",
       "      <td>2015-12-31</td>\n",
       "      <td>TMAX</td>\n",
       "      <td>0.0</td>\n",
       "    </tr>\n",
       "    <tr>\n",
       "      <th>32235</th>\n",
       "      <td>USC00207312</td>\n",
       "      <td>2015-12-31</td>\n",
       "      <td>TMAX</td>\n",
       "      <td>0.6</td>\n",
       "    </tr>\n",
       "    <tr>\n",
       "      <th>10639</th>\n",
       "      <td>USC00205050</td>\n",
       "      <td>2015-12-31</td>\n",
       "      <td>TMAX</td>\n",
       "      <td>0.0</td>\n",
       "    </tr>\n",
       "    <tr>\n",
       "      <th>45691</th>\n",
       "      <td>USC00200032</td>\n",
       "      <td>2015-12-31</td>\n",
       "      <td>TMAX</td>\n",
       "      <td>1.1</td>\n",
       "    </tr>\n",
       "    <tr>\n",
       "      <th>21088</th>\n",
       "      <td>USC00208202</td>\n",
       "      <td>2015-12-31</td>\n",
       "      <td>TMAX</td>\n",
       "      <td>0.0</td>\n",
       "    </tr>\n",
       "  </tbody>\n",
       "</table>\n",
       "<p>83063 rows × 4 columns</p>\n",
       "</div>"
      ],
      "text/plain": [
       "                ID       Date Element  Temp_C\n",
       "17153  USC00207320 2005-01-01    TMAX    15.0\n",
       "10073  USW00014833 2005-01-01    TMAX     3.3\n",
       "60994  USW00004848 2005-01-01    TMAX    13.3\n",
       "39454  USC00205563 2005-01-01    TMAX     2.8\n",
       "18049  USW00014853 2005-01-01    TMAX     5.6\n",
       "...            ...        ...     ...     ...\n",
       "40650  USC00200228 2015-12-31    TMAX     0.0\n",
       "32235  USC00207312 2015-12-31    TMAX     0.6\n",
       "10639  USC00205050 2015-12-31    TMAX     0.0\n",
       "45691  USC00200032 2015-12-31    TMAX     1.1\n",
       "21088  USC00208202 2015-12-31    TMAX     0.0\n",
       "\n",
       "[83063 rows x 4 columns]"
      ]
     },
     "execution_count": 17,
     "metadata": {},
     "output_type": "execute_result"
    }
   ],
   "source": [
    "TMAX_df"
   ]
  },
  {
   "cell_type": "code",
   "execution_count": 18,
   "id": "a537d3f4",
   "metadata": {},
   "outputs": [
    {
     "data": {
      "text/html": [
       "<div>\n",
       "<style scoped>\n",
       "    .dataframe tbody tr th:only-of-type {\n",
       "        vertical-align: middle;\n",
       "    }\n",
       "\n",
       "    .dataframe tbody tr th {\n",
       "        vertical-align: top;\n",
       "    }\n",
       "\n",
       "    .dataframe thead th {\n",
       "        text-align: right;\n",
       "    }\n",
       "</style>\n",
       "<table border=\"1\" class=\"dataframe\">\n",
       "  <thead>\n",
       "    <tr style=\"text-align: right;\">\n",
       "      <th></th>\n",
       "      <th>ID</th>\n",
       "      <th>Date</th>\n",
       "      <th>Element</th>\n",
       "      <th>Temp_C</th>\n",
       "    </tr>\n",
       "  </thead>\n",
       "  <tbody>\n",
       "    <tr>\n",
       "      <th>60995</th>\n",
       "      <td>USW00004848</td>\n",
       "      <td>2005-01-01</td>\n",
       "      <td>TMIN</td>\n",
       "      <td>0.0</td>\n",
       "    </tr>\n",
       "    <tr>\n",
       "      <th>17155</th>\n",
       "      <td>USC00207320</td>\n",
       "      <td>2005-01-01</td>\n",
       "      <td>TMIN</td>\n",
       "      <td>-1.1</td>\n",
       "    </tr>\n",
       "    <tr>\n",
       "      <th>10079</th>\n",
       "      <td>USW00014833</td>\n",
       "      <td>2005-01-01</td>\n",
       "      <td>TMIN</td>\n",
       "      <td>-4.4</td>\n",
       "    </tr>\n",
       "    <tr>\n",
       "      <th>2812</th>\n",
       "      <td>USC00203712</td>\n",
       "      <td>2005-01-01</td>\n",
       "      <td>TMIN</td>\n",
       "      <td>-5.0</td>\n",
       "    </tr>\n",
       "    <tr>\n",
       "      <th>24805</th>\n",
       "      <td>USW00094889</td>\n",
       "      <td>2005-01-01</td>\n",
       "      <td>TMIN</td>\n",
       "      <td>-5.6</td>\n",
       "    </tr>\n",
       "    <tr>\n",
       "      <th>...</th>\n",
       "      <td>...</td>\n",
       "      <td>...</td>\n",
       "      <td>...</td>\n",
       "      <td>...</td>\n",
       "    </tr>\n",
       "    <tr>\n",
       "      <th>40653</th>\n",
       "      <td>USC00200228</td>\n",
       "      <td>2015-12-31</td>\n",
       "      <td>TMIN</td>\n",
       "      <td>-1.1</td>\n",
       "    </tr>\n",
       "    <tr>\n",
       "      <th>39461</th>\n",
       "      <td>USC00202308</td>\n",
       "      <td>2015-12-31</td>\n",
       "      <td>TMIN</td>\n",
       "      <td>-1.1</td>\n",
       "    </tr>\n",
       "    <tr>\n",
       "      <th>10573</th>\n",
       "      <td>USC00205050</td>\n",
       "      <td>2015-12-31</td>\n",
       "      <td>TMIN</td>\n",
       "      <td>-1.7</td>\n",
       "    </tr>\n",
       "    <tr>\n",
       "      <th>10253</th>\n",
       "      <td>USC00201250</td>\n",
       "      <td>2015-12-31</td>\n",
       "      <td>TMIN</td>\n",
       "      <td>-0.6</td>\n",
       "    </tr>\n",
       "    <tr>\n",
       "      <th>29410</th>\n",
       "      <td>USC00200230</td>\n",
       "      <td>2015-12-31</td>\n",
       "      <td>TMIN</td>\n",
       "      <td>-1.7</td>\n",
       "    </tr>\n",
       "  </tbody>\n",
       "</table>\n",
       "<p>82022 rows × 4 columns</p>\n",
       "</div>"
      ],
      "text/plain": [
       "                ID       Date Element  Temp_C\n",
       "60995  USW00004848 2005-01-01    TMIN     0.0\n",
       "17155  USC00207320 2005-01-01    TMIN    -1.1\n",
       "10079  USW00014833 2005-01-01    TMIN    -4.4\n",
       "2812   USC00203712 2005-01-01    TMIN    -5.0\n",
       "24805  USW00094889 2005-01-01    TMIN    -5.6\n",
       "...            ...        ...     ...     ...\n",
       "40653  USC00200228 2015-12-31    TMIN    -1.1\n",
       "39461  USC00202308 2015-12-31    TMIN    -1.1\n",
       "10573  USC00205050 2015-12-31    TMIN    -1.7\n",
       "10253  USC00201250 2015-12-31    TMIN    -0.6\n",
       "29410  USC00200230 2015-12-31    TMIN    -1.7\n",
       "\n",
       "[82022 rows x 4 columns]"
      ]
     },
     "execution_count": 18,
     "metadata": {},
     "output_type": "execute_result"
    }
   ],
   "source": [
    "TMIN_df"
   ]
  },
  {
   "cell_type": "code",
   "execution_count": 19,
   "id": "ebd78181",
   "metadata": {},
   "outputs": [],
   "source": [
    "# Step 1 done"
   ]
  },
  {
   "cell_type": "markdown",
   "id": "f99704cd",
   "metadata": {},
   "source": [
    "## Step 2\n",
    "In order to visualize the data we would plot the min and max data for each day of the year between the years 2005 and 2014 across all weather stations. But we also need to find out when the min or max temperature in 2015 falls below the min or rises above the max for the previous decade.\n",
    "\n",
    "If you did step 1 you have two Series objects with min and max times for the years 2005 through 2015. You can use Pandas `groupby` to create max and min temperature Series objects across all weather stations for each day of these years, and you can deal with the records for February 29 (the leap year) by dropping them.\n",
    "\n",
    "__hint: when I finished this step, I had two DataFrame objects, each with exactly 4015 observations in them__"
   ]
  },
  {
   "cell_type": "code",
   "execution_count": 20,
   "id": "0cac5b32",
   "metadata": {},
   "outputs": [
    {
     "data": {
      "text/html": [
       "<div>\n",
       "<style scoped>\n",
       "    .dataframe tbody tr th:only-of-type {\n",
       "        vertical-align: middle;\n",
       "    }\n",
       "\n",
       "    .dataframe tbody tr th {\n",
       "        vertical-align: top;\n",
       "    }\n",
       "\n",
       "    .dataframe thead th {\n",
       "        text-align: right;\n",
       "    }\n",
       "</style>\n",
       "<table border=\"1\" class=\"dataframe\">\n",
       "  <thead>\n",
       "    <tr style=\"text-align: right;\">\n",
       "      <th></th>\n",
       "      <th>Temp_C</th>\n",
       "    </tr>\n",
       "    <tr>\n",
       "      <th>Date</th>\n",
       "      <th></th>\n",
       "    </tr>\n",
       "  </thead>\n",
       "  <tbody>\n",
       "    <tr>\n",
       "      <th>2005-01-01</th>\n",
       "      <td>-5.6</td>\n",
       "    </tr>\n",
       "    <tr>\n",
       "      <th>2005-01-02</th>\n",
       "      <td>-5.6</td>\n",
       "    </tr>\n",
       "    <tr>\n",
       "      <th>2005-01-03</th>\n",
       "      <td>0.0</td>\n",
       "    </tr>\n",
       "    <tr>\n",
       "      <th>2005-01-04</th>\n",
       "      <td>-3.9</td>\n",
       "    </tr>\n",
       "    <tr>\n",
       "      <th>2005-01-05</th>\n",
       "      <td>-9.4</td>\n",
       "    </tr>\n",
       "    <tr>\n",
       "      <th>...</th>\n",
       "      <td>...</td>\n",
       "    </tr>\n",
       "    <tr>\n",
       "      <th>2015-12-27</th>\n",
       "      <td>-0.6</td>\n",
       "    </tr>\n",
       "    <tr>\n",
       "      <th>2015-12-28</th>\n",
       "      <td>-3.9</td>\n",
       "    </tr>\n",
       "    <tr>\n",
       "      <th>2015-12-29</th>\n",
       "      <td>-3.9</td>\n",
       "    </tr>\n",
       "    <tr>\n",
       "      <th>2015-12-30</th>\n",
       "      <td>-2.2</td>\n",
       "    </tr>\n",
       "    <tr>\n",
       "      <th>2015-12-31</th>\n",
       "      <td>-5.6</td>\n",
       "    </tr>\n",
       "  </tbody>\n",
       "</table>\n",
       "<p>4017 rows × 1 columns</p>\n",
       "</div>"
      ],
      "text/plain": [
       "            Temp_C\n",
       "Date              \n",
       "2005-01-01    -5.6\n",
       "2005-01-02    -5.6\n",
       "2005-01-03     0.0\n",
       "2005-01-04    -3.9\n",
       "2005-01-05    -9.4\n",
       "...            ...\n",
       "2015-12-27    -0.6\n",
       "2015-12-28    -3.9\n",
       "2015-12-29    -3.9\n",
       "2015-12-30    -2.2\n",
       "2015-12-31    -5.6\n",
       "\n",
       "[4017 rows x 1 columns]"
      ]
     },
     "execution_count": 20,
     "metadata": {},
     "output_type": "execute_result"
    }
   ],
   "source": [
    "# create a DataFrame of maximum temperature by date\n",
    "# Max_T = TMAX_df.groupby('Date').agg({'Temp_C':[np.max,np.min]})\n",
    "# Max_T = TMAX_df.groupby('Element')\n",
    "\n",
    "Max_T = TMAX_df.groupby('Date').agg({'Temp_C':np.max})\n",
    "\n",
    "\n",
    "\n",
    "# # create a DataFrame of minimum temperatures by date\n",
    "Min_T = TMIN_df.groupby('Date').agg({'Temp_C':np.min})\n",
    "\n",
    "# Max_T[['Date','ID']]\n",
    "# type(Max_T)\n",
    "# Max_T\n",
    "Min_T"
   ]
  },
  {
   "cell_type": "code",
   "execution_count": 21,
   "id": "20d310ea",
   "metadata": {},
   "outputs": [],
   "source": [
    "# From 2005 to 2015, only 2 leap years (2008,2012). We are going to drop those 2 vals of FEB\n",
    "\n",
    "Max_T.loc['2008-02-29'] = np.nan\n",
    "Max_T.loc['2012-02-29'] = np.nan\n",
    "\n",
    "Min_T.loc['2008-02-29'] = np.nan\n",
    "Min_T.loc['2012-02-29'] = np.nan\n",
    "\n",
    "Max_T.dropna(inplace=True)\n",
    "Min_T.dropna(inplace=True)"
   ]
  },
  {
   "cell_type": "code",
   "execution_count": 55,
   "id": "0eb63659",
   "metadata": {},
   "outputs": [
    {
     "ename": "AttributeError",
     "evalue": "'DataFrame' object has no attribute 'datetime'",
     "output_type": "error",
     "traceback": [
      "\u001b[1;31m---------------------------------------------------------------------------\u001b[0m",
      "\u001b[1;31mAttributeError\u001b[0m                            Traceback (most recent call last)",
      "\u001b[1;32m~\\AppData\\Local\\Temp\\ipykernel_27232\\2161907910.py\u001b[0m in \u001b[0;36m?\u001b[1;34m()\u001b[0m\n\u001b[1;32m----> 1\u001b[1;33m \u001b[0mMax_T\u001b[0m\u001b[1;33m.\u001b[0m\u001b[0mdatetime\u001b[0m\u001b[1;33m.\u001b[0m\u001b[0myear\u001b[0m\u001b[1;33m\u001b[0m\u001b[1;33m\u001b[0m\u001b[0m\n\u001b[0m\u001b[0;32m      2\u001b[0m \u001b[1;31m# Min_T\u001b[0m\u001b[1;33m\u001b[0m\u001b[1;33m\u001b[0m\u001b[0m\n\u001b[0;32m      3\u001b[0m \u001b[1;33m\u001b[0m\u001b[0m\n\u001b[0;32m      4\u001b[0m \u001b[1;31m# Step 3 done I guess I have to group by element\u001b[0m\u001b[1;33m\u001b[0m\u001b[1;33m\u001b[0m\u001b[0m\n",
      "\u001b[1;32m~\\anaconda3\\Lib\\site-packages\\pandas\\core\\generic.py\u001b[0m in \u001b[0;36m?\u001b[1;34m(self, name)\u001b[0m\n\u001b[0;32m   5985\u001b[0m             \u001b[1;32mand\u001b[0m \u001b[0mname\u001b[0m \u001b[1;32mnot\u001b[0m \u001b[1;32min\u001b[0m \u001b[0mself\u001b[0m\u001b[1;33m.\u001b[0m\u001b[0m_accessors\u001b[0m\u001b[1;33m\u001b[0m\u001b[1;33m\u001b[0m\u001b[0m\n\u001b[0;32m   5986\u001b[0m             \u001b[1;32mand\u001b[0m \u001b[0mself\u001b[0m\u001b[1;33m.\u001b[0m\u001b[0m_info_axis\u001b[0m\u001b[1;33m.\u001b[0m\u001b[0m_can_hold_identifiers_and_holds_name\u001b[0m\u001b[1;33m(\u001b[0m\u001b[0mname\u001b[0m\u001b[1;33m)\u001b[0m\u001b[1;33m\u001b[0m\u001b[1;33m\u001b[0m\u001b[0m\n\u001b[0;32m   5987\u001b[0m         ):\n\u001b[0;32m   5988\u001b[0m             \u001b[1;32mreturn\u001b[0m \u001b[0mself\u001b[0m\u001b[1;33m[\u001b[0m\u001b[0mname\u001b[0m\u001b[1;33m]\u001b[0m\u001b[1;33m\u001b[0m\u001b[1;33m\u001b[0m\u001b[0m\n\u001b[1;32m-> 5989\u001b[1;33m         \u001b[1;32mreturn\u001b[0m \u001b[0mobject\u001b[0m\u001b[1;33m.\u001b[0m\u001b[0m__getattribute__\u001b[0m\u001b[1;33m(\u001b[0m\u001b[0mself\u001b[0m\u001b[1;33m,\u001b[0m \u001b[0mname\u001b[0m\u001b[1;33m)\u001b[0m\u001b[1;33m\u001b[0m\u001b[1;33m\u001b[0m\u001b[0m\n\u001b[0m",
      "\u001b[1;31mAttributeError\u001b[0m: 'DataFrame' object has no attribute 'datetime'"
     ]
    }
   ],
   "source": [
    "Max_T\n",
    "# Min_T\n",
    "\n",
    "# Step 3 done I guess I have to group by element\n"
   ]
  },
  {
   "cell_type": "code",
   "execution_count": 178,
   "id": "95ad8aaf",
   "metadata": {},
   "outputs": [
    {
     "data": {
      "text/html": [
       "<div>\n",
       "<style scoped>\n",
       "    .dataframe tbody tr th:only-of-type {\n",
       "        vertical-align: middle;\n",
       "    }\n",
       "\n",
       "    .dataframe tbody tr th {\n",
       "        vertical-align: top;\n",
       "    }\n",
       "\n",
       "    .dataframe thead th {\n",
       "        text-align: right;\n",
       "    }\n",
       "</style>\n",
       "<table border=\"1\" class=\"dataframe\">\n",
       "  <thead>\n",
       "    <tr style=\"text-align: right;\">\n",
       "      <th></th>\n",
       "      <th>Temp_C</th>\n",
       "    </tr>\n",
       "    <tr>\n",
       "      <th>Date</th>\n",
       "      <th></th>\n",
       "    </tr>\n",
       "  </thead>\n",
       "  <tbody>\n",
       "    <tr>\n",
       "      <th>2005-01-01</th>\n",
       "      <td>-5.6</td>\n",
       "    </tr>\n",
       "    <tr>\n",
       "      <th>2005-01-02</th>\n",
       "      <td>-5.6</td>\n",
       "    </tr>\n",
       "    <tr>\n",
       "      <th>2005-01-03</th>\n",
       "      <td>0.0</td>\n",
       "    </tr>\n",
       "    <tr>\n",
       "      <th>2005-01-04</th>\n",
       "      <td>-3.9</td>\n",
       "    </tr>\n",
       "    <tr>\n",
       "      <th>2005-01-05</th>\n",
       "      <td>-9.4</td>\n",
       "    </tr>\n",
       "    <tr>\n",
       "      <th>...</th>\n",
       "      <td>...</td>\n",
       "    </tr>\n",
       "    <tr>\n",
       "      <th>2015-12-27</th>\n",
       "      <td>-0.6</td>\n",
       "    </tr>\n",
       "    <tr>\n",
       "      <th>2015-12-28</th>\n",
       "      <td>-3.9</td>\n",
       "    </tr>\n",
       "    <tr>\n",
       "      <th>2015-12-29</th>\n",
       "      <td>-3.9</td>\n",
       "    </tr>\n",
       "    <tr>\n",
       "      <th>2015-12-30</th>\n",
       "      <td>-2.2</td>\n",
       "    </tr>\n",
       "    <tr>\n",
       "      <th>2015-12-31</th>\n",
       "      <td>-5.6</td>\n",
       "    </tr>\n",
       "  </tbody>\n",
       "</table>\n",
       "<p>4015 rows × 1 columns</p>\n",
       "</div>"
      ],
      "text/plain": [
       "            Temp_C\n",
       "Date              \n",
       "2005-01-01    -5.6\n",
       "2005-01-02    -5.6\n",
       "2005-01-03     0.0\n",
       "2005-01-04    -3.9\n",
       "2005-01-05    -9.4\n",
       "...            ...\n",
       "2015-12-27    -0.6\n",
       "2015-12-28    -3.9\n",
       "2015-12-29    -3.9\n",
       "2015-12-30    -2.2\n",
       "2015-12-31    -5.6\n",
       "\n",
       "[4015 rows x 1 columns]"
      ]
     },
     "execution_count": 178,
     "metadata": {},
     "output_type": "execute_result"
    }
   ],
   "source": [
    "Min_T"
   ]
  },
  {
   "cell_type": "markdown",
   "id": "2a8a292f",
   "metadata": {},
   "source": [
    "## Step 3\n",
    "Now that you have grouped the daily max and min temperatures for each day of the years 2005 through 2015, you can separate out the data for 2015. Then you can use the Pandas `groupby` function to find the max and min of the temperature data for each __day of the year__ for the 2005-2014 data.\n",
    "\n",
    "__hint: at the end of this step I had two DataFrames, one of maximum and the other of minimum values, which each had 365 observations in them. I also had another pair of similar DataFrames but only for the year 2015.__"
   ]
  },
  {
   "cell_type": "code",
   "execution_count": 52,
   "id": "53a6c952",
   "metadata": {},
   "outputs": [
    {
     "ename": "KeyError",
     "evalue": "'2015-31-12'",
     "output_type": "error",
     "traceback": [
      "\u001b[1;31m---------------------------------------------------------------------------\u001b[0m",
      "\u001b[1;31mKeyError\u001b[0m                                  Traceback (most recent call last)",
      "Cell \u001b[1;32mIn[52], line 4\u001b[0m\n\u001b[0;32m      2\u001b[0m fin \u001b[38;5;241m=\u001b[39m pd\u001b[38;5;241m.\u001b[39mmerge(Min_T, Max_T, on\u001b[38;5;241m=\u001b[39m \u001b[38;5;124m'\u001b[39m\u001b[38;5;124mDate\u001b[39m\u001b[38;5;124m'\u001b[39m)\u001b[38;5;241m.\u001b[39mreset_index()\n\u001b[0;32m      3\u001b[0m \u001b[38;5;66;03m# fin['2015-01-01']\u001b[39;00m\n\u001b[1;32m----> 4\u001b[0m fin\u001b[38;5;241m.\u001b[39mloc[\u001b[38;5;124m'\u001b[39m\u001b[38;5;124m2015-31-12\u001b[39m\u001b[38;5;124m'\u001b[39m]\n",
      "File \u001b[1;32m~\\anaconda3\\Lib\\site-packages\\pandas\\core\\indexing.py:1103\u001b[0m, in \u001b[0;36m_LocationIndexer.__getitem__\u001b[1;34m(self, key)\u001b[0m\n\u001b[0;32m   1100\u001b[0m axis \u001b[38;5;241m=\u001b[39m \u001b[38;5;28mself\u001b[39m\u001b[38;5;241m.\u001b[39maxis \u001b[38;5;129;01mor\u001b[39;00m \u001b[38;5;241m0\u001b[39m\n\u001b[0;32m   1102\u001b[0m maybe_callable \u001b[38;5;241m=\u001b[39m com\u001b[38;5;241m.\u001b[39mapply_if_callable(key, \u001b[38;5;28mself\u001b[39m\u001b[38;5;241m.\u001b[39mobj)\n\u001b[1;32m-> 1103\u001b[0m \u001b[38;5;28;01mreturn\u001b[39;00m \u001b[38;5;28mself\u001b[39m\u001b[38;5;241m.\u001b[39m_getitem_axis(maybe_callable, axis\u001b[38;5;241m=\u001b[39maxis)\n",
      "File \u001b[1;32m~\\anaconda3\\Lib\\site-packages\\pandas\\core\\indexing.py:1343\u001b[0m, in \u001b[0;36m_LocIndexer._getitem_axis\u001b[1;34m(self, key, axis)\u001b[0m\n\u001b[0;32m   1341\u001b[0m \u001b[38;5;66;03m# fall thru to straight lookup\u001b[39;00m\n\u001b[0;32m   1342\u001b[0m \u001b[38;5;28mself\u001b[39m\u001b[38;5;241m.\u001b[39m_validate_key(key, axis)\n\u001b[1;32m-> 1343\u001b[0m \u001b[38;5;28;01mreturn\u001b[39;00m \u001b[38;5;28mself\u001b[39m\u001b[38;5;241m.\u001b[39m_get_label(key, axis\u001b[38;5;241m=\u001b[39maxis)\n",
      "File \u001b[1;32m~\\anaconda3\\Lib\\site-packages\\pandas\\core\\indexing.py:1293\u001b[0m, in \u001b[0;36m_LocIndexer._get_label\u001b[1;34m(self, label, axis)\u001b[0m\n\u001b[0;32m   1291\u001b[0m \u001b[38;5;28;01mdef\u001b[39;00m \u001b[38;5;21m_get_label\u001b[39m(\u001b[38;5;28mself\u001b[39m, label, axis: AxisInt):\n\u001b[0;32m   1292\u001b[0m     \u001b[38;5;66;03m# GH#5567 this will fail if the label is not present in the axis.\u001b[39;00m\n\u001b[1;32m-> 1293\u001b[0m     \u001b[38;5;28;01mreturn\u001b[39;00m \u001b[38;5;28mself\u001b[39m\u001b[38;5;241m.\u001b[39mobj\u001b[38;5;241m.\u001b[39mxs(label, axis\u001b[38;5;241m=\u001b[39maxis)\n",
      "File \u001b[1;32m~\\anaconda3\\Lib\\site-packages\\pandas\\core\\generic.py:4095\u001b[0m, in \u001b[0;36mNDFrame.xs\u001b[1;34m(self, key, axis, level, drop_level)\u001b[0m\n\u001b[0;32m   4093\u001b[0m             new_index \u001b[38;5;241m=\u001b[39m index[loc]\n\u001b[0;32m   4094\u001b[0m \u001b[38;5;28;01melse\u001b[39;00m:\n\u001b[1;32m-> 4095\u001b[0m     loc \u001b[38;5;241m=\u001b[39m index\u001b[38;5;241m.\u001b[39mget_loc(key)\n\u001b[0;32m   4097\u001b[0m     \u001b[38;5;28;01mif\u001b[39;00m \u001b[38;5;28misinstance\u001b[39m(loc, np\u001b[38;5;241m.\u001b[39mndarray):\n\u001b[0;32m   4098\u001b[0m         \u001b[38;5;28;01mif\u001b[39;00m loc\u001b[38;5;241m.\u001b[39mdtype \u001b[38;5;241m==\u001b[39m np\u001b[38;5;241m.\u001b[39mbool_:\n",
      "File \u001b[1;32m~\\anaconda3\\Lib\\site-packages\\pandas\\core\\indexes\\range.py:349\u001b[0m, in \u001b[0;36mRangeIndex.get_loc\u001b[1;34m(self, key)\u001b[0m\n\u001b[0;32m    347\u001b[0m         \u001b[38;5;28;01mraise\u001b[39;00m \u001b[38;5;167;01mKeyError\u001b[39;00m(key) \u001b[38;5;28;01mfrom\u001b[39;00m \u001b[38;5;21;01merr\u001b[39;00m\n\u001b[0;32m    348\u001b[0m \u001b[38;5;28;01mif\u001b[39;00m \u001b[38;5;28misinstance\u001b[39m(key, Hashable):\n\u001b[1;32m--> 349\u001b[0m     \u001b[38;5;28;01mraise\u001b[39;00m \u001b[38;5;167;01mKeyError\u001b[39;00m(key)\n\u001b[0;32m    350\u001b[0m \u001b[38;5;28mself\u001b[39m\u001b[38;5;241m.\u001b[39m_check_indexing_error(key)\n\u001b[0;32m    351\u001b[0m \u001b[38;5;28;01mraise\u001b[39;00m \u001b[38;5;167;01mKeyError\u001b[39;00m(key)\n",
      "\u001b[1;31mKeyError\u001b[0m: '2015-31-12'"
     ]
    }
   ],
   "source": [
    "# calculate the minimum and maximum values for the day of the year for 2005 through 2014\n",
    "fin = pd.merge(Min_T, Max_T, on= 'Date').reset_index()\n",
    "# fin['2015-01-01']\n",
    "# fin.loc['2015-31-12']\n",
    "# calculate the minimum and maximum values for the years 2015"
   ]
  },
  {
   "cell_type": "code",
   "execution_count": 201,
   "id": "b2346b05",
   "metadata": {},
   "outputs": [
    {
     "data": {
      "text/plain": [
       "366"
      ]
     },
     "execution_count": 201,
     "metadata": {},
     "output_type": "execute_result"
    }
   ],
   "source": [
    "# plt.scatter(Max_T.index.day_of_year, Max_T['Temp_C'])\n",
    "# plt.scatter(Min_T.index.day_of_year, Min_T['Temp_C'])\n",
    "\n",
    "MINNN = Min_T.groupby(Min_T.index.).agg({'Temp_C':np.min})\n"
   ]
  },
  {
   "cell_type": "code",
   "execution_count": null,
   "id": "7ece10c2",
   "metadata": {},
   "outputs": [],
   "source": []
  },
  {
   "cell_type": "markdown",
   "id": "f20c4c99",
   "metadata": {},
   "source": [
    "## Step 4\n",
    "Now it's time to plot! You need to explore matplotlib in order to plot line graphs of the min and max temperatures for the years 2005 through 2014 and to scatter plot __only__ the daily 2015 temperatures that exceeded those values."
   ]
  },
  {
   "cell_type": "code",
   "execution_count": 27,
   "id": "7fa987b8",
   "metadata": {},
   "outputs": [],
   "source": [
    "import matplotlib.pyplot as plt\n",
    "from calendar import month_abbr\n",
    "\n",
    "# put your plotting code here!"
   ]
  },
  {
   "cell_type": "code",
   "execution_count": null,
   "id": "0c85d945",
   "metadata": {},
   "outputs": [],
   "source": []
  }
 ],
 "metadata": {
  "kernelspec": {
   "display_name": "Python 3 (ipykernel)",
   "language": "python",
   "name": "python3"
  },
  "language_info": {
   "codemirror_mode": {
    "name": "ipython",
    "version": 3
   },
   "file_extension": ".py",
   "mimetype": "text/x-python",
   "name": "python",
   "nbconvert_exporter": "python",
   "pygments_lexer": "ipython3",
   "version": "3.11.5"
  }
 },
 "nbformat": 4,
 "nbformat_minor": 5
}

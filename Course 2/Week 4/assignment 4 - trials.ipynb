{
 "cells": [
  {
   "cell_type": "markdown",
   "id": "f3c18d87",
   "metadata": {},
   "source": [
    "# Assignment 4\n",
    "\n",
    "Before working on this assignment please read these instructions fully. In the submission area, you will notice that you can click the link to **Preview the Grading** for each step of the assignment. This is the criteria that will be used for peer grading. Please familiarize yourself with the criteria before beginning the assignment.\n",
    "\n",
    "This assignment requires that you find **at least two datasets** on the web which are related, and that you visualize these datasets to answer the assignment question. You are free to utilize datasets with any location or domain, the usage of **Ann Arbor sports and athletics** datasets in the example is just a suggestion.\n",
    "\n",
    "You are welcome to choose datasets at your discretion, but keep in mind **they will be shared with your peers**, so choose appropriate datasets. Sensitive, confidential, illicit, and proprietary materials are not good choices for datasets for this assignment. You are welcome to upload datasets of your own as well, and link to them using a third party repository such as github, pastebin, etc. Please be aware of the Coursera terms of service with respect to intellectual property.\n",
    "\n",
    "Also, you are welcome to preserve data in its original language, but for the purposes of grading you should provide english translations. You are welcome to provide multiple visuals in different languages if you would like!\n",
    "\n",
    "As this assignment is for the whole course, you must incorporate principles discussed in the first week, such as having as high data-ink ratio (Tufte) and aligning with Cairo’s principles of truth, beauty, function, and insight.\n",
    "\n",
    "Here are the assignment instructions:\n",
    "\n",
    " * You must state a question you are seeking to answer with your visualizations.\n",
    " * You must provide at least two links to available datasets. These could be links to files such as CSV or Excel files, or links to websites which might have data in tabular form, such as Wikipedia pages.\n",
    " * You must upload an image which addresses the research question you stated. In addition to addressing the question, this visual should follow Cairo's principles of truthfulness, functionality, beauty, and insightfulness.\n",
    " * You must contribute a short (1-2 paragraph) written justification of how your visualization addresses your stated research question.\n",
    "\n",
    "## Tips\n",
    "* Wikipedia is an excellent source of data, and I strongly encourage you to explore it for new data sources.\n",
    "* Many governments run open data initiatives at the city, region, and country levels, and these are wonderful resources for localized data sources.\n",
    "* Several international agencies, such as the [United Nations](http://data.un.org/), the [World Bank](http://data.worldbank.org/), the [Global Open Data Index](http://index.okfn.org/place/) are other great places to look for data.\n",
    "* This assignment requires you to convert and clean datafiles. Check out the discussion forums for tips on how to do this from various sources, and share your successes with your fellow students!\n",
    "\n",
    "## Example\n",
    "Looking for an example? Here's what our course assistant put together as an example! [Example Solution File](./Assignment4_example.pdf)"
   ]
  },
  {
   "cell_type": "code",
   "execution_count": null,
   "id": "2bc9cd94",
   "metadata": {},
   "outputs": [],
   "source": [
    "import pandas as pd\n",
    "import numpy as np"
   ]
  },
  {
   "cell_type": "code",
   "execution_count": null,
   "id": "13de1c7d",
   "metadata": {},
   "outputs": [],
   "source": [
    "GDP_df = pd.read_csv('./GDP.csv', encoding='Latin-1', skiprows=[0])\n",
    "GDP_df.columns[[0,2,4]]\n",
    "GDP_df['Series'].unique()"
   ]
  },
  {
   "cell_type": "code",
   "execution_count": null,
   "id": "84786ea8",
   "metadata": {},
   "outputs": [],
   "source": [
    "GDP = GDP_df[(GDP_df['Series']=='GDP per capita (US dollars)')]\n",
    "GDP.rename(columns={'Unnamed: 1':'Country', 'Value':'GDP per capita (US dollars)', 'Region/Country/Area':'Code'}, inplace = True)\n",
    "GDP.drop(columns=['Footnotes','Source', 'Series'], inplace=True)\n",
    "\n",
    "\n",
    "GDP2 = GDP_df[(GDP_df['Series']=='GDP in current prices (millions of US dollars)')]\n",
    "GDP2.rename(columns={'Unnamed: 1':'Country', 'Value':'GDP in current prices (millions of US dollars)', 'Region/Country/Area':'Code'}, inplace = True)\n",
    "GDP2.drop(columns=['Footnotes','Source', 'Series'], inplace=True)\n",
    "\n",
    "\n"
   ]
  },
  {
   "cell_type": "code",
   "execution_count": null,
   "id": "f27ced13",
   "metadata": {},
   "outputs": [],
   "source": [
    "# GDP \n",
    "GDP2"
   ]
  },
  {
   "cell_type": "code",
   "execution_count": null,
   "id": "8ddec057",
   "metadata": {},
   "outputs": [],
   "source": [
    "\n",
    "GDP['GDP per capita (US dollars)'] = GDP['GDP per capita (US dollars)'].str.replace(',','').astype(float)\n",
    "GDP2['GDP in current prices (millions of US dollars)'] = GDP2['GDP in current prices (millions of US dollars)'].str.replace(',','').astype(float)\n",
    "GDP2\n",
    "# GDP.info()"
   ]
  },
  {
   "cell_type": "code",
   "execution_count": null,
   "id": "e3a0a319",
   "metadata": {},
   "outputs": [],
   "source": [
    "# GDP.groupby('Country').sum()\n",
    "\n",
    "# Removing continents since I am dealing with countries\n",
    "len(GDP['Code'].unique())\n",
    "\n",
    "GDP_df = pd.merge(GDP, GDP2, on = ['Country', 'Year', 'Code'], how = 'inner')"
   ]
  },
  {
   "cell_type": "code",
   "execution_count": null,
   "id": "1fc0739a",
   "metadata": {},
   "outputs": [],
   "source": [
    "#  Filtering out non-countries, i.e continents and sub-continents\n",
    "GDP_Reg = GDP_df[(GDP_df['Code'].isin([1,2,15,202,14,17,18,11,19,21,419,29,\n",
    "                      13, 5, 142, 143, 30, 35, 34, 145, 150,\n",
    "                      151, 154, 39, 155, 9, 53, 54, 57, 61]))]\n",
    "\n",
    "\n",
    "# GDP by country\n",
    "\n",
    "GDP_by_country = GDP_df[~(GDP_df['Code'].isin([1,2,15,202,14,17,18,11,19,21,419,29,\n",
    "                      13, 5, 142, 143, 30, 35, 34, 145, 150,\n",
    "                      151, 154, 39, 155, 9, 53, 54, 57, 61]))]"
   ]
  },
  {
   "cell_type": "code",
   "execution_count": null,
   "id": "cb85c7cb",
   "metadata": {},
   "outputs": [],
   "source": [
    "GDP_by_country"
   ]
  },
  {
   "cell_type": "code",
   "execution_count": null,
   "id": "fd72fd79",
   "metadata": {},
   "outputs": [],
   "source": [
    "GDP_df2 = GDP_by_country.groupby(['Country', 'Year']).max()\n",
    "GDP_df2"
   ]
  },
  {
   "cell_type": "code",
   "execution_count": null,
   "id": "a29d0d16",
   "metadata": {},
   "outputs": [],
   "source": [
    "# len(GDP_df.index.get_level_values('Country').unique())\n",
    "\n",
    "# [print(i) for i in GDP_df.index.get_level_values('Country').unique()]"
   ]
  },
  {
   "cell_type": "code",
   "execution_count": null,
   "id": "a5faf343",
   "metadata": {
    "scrolled": true
   },
   "outputs": [],
   "source": [
    "# Handling the CO2 emssions data\n",
    "\n",
    "CO2 = pd.read_csv('./CO2 emission.csv', encoding='Latin-1', skiprows=[0])\n",
    "CO2"
   ]
  },
  {
   "cell_type": "code",
   "execution_count": null,
   "id": "07e45326",
   "metadata": {},
   "outputs": [],
   "source": [
    "# CO2.columns\n",
    "CO2['Series'].unique()\n",
    "\n",
    "# Looking at the CO2 emmsions per capita to make it tally with the GDP per capita data\n",
    "CO2_perCapita = CO2[~(CO2['Series'] == 'Emissions (thousand metric tons of carbon dioxide)')]\n",
    "CO2_perCapita"
   ]
  },
  {
   "cell_type": "code",
   "execution_count": null,
   "id": "5910da6a",
   "metadata": {},
   "outputs": [],
   "source": [
    "# Cleaning my data\n",
    "\n",
    "CO2_perCapita.rename(columns={'Region/Country/Area':'Code','Unnamed: 1':'Country',\n",
    "                   'Value':'Emissions per capita (Mt CO2)'}, inplace = True)\n",
    "\n",
    "CO2_perCapita.drop(columns=['Footnotes', 'Source', 'Series'], inplace = True)\n"
   ]
  },
  {
   "cell_type": "code",
   "execution_count": null,
   "id": "c370798e",
   "metadata": {},
   "outputs": [],
   "source": [
    "len(CO2_perCapita['Code'].unique()) # 149 countries, so we'd have to filter countries based on Codes"
   ]
  },
  {
   "cell_type": "code",
   "execution_count": null,
   "id": "1f8c8f01",
   "metadata": {},
   "outputs": [],
   "source": [
    "len(CO2_perCapita['Country'].unique())\n",
    "\n",
    "CO2_perCapita['Emissions per capita (Mt CO2)'] = CO2_perCapita['Emissions per capita (Mt CO2)'].astype(float)\n",
    "\n",
    "CO2_perCapita"
   ]
  },
  {
   "cell_type": "code",
   "execution_count": null,
   "id": "d765482b",
   "metadata": {},
   "outputs": [],
   "source": [
    "CO2_df = CO2_perCapita.groupby(['Country', 'Year']).max()"
   ]
  },
  {
   "cell_type": "code",
   "execution_count": null,
   "id": "aae579cc",
   "metadata": {
    "scrolled": true
   },
   "outputs": [],
   "source": [
    "# CO2_df['Emissions per capita (Mt CO2)'].cumsum()\n",
    "# CO2_df['Emissions per capita (Mt CO2)'].\n",
    "\n",
    "# Cumm sum of each country's emission\n",
    "cum_CO2_emmisions = CO2_df.groupby('Country')['Emissions per capita (Mt CO2)'].cumsum()\n",
    "CO2_df['Cummulative CO2 Emmisions per capita (MtCO2)'] = cum_CO2_emmisions.values\n",
    "\n",
    "# CO2_df.groupby('Country')['Emissions per capita (Mt CO2)'].cumsum()\n"
   ]
  },
  {
   "cell_type": "code",
   "execution_count": null,
   "id": "f579070d",
   "metadata": {},
   "outputs": [],
   "source": [
    "CO2_df\n",
    "# GDP_df"
   ]
  },
  {
   "cell_type": "code",
   "execution_count": null,
   "id": "2f768aeb",
   "metadata": {},
   "outputs": [],
   "source": [
    "df = pd.merge(CO2_df, GDP_df2, how='inner', left_index=True, right_index=True)"
   ]
  },
  {
   "cell_type": "code",
   "execution_count": null,
   "id": "9915fd0b",
   "metadata": {},
   "outputs": [],
   "source": [
    "# CO2_df['Code'].unique()\n",
    "df"
   ]
  },
  {
   "cell_type": "code",
   "execution_count": null,
   "id": "042e654c",
   "metadata": {},
   "outputs": [],
   "source": [
    "# list(df.index.get_level_values('Country').unique())"
   ]
  },
  {
   "cell_type": "code",
   "execution_count": null,
   "id": "4fddf531",
   "metadata": {},
   "outputs": [],
   "source": [
    "df.drop(columns=['Code_x', 'Code_y'], inplace = True)"
   ]
  },
  {
   "cell_type": "code",
   "execution_count": null,
   "id": "d14fd413",
   "metadata": {},
   "outputs": [],
   "source": [
    "# df.index.get_level_values('Year').unique()\n",
    "df.index.get_level_values('Country').unique()"
   ]
  },
  {
   "cell_type": "code",
   "execution_count": null,
   "id": "eef4b2a6",
   "metadata": {},
   "outputs": [],
   "source": [
    "Years = df.index.get_level_values('Year').unique()\n",
    "Countries = df.index.get_level_values('Country').unique()"
   ]
  },
  {
   "cell_type": "code",
   "execution_count": null,
   "id": "f25b570a",
   "metadata": {},
   "outputs": [],
   "source": [
    "df.loc['United States of America', 2020]"
   ]
  },
  {
   "cell_type": "code",
   "execution_count": null,
   "id": "4d4f7abf",
   "metadata": {},
   "outputs": [],
   "source": [
    "df"
   ]
  },
  {
   "cell_type": "code",
   "execution_count": null,
   "id": "249a6d90",
   "metadata": {},
   "outputs": [],
   "source": [
    "# import matplotlib.pyplot as plt\n",
    "\n",
    "# plt.figure(figsize=(10, 6))\n",
    "# plt.plot(df['Cummulative CO2 Emmisions per capita (MtCO2)'], label='Cumulative CO2 Emissions per capita (MtCO2)', marker='o')\n",
    "# plt.plot(df['GDP per capita (US dollars)'], label='GDP per capita (US dollars)', marker='o')\n"
   ]
  },
  {
   "cell_type": "code",
   "execution_count": null,
   "id": "12b9d93d",
   "metadata": {},
   "outputs": [],
   "source": [
    "import matplotlib.pyplot as plt\n",
    "\n",
    "# Assuming df is your DataFrame containing the data\n",
    "# Flatten multi-level index\n",
    "# df.reset_index(inplace=True)\n",
    "\n",
    "# Extract necessary columns\n",
    "years = df.index.get_level_values('Year')\n",
    "cumulative_CO2 = df['Cummulative CO2 Emmisions per capita (MtCO2)']\n",
    "GDP_per_capita = df['GDP per capita (US dollars)']\n",
    "\n",
    "# Plotting\n",
    "plt.figure(figsize=(10, 6))\n",
    "plt.plot(years, cumulative_CO2, label='Cumulative CO2 Emissions per capita (MtCO2)', marker='o')\n",
    "plt.plot(years, GDP_per_capita, label='GDP per capita (US dollars)', marker='x')\n",
    "\n",
    "# Add labels and title\n",
    "plt.xlabel('Year')\n",
    "plt.ylabel('Values')\n",
    "plt.title('Cumulative CO2 Emissions per capita vs GDP per capita')\n",
    "plt.legend()\n",
    "plt.grid(True)\n",
    "\n",
    "# Show plot\n",
    "plt.show()\n"
   ]
  },
  {
   "cell_type": "code",
   "execution_count": null,
   "id": "27be12b0",
   "metadata": {},
   "outputs": [],
   "source": [
    "\n",
    "import matplotlib.pyplot as plt\n",
    "\n",
    "# Assuming df is your DataFrame containing the data\n",
    "# Flatten multi-level index\n",
    "# df.reset_index(inplace=True)\n",
    "\n",
    "# Extract necessary columns\n",
    "years = df.index.get_level_values('Year')\n",
    "cumulative_CO2 = df['Cummulative CO2 Emmisions per capita (MtCO2)']\n",
    "GDP_per_capita = df['GDP per capita (US dollars)']\n",
    "\n",
    "# Plotting\n",
    "fig, ax1 = plt.subplots(figsize=(10, 6))\n",
    "\n",
    "# Plot GDP per capita on primary axis\n",
    "ax1.plot(years, GDP_per_capita, label='GDP per capita (US dollars)', color='blue', marker='o')\n",
    "ax1.set_xlabel('Year')\n",
    "ax1.set_ylabel('GDP per capita (US dollars)')\n",
    "# ax1.tick_params(axis='y', labelcolor='blue')\n",
    "\n",
    "# Create secondary axis for cumulative CO2 emissions\n",
    "ax2 = ax1.twinx()\n",
    "ax2.plot(years, cumulative_CO2, label='Cumulative CO2 Emissions per capita (MtCO2)', color='red', marker='x')\n",
    "ax2.set_ylabel('Cumulative CO2 Emissions per capita (MtCO2)')\n",
    "# ax2.tick_params(axis='y', labelcolor='red')\n",
    "\n",
    "# Add legend\n",
    "lines_1, labels_1 = ax1.get_legend_handles_labels() # main legend. (using ax1.legend() and ax2.legend() individually does not appear well)\n",
    "lines_2, labels_2 = ax2.get_legend_handles_labels()  #for rhe secondary plot\n",
    "ax1.legend(lines_1 + lines_2, labels_1 + labels_2, loc='upper left')\n",
    "\n",
    "# Add title\n",
    "plt.title('GDP per capita and Cumulative CO2 Emissions per capita')\n",
    "\n",
    "# Show plot\n",
    "plt.show()\n"
   ]
  },
  {
   "cell_type": "code",
   "execution_count": null,
   "id": "1f1b567a",
   "metadata": {},
   "outputs": [],
   "source": [
    "# dir(ax1)\n",
    "# ax1.get_legend_handles_labels()\n",
    "# ax2.get_legend_handles_labels()\n",
    "\n"
   ]
  },
  {
   "cell_type": "code",
   "execution_count": null,
   "id": "eaa6eea1",
   "metadata": {},
   "outputs": [],
   "source": [
    "import matplotlib.pyplot as plt\n",
    "import ipywidgets as widgets\n",
    "from ipywidgets import interact\n",
    "\n",
    "# Function to plot GDP and cumulative CO2 emissions for a selected country\n",
    "def plot_country_data(country):\n",
    "    country_data = df.loc[country]\n",
    "    # Plotting\n",
    "    fig, ax1 = plt.subplots(figsize=(10, 6))\n",
    "\n",
    "    # Plot GDP per capita on primary axis\n",
    "    ax1.plot(years, GDP_per_capita, label='GDP per capita (US dollars)', color='blue', marker='o')\n",
    "    ax1.set_xlabel('Year')\n",
    "    ax1.set_ylabel('GDP per capita (US dollars)')\n",
    "    # ax1.tick_params(axis='y', labelcolor='blue')\n",
    "\n",
    "    # Create secondary axis for cumulative CO2 emissions\n",
    "    ax2 = ax1.twinx()\n",
    "    ax2.plot(years, cumulative_CO2, label='Cumulative CO2 Emissions per capita (MtCO2)', color='red', marker='x')\n",
    "    ax2.set_ylabel('Cumulative CO2 Emissions per capita (MtCO2)')\n",
    "    # ax2.tick_params(axis='y', labelcolor='red')\n",
    "\n",
    "    # Add legend\n",
    "    lines_1, labels_1 = ax1.get_legend_handles_labels() # main legend. (using ax1.legend() and ax2.legend() individually does not appear well)\n",
    "    lines_2, labels_2 = ax2.get_legend_handles_labels()  #for rhe secondary plot\n",
    "    ax1.legend(lines_1 + lines_2, labels_1 + labels_2, loc='upper left')\n",
    "\n",
    "    \n",
    "    plt.title(f'{country} - GDP per capita vs Cumulative CO2 Emissions per capita')\n",
    "    plt.legend()\n",
    "    plt.grid(True)\n",
    "    plt.show()\n",
    "\n",
    "# Get unique countries from the DataFrame\n",
    "countries = df.index.get_level_values('Country').unique()\n",
    "\n",
    "# Create dropdown widget for selecting countries\n",
    "country_dropdown = widgets.Dropdown(\n",
    "    options=countries,\n",
    "    description='Country:',\n",
    "    disabled=False,\n",
    ")\n",
    "\n",
    "# Interact function to update plot based on selected country\n",
    "@interact(country=country_dropdown)\n",
    "def update_plot(country):\n",
    "    plot_country_data(country)\n"
   ]
  },
  {
   "cell_type": "code",
   "execution_count": null,
   "id": "2fa9e2b6",
   "metadata": {},
   "outputs": [],
   "source": [
    "import matplotlib.pyplot as plt\n",
    "import ipywidgets as widgets\n",
    "from ipywidgets import interact\n",
    "\n",
    "# Function to plot GDP and cumulative CO2 emissions for a selected country\n",
    "def plot_country_data(country):\n",
    "    country_data = df.loc[country]\n",
    "    years = country_data.index\n",
    "    GDP_per_capita = country_data['GDP per capita (US dollars)']\n",
    "    cumulative_CO2 = country_data['Cummulative CO2 Emmisions per capita (MtCO2)']\n",
    "    \n",
    "    plt.figure(figsize=(10, 6))\n",
    "    plt.plot(years, GDP_per_capita, label='GDP per capita (US dollars)', marker='o')\n",
    "    plt.plot(years, cumulative_CO2, label='Cumulative CO2 Emissions per capita (MtCO2)', marker='o')\n",
    "    \n",
    "    plt.xlabel('Year')\n",
    "    plt.ylabel('Values')\n",
    "    plt.title(f'{country} - GDP per capita vs Cumulative CO2 Emissions per capita')\n",
    "    plt.legend()\n",
    "    plt.grid(True)\n",
    "    plt.show()\n",
    "\n",
    "# Set index name for levels\n",
    "df.index.names = ['Country', 'Year']\n",
    "\n",
    "# Get unique countries from the DataFrame\n",
    "countries = df.index.get_level_values('Country').unique()\n",
    "\n",
    "# Create dropdown widget for selecting countries\n",
    "country_dropdown = widgets.Dropdown(\n",
    "    options=countries,\n",
    "    description='Country:',\n",
    "    disabled=False,\n",
    ")\n",
    "\n",
    "# Interact function to update plot based on selected country\n",
    "@interact(country=country_dropdown)\n",
    "def update_plot(country):\n",
    "    plot_country_data(country)\n"
   ]
  },
  {
   "cell_type": "code",
   "execution_count": null,
   "id": "e49128b8",
   "metadata": {},
   "outputs": [],
   "source": [
    "df"
   ]
  },
  {
   "cell_type": "code",
   "execution_count": null,
   "id": "cf92b512",
   "metadata": {},
   "outputs": [],
   "source": [
    "import matplotlib.pyplot as plt\n",
    "import ipywidgets as widgets\n",
    "from ipywidgets import interact\n",
    "\n",
    "# Function to plot GDP and cumulative CO2 emissions for a selected country\n",
    "def plot_country_data(country, gdp_type):\n",
    "    country_data = df.loc[country]\n",
    "    years = country_data.index.get_level_values('Year')\n",
    "    \n",
    "    if gdp_type == 'GDP per capita (US dollars)':\n",
    "        gdp = country_data['GDP per capita (US dollars)']\n",
    "    else:\n",
    "        gdp = country_data['GDP in current prices (millions of US dollars)']\n",
    "    \n",
    "    cumulative_CO2 = country_data['Cummulative CO2 Emmisions per capita (MtCO2)']\n",
    "    \n",
    "    # Plotting\n",
    "    fig, ax1 = plt.subplots(figsize=(10, 6))\n",
    "\n",
    "    # Plot GDP on primary axis\n",
    "    ax1.plot(years, gdp, label=gdp_type, color='blue', marker='o')\n",
    "    ax1.set_xlabel('Year')\n",
    "    ax1.set_ylabel(gdp_type)\n",
    "    \n",
    "    # Create secondary axis for cumulative CO2 emissions\n",
    "    ax2 = ax1.twinx()\n",
    "    ax2.plot(years, cumulative_CO2, label='Cumulative CO2 Emissions per capita (MtCO2)', color='red', marker='x')\n",
    "    ax2.set_ylabel('Cumulative CO2 Emissions per capita (MtCO2)')\n",
    "    \n",
    "    # Add legend\n",
    "    lines_1, labels_1 = ax1.get_legend_handles_labels() # main legend.\n",
    "    lines_2, labels_2 = ax2.get_legend_handles_labels()  # secondary plot\n",
    "    ax1.legend(lines_1 + lines_2, labels_1 + labels_2, loc='upper left')\n",
    "\n",
    "    plt.title(f'{country} - {gdp_type} vs Cumulative CO2 Emissions per capita')\n",
    "#     plt.grid(True)\n",
    "    plt.show()\n",
    "\n",
    "# Get unique countries from the DataFrame\n",
    "countries = df.index.get_level_values('Country').unique()\n",
    "\n",
    "# Create dropdown widget for selecting countries\n",
    "country_dropdown = widgets.Dropdown(\n",
    "    options=countries,\n",
    "    description='Country:',\n",
    "    disabled=False,\n",
    ")\n",
    "\n",
    "# Create dropdown widget for selecting GDP type\n",
    "gdp_dropdown = widgets.Dropdown(\n",
    "    options=['GDP per capita (US dollars)', 'GDP in current prices (millions of US dollars)'],\n",
    "    description='GDP Type:',\n",
    "    disabled=False,\n",
    ")\n",
    "\n",
    "# Interact function to update plot based on selected country and GDP type\n",
    "@interact(country=country_dropdown, gdp_type=gdp_dropdown)\n",
    "def update_plot(country, gdp_type):\n",
    "    plot_country_data(country, gdp_type)\n"
   ]
  },
  {
   "cell_type": "markdown",
   "id": "38db3b20",
   "metadata": {},
   "source": [
    "### Reorganizing Assignment 4\n"
   ]
  },
  {
   "cell_type": "code",
   "execution_count": 5,
   "id": "b2661ed5",
   "metadata": {},
   "outputs": [],
   "source": [
    "# ============== Importing the necessary Libraries =================\n",
    "import pandas as pd\n",
    "import numpy as np\n",
    "import matplotlib.pyplot as plt\n",
    "import ipywidgets as widgets\n",
    "from ipywidgets import interact\n",
    "\n",
    "\n",
    "def cleaned_df():\n",
    "    #================ Dealing with the GDP df ============================\n",
    "    GDP_df = pd.read_csv('./GDP.csv', encoding='Latin-1', skiprows=[0])\n",
    "    \n",
    "    # GDP per capita data extraction\n",
    "    GDP = GDP_df[(GDP_df['Series']=='GDP per capita (US dollars)')]\n",
    "    GDP.rename(columns={'Unnamed: 1':'Country', 'Value':'GDP per capita (US dollars)', 'Region/Country/Area':'Code'}, inplace = True)\n",
    "    GDP.drop(columns=['Footnotes','Source', 'Series'], inplace=True)\n",
    "\n",
    "    # GDP in current prices data extraction\n",
    "    GDP2 = GDP_df[(GDP_df['Series']=='GDP in current prices (millions of US dollars)')]     # selecting relvent rows from the df\n",
    "    GDP2.rename(columns={'Unnamed: 1':'Country', 'Value':'GDP in current prices (millions of US dollars)', 'Region/Country/Area':'Code'}, inplace = True)\n",
    "    GDP2.drop(columns=['Footnotes','Source', 'Series'], inplace=True)  # removing irrelevant cols\n",
    "\n",
    "    GDP['GDP per capita (US dollars)'] = GDP['GDP per capita (US dollars)'].str.replace(',','').astype(float)\n",
    "    GDP2['GDP in current prices (millions of US dollars)'] = GDP2['GDP in current prices (millions of US dollars)'].str.replace(',','').astype(float)\n",
    "    # GDP2\n",
    "    \n",
    "    # Merging the 2 GDP df since they have similar rows except their GDP values \n",
    "    GDP_df = pd.merge(GDP, GDP2, on = ['Country', 'Year', 'Code'], how = 'inner')\n",
    "    # GDP_df\n",
    "    \n",
    "    #  Filtering out non-countries, i.e continents and sub-continents\n",
    "    GDP_Reg = GDP_df[(GDP_df['Code'].isin([1,2,15,202,14,17,18,11,19,21,419,29,\n",
    "                          13, 5, 142, 143, 30, 35, 34, 145, 150,\n",
    "                          151, 154, 39, 155, 9, 53, 54, 57, 61]))] # GDP based on the region, continent or sub-continent\n",
    "\n",
    "    # GDP by country\n",
    "    GDP_by_country = GDP_df[~(GDP_df['Code'].isin([1,2,15,202,14,17,18,11,19,21,419,29,\n",
    "                          13, 5, 142, 143, 30, 35, 34, 145, 150,\n",
    "                          151, 154, 39, 155, 9, 53, 54, 57, 61]))] # Assigned the GDP values to the countries\n",
    "    \n",
    "    GDP_df2 = GDP_by_country.groupby(['Country', 'Year']).max() # sort the df using the country and year (Multi-Index)\n",
    "    # GDP_df2\n",
    "    \n",
    "    \n",
    "    \n",
    "    # ================= Handling the CO2 emssions data ===========================\n",
    "    CO2 = pd.read_csv('./CO2 emission.csv', encoding='Latin-1', skiprows=[0])\n",
    "    # CO2\n",
    "    \n",
    "    # Looking at the CO2 emmsions per capita to make it tally with the GDP data\n",
    "    CO2_perCapita = CO2[~(CO2['Series'] == 'Emissions (thousand metric tons of carbon dioxide)')]\n",
    "    # CO2_perCapita\n",
    "   \n",
    "    # Cleaning the CO2 data\n",
    "\n",
    "    CO2_perCapita.rename(columns={'Region/Country/Area':'Code','Unnamed: 1':'Country',\n",
    "                       'Value':'Emissions per capita (Mt CO2)'}, inplace = True)\n",
    "\n",
    "    CO2_perCapita.drop(columns=['Footnotes', 'Source', 'Series'], inplace = True)\n",
    "    CO2_perCapita['Emissions per capita (Mt CO2)'] = CO2_perCapita['Emissions per capita (Mt CO2)'].astype(float) # convert to float since intial dtype is str\n",
    "    \n",
    "    CO2_df = CO2_perCapita.groupby(['Country', 'Year']).max() # Group CO2 df\n",
    "    \n",
    "    # Cumm sum of each country's emission\n",
    "    cum_CO2_emmisions = CO2_df.groupby('Country')['Emissions per capita (Mt CO2)'].cumsum() # this cumsum is based on the country\n",
    "    CO2_df['Cummulative CO2 Emmisions per capita (MtCO2)'] = cum_CO2_emmisions.values # new col to store the cumsum\n",
    "\n",
    "    \n",
    "    # ==================== Merging the 2 df (i.e. CO2 and GDP) ===========================\n",
    "    df = pd.merge(CO2_df, GDP_df2, how='inner', left_index=True, right_index=True)\n",
    "    df.drop(columns=['Code_x', 'Code_y'], inplace = True)\n",
    "    \n",
    "    \n",
    "    \n",
    "    return df\n"
   ]
  },
  {
   "cell_type": "code",
   "execution_count": 17,
   "id": "43fc50e0",
   "metadata": {},
   "outputs": [
    {
     "data": {
      "application/vnd.jupyter.widget-view+json": {
       "model_id": "6f90f59c4208459292b3d533b221e9a9",
       "version_major": 2,
       "version_minor": 0
      },
      "text/plain": [
       "interactive(children=(Dropdown(description='Country:', options=('Albania', 'Algeria', 'Angola', 'Argentina', '…"
      ]
     },
     "metadata": {},
     "output_type": "display_data"
    }
   ],
   "source": [
    "# cleaned_df()\n",
    "\n",
    "import warnings\n",
    "\n",
    "# Ignore the warning\n",
    "warnings.filterwarnings('ignore')\n",
    "\n",
    "global cleaned_df\n",
    "df = cleaned_df()\n",
    "\n",
    "\n",
    "# Function to plot GDP and cumulative CO2 emissions for a selected country\n",
    "def plot_country_data(country, gdp_type): # these inputs are from the interact df, which allows the function to update itself.\n",
    "    global cleaned_df \n",
    "    df = cleaned_df()\n",
    "    \n",
    "    country_data = df.loc[country] # so depending on the selected country, various info regarding it will show up. You can try df.loc['Ghana']\n",
    "    years = country_data.index.get_level_values('Year') # getting the year from that particular country whcih is of interest in line 17 above\n",
    "    \n",
    "    # Deciding the kind of GDP plots (Because we have 2 different GDP plots)\n",
    "    if gdp_type == 'GDP per capita (US dollars)':\n",
    "        gdp = country_data['GDP per capita (US dollars)']\n",
    "    else:\n",
    "        gdp = country_data['GDP in current prices (millions of US dollars)']\n",
    "    \n",
    "    cumulative_CO2 = country_data['Cummulative CO2 Emmisions per capita (MtCO2)'] # secondary axis which is the cumm CO2 emmissions\n",
    "    \n",
    "    # Plotting\n",
    "    fig, ax1 = plt.subplots(figsize=(10, 6))\n",
    "\n",
    "    # Plot GDP on primary axis\n",
    "    ax1.plot(years, gdp, label=gdp_type, color='blue')\n",
    "    ax1.set_xlabel('Year')\n",
    "    ax1.set_ylabel(gdp_type)\n",
    "    \n",
    "    # Create secondary axis for cumulative CO2 emissions\n",
    "    ax2 = ax1.twinx()\n",
    "    ax2.plot(years, cumulative_CO2, label='Cumulative CO2 Emissions per capita (MtCO2)', color='red')\n",
    "    ax2.set_ylabel('Cumulative CO2 Emissions per capita (MtCO2)')\n",
    "    \n",
    "    # Add legend\n",
    "    lines_1, labels_1 = ax1.get_legend_handles_labels() # main legend.\n",
    "    lines_2, labels_2 = ax2.get_legend_handles_labels()  # secondary plot\n",
    "    ax1.legend(lines_1 + lines_2, labels_1 + labels_2, loc='upper left')\n",
    "\n",
    "    plt.title(f'Plot of {gdp_type} vs Cumulative CO2 Emissions per capita \\n for {country}')\n",
    "#     plt.grid(True)\n",
    "    plt.show()\n",
    "\n",
    "# ================ End of plot function ========================================================= \n",
    "    \n",
    "    \n",
    "# Get unique countries from the DataFrame\n",
    "countries = df.index.get_level_values('Country').unique() # specifically for the dropdown\n",
    "\n",
    "# Create dropdown widget for selecting countries\n",
    "country_dropdown = widgets.Dropdown(\n",
    "    options=countries,\n",
    "    description='Country:',\n",
    "    disabled=False,\n",
    ")\n",
    "\n",
    "# Create dropdown widget for selecting GDP type\n",
    "gdp_dropdown = widgets.Dropdown(\n",
    "    options=['GDP per capita (US dollars)', 'GDP in current prices (millions of US dollars)'],\n",
    "    description='GDP Type:',\n",
    "    disabled=False,\n",
    ")\n",
    "\n",
    "# Interact function to update plot based on selected country and GDP type\n",
    "@interact(country=country_dropdown, gdp_type=gdp_dropdown) # these values are used to fill in the plot function\n",
    "def update_plot(country, gdp_type):\n",
    "    plot_country_data(country, gdp_type)\n",
    "\n"
   ]
  },
  {
   "cell_type": "code",
   "execution_count": null,
   "id": "5c44e2e1",
   "metadata": {},
   "outputs": [],
   "source": []
  }
 ],
 "metadata": {
  "kernelspec": {
   "display_name": "Python 3 (ipykernel)",
   "language": "python",
   "name": "python3"
  },
  "language_info": {
   "codemirror_mode": {
    "name": "ipython",
    "version": 3
   },
   "file_extension": ".py",
   "mimetype": "text/x-python",
   "name": "python",
   "nbconvert_exporter": "python",
   "pygments_lexer": "ipython3",
   "version": "3.11.5"
  }
 },
 "nbformat": 4,
 "nbformat_minor": 5
}

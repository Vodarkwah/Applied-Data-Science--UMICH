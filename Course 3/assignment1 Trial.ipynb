{
 "cells": [
  {
   "cell_type": "markdown",
   "metadata": {
    "deletable": false,
    "editable": false,
    "nbgrader": {
     "cell_type": "markdown",
     "checksum": "f3a04b67f89399433b0541d03f8be2e3",
     "grade": false,
     "grade_id": "cell-65747df3c6245b2c",
     "locked": true,
     "schema_version": 3,
     "solution": false,
     "task": false
    }
   },
   "source": [
    "---\n",
    "\n",
    "_You are currently looking at **version 0.1** of this notebook. To download notebooks and datafiles, as well as get help on Jupyter notebooks in the Coursera platform, visit the Jupyter Notebook FAQ course resource._\n",
    "\n",
    "---"
   ]
  },
  {
   "cell_type": "markdown",
   "metadata": {
    "deletable": false,
    "editable": false,
    "nbgrader": {
     "cell_type": "markdown",
     "checksum": "c4f9948171656badb51a386c46cf47b6",
     "grade": false,
     "grade_id": "cell-7feb82402c6b9b03",
     "locked": true,
     "schema_version": 3,
     "solution": false,
     "task": false
    }
   },
   "source": [
    "# Assignment 1 - Introduction to Machine Learning\n",
    "\n",
    "For this assignment, you will be using the Breast Cancer Wisconsin (Diagnostic) Database to create a classifier that can help diagnose patients. First, read through the description of the dataset (below)."
   ]
  },
  {
   "cell_type": "code",
   "execution_count": 23,
   "metadata": {
    "deletable": false,
    "editable": false,
    "nbgrader": {
     "cell_type": "code",
     "checksum": "08d6050968940b6cc77d5ebd169dd0a2",
     "grade": false,
     "grade_id": "cell-a29ffda2dfe21c88",
     "locked": true,
     "schema_version": 3,
     "solution": false,
     "task": false
    }
   },
   "outputs": [
    {
     "name": "stdout",
     "output_type": "stream",
     "text": [
      ".. _breast_cancer_dataset:\n",
      "\n",
      "Breast cancer wisconsin (diagnostic) dataset\n",
      "--------------------------------------------\n",
      "\n",
      "**Data Set Characteristics:**\n",
      "\n",
      "    :Number of Instances: 569\n",
      "\n",
      "    :Number of Attributes: 30 numeric, predictive attributes and the class\n",
      "\n",
      "    :Attribute Information:\n",
      "        - radius (mean of distances from center to points on the perimeter)\n",
      "        - texture (standard deviation of gray-scale values)\n",
      "        - perimeter\n",
      "        - area\n",
      "        - smoothness (local variation in radius lengths)\n",
      "        - compactness (perimeter^2 / area - 1.0)\n",
      "        - concavity (severity of concave portions of the contour)\n",
      "        - concave points (number of concave portions of the contour)\n",
      "        - symmetry\n",
      "        - fractal dimension (\"coastline approximation\" - 1)\n",
      "\n",
      "        The mean, standard error, and \"worst\" or largest (mean of the three\n",
      "        worst/largest values) of these features were computed for each image,\n",
      "        resulting in 30 features.  For instance, field 0 is Mean Radius, field\n",
      "        10 is Radius SE, field 20 is Worst Radius.\n",
      "\n",
      "        - class:\n",
      "                - WDBC-Malignant\n",
      "                - WDBC-Benign\n",
      "\n",
      "    :Summary Statistics:\n",
      "\n",
      "    ===================================== ====== ======\n",
      "                                           Min    Max\n",
      "    ===================================== ====== ======\n",
      "    radius (mean):                        6.981  28.11\n",
      "    texture (mean):                       9.71   39.28\n",
      "    perimeter (mean):                     43.79  188.5\n",
      "    area (mean):                          143.5  2501.0\n",
      "    smoothness (mean):                    0.053  0.163\n",
      "    compactness (mean):                   0.019  0.345\n",
      "    concavity (mean):                     0.0    0.427\n",
      "    concave points (mean):                0.0    0.201\n",
      "    symmetry (mean):                      0.106  0.304\n",
      "    fractal dimension (mean):             0.05   0.097\n",
      "    radius (standard error):              0.112  2.873\n",
      "    texture (standard error):             0.36   4.885\n",
      "    perimeter (standard error):           0.757  21.98\n",
      "    area (standard error):                6.802  542.2\n",
      "    smoothness (standard error):          0.002  0.031\n",
      "    compactness (standard error):         0.002  0.135\n",
      "    concavity (standard error):           0.0    0.396\n",
      "    concave points (standard error):      0.0    0.053\n",
      "    symmetry (standard error):            0.008  0.079\n",
      "    fractal dimension (standard error):   0.001  0.03\n",
      "    radius (worst):                       7.93   36.04\n",
      "    texture (worst):                      12.02  49.54\n",
      "    perimeter (worst):                    50.41  251.2\n",
      "    area (worst):                         185.2  4254.0\n",
      "    smoothness (worst):                   0.071  0.223\n",
      "    compactness (worst):                  0.027  1.058\n",
      "    concavity (worst):                    0.0    1.252\n",
      "    concave points (worst):               0.0    0.291\n",
      "    symmetry (worst):                     0.156  0.664\n",
      "    fractal dimension (worst):            0.055  0.208\n",
      "    ===================================== ====== ======\n",
      "\n",
      "    :Missing Attribute Values: None\n",
      "\n",
      "    :Class Distribution: 212 - Malignant, 357 - Benign\n",
      "\n",
      "    :Creator:  Dr. William H. Wolberg, W. Nick Street, Olvi L. Mangasarian\n",
      "\n",
      "    :Donor: Nick Street\n",
      "\n",
      "    :Date: November, 1995\n",
      "\n",
      "This is a copy of UCI ML Breast Cancer Wisconsin (Diagnostic) datasets.\n",
      "https://goo.gl/U2Uwz2\n",
      "\n",
      "Features are computed from a digitized image of a fine needle\n",
      "aspirate (FNA) of a breast mass.  They describe\n",
      "characteristics of the cell nuclei present in the image.\n",
      "\n",
      "Separating plane described above was obtained using\n",
      "Multisurface Method-Tree (MSM-T) [K. P. Bennett, \"Decision Tree\n",
      "Construction Via Linear Programming.\" Proceedings of the 4th\n",
      "Midwest Artificial Intelligence and Cognitive Science Society,\n",
      "pp. 97-101, 1992], a classification method which uses linear\n",
      "programming to construct a decision tree.  Relevant features\n",
      "were selected using an exhaustive search in the space of 1-4\n",
      "features and 1-3 separating planes.\n",
      "\n",
      "The actual linear program used to obtain the separating plane\n",
      "in the 3-dimensional space is that described in:\n",
      "[K. P. Bennett and O. L. Mangasarian: \"Robust Linear\n",
      "Programming Discrimination of Two Linearly Inseparable Sets\",\n",
      "Optimization Methods and Software 1, 1992, 23-34].\n",
      "\n",
      "This database is also available through the UW CS ftp server:\n",
      "\n",
      "ftp ftp.cs.wisc.edu\n",
      "cd math-prog/cpo-dataset/machine-learn/WDBC/\n",
      "\n",
      ".. topic:: References\n",
      "\n",
      "   - W.N. Street, W.H. Wolberg and O.L. Mangasarian. Nuclear feature extraction \n",
      "     for breast tumor diagnosis. IS&T/SPIE 1993 International Symposium on \n",
      "     Electronic Imaging: Science and Technology, volume 1905, pages 861-870,\n",
      "     San Jose, CA, 1993.\n",
      "   - O.L. Mangasarian, W.N. Street and W.H. Wolberg. Breast cancer diagnosis and \n",
      "     prognosis via linear programming. Operations Research, 43(4), pages 570-577, \n",
      "     July-August 1995.\n",
      "   - W.H. Wolberg, W.N. Street, and O.L. Mangasarian. Machine learning techniques\n",
      "     to diagnose breast cancer from fine-needle aspirates. Cancer Letters 77 (1994) \n",
      "     163-171.\n"
     ]
    }
   ],
   "source": [
    "import numpy as np\n",
    "import pandas as pd\n",
    "from sklearn.datasets import load_breast_cancer\n",
    "\n",
    "cancer = load_breast_cancer()\n",
    "\n",
    "print(cancer.DESCR) # Print the data set description"
   ]
  },
  {
   "cell_type": "markdown",
   "metadata": {
    "deletable": false,
    "editable": false,
    "nbgrader": {
     "cell_type": "markdown",
     "checksum": "7905d987b6c56b8731411f7af07c7abc",
     "grade": false,
     "grade_id": "cell-74d5f2dc70a1e5a2",
     "locked": true,
     "schema_version": 3,
     "solution": false,
     "task": false
    }
   },
   "source": [
    "The object returned by `load_breast_cancer()` is a scikit-learn Bunch object, which is similar to a dictionary."
   ]
  },
  {
   "cell_type": "code",
   "execution_count": 24,
   "metadata": {
    "deletable": false,
    "editable": false,
    "nbgrader": {
     "cell_type": "code",
     "checksum": "c3df4f494470ebf1c0c1c3ef9b18fc4c",
     "grade": false,
     "grade_id": "cell-9b947b4ddf5b392a",
     "locked": true,
     "schema_version": 3,
     "solution": false,
     "task": false
    }
   },
   "outputs": [
    {
     "data": {
      "text/plain": [
       "dict_keys(['data', 'target', 'frame', 'target_names', 'DESCR', 'feature_names', 'filename', 'data_module'])"
      ]
     },
     "execution_count": 24,
     "metadata": {},
     "output_type": "execute_result"
    }
   ],
   "source": [
    "cancer.keys()"
   ]
  },
  {
   "cell_type": "code",
   "execution_count": 25,
   "metadata": {},
   "outputs": [
    {
     "data": {
      "text/plain": [
       "array([[1.799e+01, 1.038e+01, 1.228e+02, ..., 2.654e-01, 4.601e-01,\n",
       "        1.189e-01],\n",
       "       [2.057e+01, 1.777e+01, 1.329e+02, ..., 1.860e-01, 2.750e-01,\n",
       "        8.902e-02],\n",
       "       [1.969e+01, 2.125e+01, 1.300e+02, ..., 2.430e-01, 3.613e-01,\n",
       "        8.758e-02],\n",
       "       ...,\n",
       "       [1.660e+01, 2.808e+01, 1.083e+02, ..., 1.418e-01, 2.218e-01,\n",
       "        7.820e-02],\n",
       "       [2.060e+01, 2.933e+01, 1.401e+02, ..., 2.650e-01, 4.087e-01,\n",
       "        1.240e-01],\n",
       "       [7.760e+00, 2.454e+01, 4.792e+01, ..., 0.000e+00, 2.871e-01,\n",
       "        7.039e-02]])"
      ]
     },
     "execution_count": 25,
     "metadata": {},
     "output_type": "execute_result"
    }
   ],
   "source": [
    "len(cancer.feature_names)\n",
    "cancer.data\n"
   ]
  },
  {
   "cell_type": "markdown",
   "metadata": {
    "deletable": false,
    "editable": false,
    "nbgrader": {
     "cell_type": "markdown",
     "checksum": "8b494c5aa1ae3f2168a95383bf374cae",
     "grade": false,
     "grade_id": "cell-0b08e35de159eb4f",
     "locked": true,
     "schema_version": 3,
     "solution": false,
     "task": false
    }
   },
   "source": [
    "### Question 0 (Example)\n",
    "\n",
    "How many features does the breast cancer dataset have?\n",
    "\n",
    "*This function should return an integer.*"
   ]
  },
  {
   "cell_type": "code",
   "execution_count": 26,
   "metadata": {
    "deletable": false,
    "nbgrader": {
     "cell_type": "code",
     "checksum": "055490cd0e299721890c9b2596857bc9",
     "grade": false,
     "grade_id": "cell-0084d28ec0751f46",
     "locked": false,
     "schema_version": 3,
     "solution": true,
     "task": false
    }
   },
   "outputs": [
    {
     "data": {
      "text/plain": [
       "30"
      ]
     },
     "execution_count": 26,
     "metadata": {},
     "output_type": "execute_result"
    }
   ],
   "source": [
    "# You should write your whole answer within the function provided. The autograder will call\n",
    "# this function and compare the return value against the correct solution value\n",
    "def answer_zero():\n",
    "    # This function returns the number of features of the breast cancer dataset, which is an integer. \n",
    "    # The assignment question description will tell you the general format the autograder is expecting\n",
    "    \n",
    "    # YOUR CODE HERE\n",
    "    return len(cancer.feature_names)\n",
    "    raise NotImplementedError()\n",
    "\n",
    "# You can examine what your function returns by calling it in the cell. If you have questions\n",
    "# about the assignment formats, check out the discussion forums for any FAQs\n",
    "answer_zero()"
   ]
  },
  {
   "cell_type": "code",
   "execution_count": null,
   "metadata": {
    "deletable": false,
    "editable": false,
    "nbgrader": {
     "cell_type": "code",
     "checksum": "241d8b281073d240023de6ed38c198c2",
     "grade": true,
     "grade_id": "cell-d2933751632e1611",
     "locked": true,
     "points": 1,
     "schema_version": 3,
     "solution": false,
     "task": false
    }
   },
   "outputs": [],
   "source": []
  },
  {
   "cell_type": "markdown",
   "metadata": {
    "deletable": false,
    "editable": false,
    "nbgrader": {
     "cell_type": "markdown",
     "checksum": "4913149d7778a25e9da500b0b448533f",
     "grade": false,
     "grade_id": "cell-d0c0f34a6f932a17",
     "locked": true,
     "schema_version": 3,
     "solution": false,
     "task": false
    }
   },
   "source": [
    "### Question 1\n",
    "\n",
    "Scikit-learn works with lists, numpy arrays, scipy-sparse matrices, and pandas DataFrames, so converting the dataset to a DataFrame is not necessary for training this model. Using a DataFrame does however help make many things easier such as munging data, so let's practice creating a classifier with a pandas DataFrame. \n",
    "\n",
    "\n",
    "\n",
    "Convert the sklearn.dataset `cancer` to a DataFrame. \n",
    "\n",
    "*This function should return a `(569, 31)` DataFrame with * \n",
    "\n",
    "*columns = *\n",
    "\n",
    "    ['mean radius', 'mean texture', 'mean perimeter', 'mean area',\n",
    "    'mean smoothness', 'mean compactness', 'mean concavity',\n",
    "    'mean concave points', 'mean symmetry', 'mean fractal dimension',\n",
    "    'radius error', 'texture error', 'perimeter error', 'area error',\n",
    "    'smoothness error', 'compactness error', 'concavity error',\n",
    "    'concave points error', 'symmetry error', 'fractal dimension error',\n",
    "    'worst radius', 'worst texture', 'worst perimeter', 'worst area',\n",
    "    'worst smoothness', 'worst compactness', 'worst concavity',\n",
    "    'worst concave points', 'worst symmetry', 'worst fractal dimension',\n",
    "    'target']\n",
    "\n",
    "*and index = *\n",
    "\n",
    "    RangeIndex(start=0, stop=569, step=1)"
   ]
  },
  {
   "cell_type": "code",
   "execution_count": 27,
   "metadata": {},
   "outputs": [
    {
     "data": {
      "text/plain": [
       "array(['malignant', 'benign'], dtype='<U9')"
      ]
     },
     "execution_count": 27,
     "metadata": {},
     "output_type": "execute_result"
    }
   ],
   "source": [
    "c_df = pd.DataFrame(cancer.data) # to convert to df\n",
    "c_df.columns = cancer.feature_names # add the titles\n",
    "# c_df\n",
    "\n",
    "# Need to add the target since the features are essentially output files\n",
    "# \n",
    "cancer.target_names\n",
    "# cancer.target"
   ]
  },
  {
   "cell_type": "code",
   "execution_count": 28,
   "metadata": {
    "deletable": false,
    "nbgrader": {
     "cell_type": "code",
     "checksum": "d229a72747414cccade940ae4fd98107",
     "grade": false,
     "grade_id": "cell-23a242567f6acefe",
     "locked": false,
     "schema_version": 3,
     "solution": true,
     "task": false
    }
   },
   "outputs": [
    {
     "data": {
      "text/plain": [
       "(569, 31)"
      ]
     },
     "execution_count": 28,
     "metadata": {},
     "output_type": "execute_result"
    }
   ],
   "source": [
    "def answer_one():\n",
    "    # YOUR CODE HERE\n",
    "    df = pd.DataFrame(data=cancer.data, columns=cancer.feature_names)\n",
    "    df['target'] = cancer.target\n",
    "    \n",
    "    return df.shape\n",
    "    raise NotImplementedError()\n",
    "\n",
    "answer_one()"
   ]
  },
  {
   "cell_type": "code",
   "execution_count": 29,
   "metadata": {},
   "outputs": [
    {
     "data": {
      "text/plain": [
       "0    malignant\n",
       "1       benign\n",
       "Name: target, dtype: object"
      ]
     },
     "execution_count": 29,
     "metadata": {},
     "output_type": "execute_result"
    }
   ],
   "source": [
    "pd.Series(cancer.target_names, name='target')"
   ]
  },
  {
   "cell_type": "code",
   "execution_count": null,
   "metadata": {
    "deletable": false,
    "editable": false,
    "nbgrader": {
     "cell_type": "code",
     "checksum": "6cdf66c2c96da4d6abdd52b82acd8c96",
     "grade": true,
     "grade_id": "cell-2dea923f2da8db76",
     "locked": true,
     "points": 1,
     "schema_version": 3,
     "solution": false,
     "task": false
    }
   },
   "outputs": [],
   "source": []
  },
  {
   "cell_type": "code",
   "execution_count": 30,
   "metadata": {},
   "outputs": [],
   "source": [
    "df = pd.DataFrame(data=cancer.data, columns=cancer.feature_names)\n",
    "df['target'] = cancer.target\n",
    "class_distribution = df['target'].value_counts()\n",
    "\n",
    "# df['target'].value_counts()\n",
    "\n",
    "# Rename the index to 'malignant' and 'benign'\n",
    "class_distribution.index = ['malignant', 'benign']\n",
    "\n",
    "\n",
    "\n",
    "# type(class_distribution)\n"
   ]
  },
  {
   "cell_type": "markdown",
   "metadata": {
    "deletable": false,
    "editable": false,
    "nbgrader": {
     "cell_type": "markdown",
     "checksum": "b41f261501471d945afa6a23f6dffede",
     "grade": false,
     "grade_id": "cell-dc179325dbf4ab2e",
     "locked": true,
     "schema_version": 3,
     "solution": false,
     "task": false
    }
   },
   "source": [
    "### Question 2\n",
    "What is the class distribution? (i.e. how many instances of `malignant` and how many `benign`?)\n",
    "\n",
    "*This function should return a Series named `target` of length 2 with integer values and index =* `['malignant', 'benign']`"
   ]
  },
  {
   "cell_type": "code",
   "execution_count": 31,
   "metadata": {
    "deletable": false,
    "nbgrader": {
     "cell_type": "code",
     "checksum": "c2089305eba033875b33282231f3dd16",
     "grade": false,
     "grade_id": "cell-9ae22c5da36030e1",
     "locked": false,
     "schema_version": 3,
     "solution": true,
     "task": false
    }
   },
   "outputs": [],
   "source": [
    "def answer_two():\n",
    "    \n",
    "    # YOUR CODE HERE\n",
    "    df = pd.DataFrame(data=cancer.data, columns=cancer.feature_names)\n",
    "    df['target'] = cancer.target\n",
    "    class_distribution = df['target'].value_counts()\n",
    "    class_distribution.index = ['malignant', 'benign']\n",
    "    \n",
    "    class_distribution.name = 'target'\n",
    "    \n",
    "    return class_distribution\n",
    "    raise NotImplementedError()\n",
    "\n",
    "# answer_two()"
   ]
  },
  {
   "cell_type": "code",
   "execution_count": null,
   "metadata": {
    "deletable": false,
    "editable": false,
    "nbgrader": {
     "cell_type": "code",
     "checksum": "6e4bb189d688ef08fb8087dd6db771c9",
     "grade": true,
     "grade_id": "cell-3d372226c8ec1345",
     "locked": true,
     "points": 1,
     "schema_version": 3,
     "solution": false,
     "task": false
    }
   },
   "outputs": [],
   "source": []
  },
  {
   "cell_type": "markdown",
   "metadata": {
    "deletable": false,
    "editable": false,
    "nbgrader": {
     "cell_type": "markdown",
     "checksum": "b2fe669eee7a55b67e303174078c56d1",
     "grade": false,
     "grade_id": "cell-31d45f5920fa2afc",
     "locked": true,
     "schema_version": 3,
     "solution": false,
     "task": false
    }
   },
   "source": [
    "### Question 3\n",
    "Split the DataFrame into `X` (the data) and `y` (the labels).\n",
    "\n",
    "*This function should return a tuple of length 2:* `(X, y)`*, where* \n",
    "* `X` *has shape* `(569, 30)`\n",
    "* `y` *has shape* `(569,)`."
   ]
  },
  {
   "cell_type": "code",
   "execution_count": 32,
   "metadata": {},
   "outputs": [
    {
     "data": {
      "text/plain": [
       "((569, 30), (569,))"
      ]
     },
     "execution_count": 32,
     "metadata": {},
     "output_type": "execute_result"
    }
   ],
   "source": [
    "# from sklearn.model_selection import train_test_split\n",
    "X = df.iloc[:,:30].shape\n",
    "y = df['target'].shape\n",
    "\n",
    "# X_train, X_test, y_train, y_test = train_test_split(X,y, random_state= 5)\n",
    "\n",
    "(X,y)"
   ]
  },
  {
   "cell_type": "code",
   "execution_count": 33,
   "metadata": {
    "deletable": false,
    "nbgrader": {
     "cell_type": "code",
     "checksum": "9d0ef7932e19d454dbad24890e828d37",
     "grade": false,
     "grade_id": "cell-576bc022552c817a",
     "locked": false,
     "schema_version": 3,
     "solution": true,
     "task": false
    }
   },
   "outputs": [],
   "source": [
    "def answer_three():\n",
    "    # YOUR CODE HERE\n",
    "    from sklearn.model_selection import train_test_split\n",
    "    X = df.iloc[:,:30].shape\n",
    "    y = df['target'].shape\n",
    "    \n",
    "    return X,y\n",
    "    raise NotImplementedError()\n",
    "# len(answer_three())\n",
    "# type(answer_three())\n",
    "# answer_three()[0]"
   ]
  },
  {
   "cell_type": "code",
   "execution_count": null,
   "metadata": {
    "deletable": false,
    "editable": false,
    "nbgrader": {
     "cell_type": "code",
     "checksum": "756f81950f37647c59b08e35a9c28745",
     "grade": true,
     "grade_id": "cell-2ab04bcdf3007380",
     "locked": true,
     "points": 1,
     "schema_version": 3,
     "solution": false,
     "task": false
    }
   },
   "outputs": [],
   "source": []
  },
  {
   "cell_type": "markdown",
   "metadata": {
    "deletable": false,
    "editable": false,
    "nbgrader": {
     "cell_type": "markdown",
     "checksum": "f8192b3b8e5cdf399a137f41d54d23c4",
     "grade": false,
     "grade_id": "cell-b0946cd43b59e983",
     "locked": true,
     "schema_version": 3,
     "solution": false,
     "task": false
    }
   },
   "source": [
    "### Question 4\n",
    "Using `train_test_split`, split `X` and `y` into training and test sets `(X_train, X_test, y_train, and y_test)`.\n",
    "\n",
    "**Set the random number generator state to 0 using `random_state=0` to make sure your results match the autograder!**\n",
    "\n",
    "*This function should return a tuple of length 4:* `(X_train, X_test, y_train, y_test)`*, where* \n",
    "* `X_train` *has shape* `(426, 30)`\n",
    "* `X_test` *has shape* `(143, 30)`\n",
    "* `y_train` *has shape* `(426,)`\n",
    "* `y_test` *has shape* `(143,)`"
   ]
  },
  {
   "cell_type": "code",
   "execution_count": 34,
   "metadata": {
    "deletable": false,
    "nbgrader": {
     "cell_type": "code",
     "checksum": "c4baef9efe130ec4b0c84be4f95e6f07",
     "grade": false,
     "grade_id": "cell-43f1772dae7c107d",
     "locked": false,
     "schema_version": 3,
     "solution": true,
     "task": false
    }
   },
   "outputs": [],
   "source": [
    "from sklearn.model_selection import train_test_split\n",
    "\n",
    "def answer_four():\n",
    "    # YOUR CODE HERE\n",
    "    X = df.iloc[:,:30]\n",
    "    y = df['target']\n",
    "\n",
    "    X_train, X_test, y_train, y_test = train_test_split(X,y, random_state= 0)\n",
    "    return (X_train, X_test, y_train, y_test)\n",
    "    raise NotImplementedError()\n",
    "# answer_four()[0].shape\n"
   ]
  },
  {
   "cell_type": "code",
   "execution_count": null,
   "metadata": {
    "deletable": false,
    "editable": false,
    "nbgrader": {
     "cell_type": "code",
     "checksum": "1324889763065877f8f39340de8e471f",
     "grade": true,
     "grade_id": "cell-725b24dae2118210",
     "locked": true,
     "points": 1,
     "schema_version": 3,
     "solution": false,
     "task": false
    }
   },
   "outputs": [],
   "source": []
  },
  {
   "cell_type": "markdown",
   "metadata": {
    "deletable": false,
    "editable": false,
    "nbgrader": {
     "cell_type": "markdown",
     "checksum": "e92abe372518db20cc11546459ee9ac3",
     "grade": false,
     "grade_id": "cell-ed8d5b39dd31e5a6",
     "locked": true,
     "schema_version": 3,
     "solution": false,
     "task": false
    }
   },
   "source": [
    "### Question 5\n",
    "Using KNeighborsClassifier, fit a k-nearest neighbors (knn) classifier with `X_train`, `y_train` and using one nearest neighbor (`n_neighbors = 1`).\n",
    "\n",
    "*This function should return a `sklearn.neighbors.classification.KNeighborsClassifier`."
   ]
  },
  {
   "cell_type": "code",
   "execution_count": 35,
   "metadata": {
    "deletable": false,
    "nbgrader": {
     "cell_type": "code",
     "checksum": "2e7d0640190d2a51a756508aa9578169",
     "grade": false,
     "grade_id": "cell-065b72353bfb0645",
     "locked": false,
     "schema_version": 3,
     "solution": true,
     "task": false
    }
   },
   "outputs": [
    {
     "data": {
      "text/html": [
       "<style>#sk-container-id-2 {color: black;background-color: white;}#sk-container-id-2 pre{padding: 0;}#sk-container-id-2 div.sk-toggleable {background-color: white;}#sk-container-id-2 label.sk-toggleable__label {cursor: pointer;display: block;width: 100%;margin-bottom: 0;padding: 0.3em;box-sizing: border-box;text-align: center;}#sk-container-id-2 label.sk-toggleable__label-arrow:before {content: \"▸\";float: left;margin-right: 0.25em;color: #696969;}#sk-container-id-2 label.sk-toggleable__label-arrow:hover:before {color: black;}#sk-container-id-2 div.sk-estimator:hover label.sk-toggleable__label-arrow:before {color: black;}#sk-container-id-2 div.sk-toggleable__content {max-height: 0;max-width: 0;overflow: hidden;text-align: left;background-color: #f0f8ff;}#sk-container-id-2 div.sk-toggleable__content pre {margin: 0.2em;color: black;border-radius: 0.25em;background-color: #f0f8ff;}#sk-container-id-2 input.sk-toggleable__control:checked~div.sk-toggleable__content {max-height: 200px;max-width: 100%;overflow: auto;}#sk-container-id-2 input.sk-toggleable__control:checked~label.sk-toggleable__label-arrow:before {content: \"▾\";}#sk-container-id-2 div.sk-estimator input.sk-toggleable__control:checked~label.sk-toggleable__label {background-color: #d4ebff;}#sk-container-id-2 div.sk-label input.sk-toggleable__control:checked~label.sk-toggleable__label {background-color: #d4ebff;}#sk-container-id-2 input.sk-hidden--visually {border: 0;clip: rect(1px 1px 1px 1px);clip: rect(1px, 1px, 1px, 1px);height: 1px;margin: -1px;overflow: hidden;padding: 0;position: absolute;width: 1px;}#sk-container-id-2 div.sk-estimator {font-family: monospace;background-color: #f0f8ff;border: 1px dotted black;border-radius: 0.25em;box-sizing: border-box;margin-bottom: 0.5em;}#sk-container-id-2 div.sk-estimator:hover {background-color: #d4ebff;}#sk-container-id-2 div.sk-parallel-item::after {content: \"\";width: 100%;border-bottom: 1px solid gray;flex-grow: 1;}#sk-container-id-2 div.sk-label:hover label.sk-toggleable__label {background-color: #d4ebff;}#sk-container-id-2 div.sk-serial::before {content: \"\";position: absolute;border-left: 1px solid gray;box-sizing: border-box;top: 0;bottom: 0;left: 50%;z-index: 0;}#sk-container-id-2 div.sk-serial {display: flex;flex-direction: column;align-items: center;background-color: white;padding-right: 0.2em;padding-left: 0.2em;position: relative;}#sk-container-id-2 div.sk-item {position: relative;z-index: 1;}#sk-container-id-2 div.sk-parallel {display: flex;align-items: stretch;justify-content: center;background-color: white;position: relative;}#sk-container-id-2 div.sk-item::before, #sk-container-id-2 div.sk-parallel-item::before {content: \"\";position: absolute;border-left: 1px solid gray;box-sizing: border-box;top: 0;bottom: 0;left: 50%;z-index: -1;}#sk-container-id-2 div.sk-parallel-item {display: flex;flex-direction: column;z-index: 1;position: relative;background-color: white;}#sk-container-id-2 div.sk-parallel-item:first-child::after {align-self: flex-end;width: 50%;}#sk-container-id-2 div.sk-parallel-item:last-child::after {align-self: flex-start;width: 50%;}#sk-container-id-2 div.sk-parallel-item:only-child::after {width: 0;}#sk-container-id-2 div.sk-dashed-wrapped {border: 1px dashed gray;margin: 0 0.4em 0.5em 0.4em;box-sizing: border-box;padding-bottom: 0.4em;background-color: white;}#sk-container-id-2 div.sk-label label {font-family: monospace;font-weight: bold;display: inline-block;line-height: 1.2em;}#sk-container-id-2 div.sk-label-container {text-align: center;}#sk-container-id-2 div.sk-container {/* jupyter's `normalize.less` sets `[hidden] { display: none; }` but bootstrap.min.css set `[hidden] { display: none !important; }` so we also need the `!important` here to be able to override the default hidden behavior on the sphinx rendered scikit-learn.org. See: https://github.com/scikit-learn/scikit-learn/issues/21755 */display: inline-block !important;position: relative;}#sk-container-id-2 div.sk-text-repr-fallback {display: none;}</style><div id=\"sk-container-id-2\" class=\"sk-top-container\"><div class=\"sk-text-repr-fallback\"><pre>KNeighborsClassifier(n_neighbors=1)</pre><b>In a Jupyter environment, please rerun this cell to show the HTML representation or trust the notebook. <br />On GitHub, the HTML representation is unable to render, please try loading this page with nbviewer.org.</b></div><div class=\"sk-container\" hidden><div class=\"sk-item\"><div class=\"sk-estimator sk-toggleable\"><input class=\"sk-toggleable__control sk-hidden--visually\" id=\"sk-estimator-id-2\" type=\"checkbox\" checked><label for=\"sk-estimator-id-2\" class=\"sk-toggleable__label sk-toggleable__label-arrow\">KNeighborsClassifier</label><div class=\"sk-toggleable__content\"><pre>KNeighborsClassifier(n_neighbors=1)</pre></div></div></div></div></div>"
      ],
      "text/plain": [
       "KNeighborsClassifier(n_neighbors=1)"
      ]
     },
     "execution_count": 35,
     "metadata": {},
     "output_type": "execute_result"
    }
   ],
   "source": [
    "from sklearn.neighbors import KNeighborsClassifier\n",
    "\n",
    "def answer_five():\n",
    "    # YOUR CODE HERE\n",
    "    knn = KNeighborsClassifier(n_neighbors=1)\n",
    "    X = df.iloc[:,:30]\n",
    "    y = df['target']\n",
    "    X_train, X_test, y_train, y_test = train_test_split(X,y, random_state= 0)\n",
    "\n",
    "    return knn.fit(X_train, y_train)\n",
    "    \n",
    "    raise NotImplementedError()\n",
    "answer_five()"
   ]
  },
  {
   "cell_type": "code",
   "execution_count": 70,
   "metadata": {},
   "outputs": [
    {
     "data": {
      "text/plain": [
       "0.916083916083916"
      ]
     },
     "execution_count": 70,
     "metadata": {},
     "output_type": "execute_result"
    }
   ],
   "source": [
    "from sklearn.neighbors import KNeighborsClassifier\n",
    "knn = KNeighborsClassifier(n_neighbors=1)\n",
    "X = df.iloc[:,:30]\n",
    "y = df['target']\n",
    "X_train, X_test, y_train, y_test = train_test_split(X,y, random_state= 0)\n",
    "\n",
    "knn.fit(X_train, y_train)\n",
    "knn.score(X_test, y_test)"
   ]
  },
  {
   "cell_type": "code",
   "execution_count": null,
   "metadata": {},
   "outputs": [],
   "source": []
  },
  {
   "cell_type": "code",
   "execution_count": 71,
   "metadata": {},
   "outputs": [],
   "source": [
    "# knn.predict(X.head()) #predicting first 5 -- 80% accuracy"
   ]
  },
  {
   "cell_type": "code",
   "execution_count": 72,
   "metadata": {},
   "outputs": [],
   "source": [
    "# df.head()"
   ]
  },
  {
   "cell_type": "code",
   "execution_count": 73,
   "metadata": {},
   "outputs": [],
   "source": [
    "# df.info()"
   ]
  },
  {
   "cell_type": "code",
   "execution_count": 74,
   "metadata": {},
   "outputs": [],
   "source": [
    "# from pandas.plotting import scatter_matrix"
   ]
  },
  {
   "cell_type": "code",
   "execution_count": 75,
   "metadata": {},
   "outputs": [],
   "source": [
    "# %matplotlib notebook\n",
    "# scatter_matrix(df.iloc[:, :5], diagonal='kde' );"
   ]
  },
  {
   "cell_type": "code",
   "execution_count": null,
   "metadata": {
    "deletable": false,
    "editable": false,
    "nbgrader": {
     "cell_type": "code",
     "checksum": "7363cdebfdfc3cd14f9407711af9f471",
     "grade": true,
     "grade_id": "cell-fe3813c4f3a2e07b",
     "locked": true,
     "points": 1,
     "schema_version": 3,
     "solution": false,
     "task": false
    }
   },
   "outputs": [],
   "source": []
  },
  {
   "cell_type": "code",
   "execution_count": null,
   "metadata": {},
   "outputs": [],
   "source": []
  },
  {
   "cell_type": "markdown",
   "metadata": {
    "deletable": false,
    "editable": false,
    "nbgrader": {
     "cell_type": "markdown",
     "checksum": "28cf091cb9fc0b2a0f2d36014cc24a9b",
     "grade": false,
     "grade_id": "cell-f84a2487e43f1483",
     "locked": true,
     "schema_version": 3,
     "solution": false,
     "task": false
    }
   },
   "source": [
    "### Question 6\n",
    "Using your knn classifier, predict the class label using the mean value for each feature.\n",
    "\n",
    "Hint: You can use `cancerdf.mean()[:-1].values.reshape(1, -1)` which gets the mean value for each feature, ignores the target column, and reshapes the data from 1 dimension to 2 (necessary for the precict method of KNeighborsClassifier)."
   ]
  },
  {
   "cell_type": "code",
   "execution_count": 87,
   "metadata": {
    "deletable": false,
    "nbgrader": {
     "cell_type": "code",
     "checksum": "ff555e46091aa284862032d328fc7285",
     "grade": false,
     "grade_id": "cell-e275f6ba23d6ff8f",
     "locked": false,
     "schema_version": 3,
     "solution": true,
     "task": false
    }
   },
   "outputs": [
    {
     "name": "stderr",
     "output_type": "stream",
     "text": [
      "C:\\Users\\Victor Darkwah-Owusu\\anaconda3\\Lib\\site-packages\\sklearn\\base.py:439: UserWarning: X does not have valid feature names, but KNeighborsClassifier was fitted with feature names\n",
      "  warnings.warn(\n"
     ]
    },
    {
     "data": {
      "text/plain": [
       "array([1])"
      ]
     },
     "execution_count": 87,
     "metadata": {},
     "output_type": "execute_result"
    }
   ],
   "source": [
    "def answer_six():\n",
    "    # YOUR CODE HERE\n",
    "    df.mean()[:-1] # excluding the target(y) since it is not a feature\n",
    "    df.mean()[:-1].values.reshape(1,-1)\n",
    "    return knn.predict(df.mean()[:-1].values.reshape(1,-1))\n",
    "    raise NotImplementedError()\n",
    "# answer_six()"
   ]
  },
  {
   "cell_type": "code",
   "execution_count": 77,
   "metadata": {},
   "outputs": [
    {
     "name": "stderr",
     "output_type": "stream",
     "text": [
      "C:\\Users\\Victor Darkwah-Owusu\\anaconda3\\Lib\\site-packages\\sklearn\\base.py:439: UserWarning: X does not have valid feature names, but KNeighborsClassifier was fitted with feature names\n",
      "  warnings.warn(\n"
     ]
    },
    {
     "data": {
      "text/plain": [
       "array([1])"
      ]
     },
     "execution_count": 77,
     "metadata": {},
     "output_type": "execute_result"
    }
   ],
   "source": [
    "df.mean()[:-1] # excluding the target(y) since it is not a feature\n",
    "df.mean()[:-1].values.reshape(1,-1)\n",
    "knn.predict(df.mean()[:-1].values.reshape(1,-1))\n",
    "# -1 in the reshape represents the unknown dimension. \n",
    "# reshape converts the np array to a 'matrix'"
   ]
  },
  {
   "cell_type": "code",
   "execution_count": null,
   "metadata": {
    "deletable": false,
    "editable": false,
    "nbgrader": {
     "cell_type": "code",
     "checksum": "d2d4f188f760b94b131d16887c7d7cdf",
     "grade": true,
     "grade_id": "cell-7a6cc33489ff7e5c",
     "locked": true,
     "points": 1,
     "schema_version": 3,
     "solution": false,
     "task": false
    }
   },
   "outputs": [],
   "source": []
  },
  {
   "cell_type": "markdown",
   "metadata": {
    "deletable": false,
    "editable": false,
    "nbgrader": {
     "cell_type": "markdown",
     "checksum": "a3f12c45aaf92b9624ddb65abd368819",
     "grade": false,
     "grade_id": "cell-b8480632ad943bc8",
     "locked": true,
     "schema_version": 3,
     "solution": false,
     "task": false
    }
   },
   "source": [
    "### Question 7\n",
    "Using your knn classifier, predict the class labels for the test set `X_test`.\n",
    "\n",
    "*This function should return a numpy array with shape `(143,)` and values either `0.0` or `1.0`.*"
   ]
  },
  {
   "cell_type": "code",
   "execution_count": 78,
   "metadata": {
    "deletable": false,
    "nbgrader": {
     "cell_type": "code",
     "checksum": "e687968dd888ed2dac75220e95f772c3",
     "grade": false,
     "grade_id": "cell-4ba28b24e8b435dc",
     "locked": false,
     "schema_version": 3,
     "solution": true,
     "task": false
    }
   },
   "outputs": [],
   "source": [
    "def answer_seven():\n",
    "    # YOUR CODE HERE\n",
    "    \n",
    "    knn = KNeighborsClassifier(n_neighbors=1)\n",
    "    \n",
    "    # data splitting\n",
    "    X = df.iloc[:,:30]\n",
    "    y = df['target']\n",
    "    X_train, X_test, y_train, y_test = train_test_split(X,y, random_state= 0)\n",
    "\n",
    "    # model training\n",
    "    knn.fit(X_train, y_train)\n",
    "    \n",
    "    #model accuracy\n",
    "    return knn.predict(X_test)\n",
    "    \n",
    "    raise NotImplementedError()\n",
    "\n",
    "# answer_seven()"
   ]
  },
  {
   "cell_type": "code",
   "execution_count": null,
   "metadata": {
    "deletable": false,
    "editable": false,
    "nbgrader": {
     "cell_type": "code",
     "checksum": "589d6b0d7ad03f34f1d0499a3fe4542b",
     "grade": true,
     "grade_id": "cell-ece94681388729ef",
     "locked": true,
     "points": 1,
     "schema_version": 3,
     "solution": false,
     "task": false
    }
   },
   "outputs": [],
   "source": []
  },
  {
   "cell_type": "markdown",
   "metadata": {
    "deletable": false,
    "editable": false,
    "nbgrader": {
     "cell_type": "markdown",
     "checksum": "e7b7bd46c2dbe22a76e9cfbd4868b31a",
     "grade": false,
     "grade_id": "cell-937577c0bbcb7259",
     "locked": true,
     "schema_version": 3,
     "solution": false,
     "task": false
    }
   },
   "source": [
    "### Question 8\n",
    "Find the score (mean accuracy) of your knn classifier using `X_test` and `y_test`.\n",
    "\n",
    "*This function should return a float between 0 and 1*"
   ]
  },
  {
   "cell_type": "code",
   "execution_count": 79,
   "metadata": {
    "deletable": false,
    "nbgrader": {
     "cell_type": "code",
     "checksum": "68b6223d9a01bf5cb55e58b9e2229bce",
     "grade": false,
     "grade_id": "cell-8a1c3907d66a1fd6",
     "locked": false,
     "schema_version": 3,
     "solution": true,
     "task": false
    }
   },
   "outputs": [
    {
     "data": {
      "text/plain": [
       "0.916083916083916"
      ]
     },
     "execution_count": 79,
     "metadata": {},
     "output_type": "execute_result"
    }
   ],
   "source": [
    "def answer_eight():\n",
    "    # YOUR CODE HERE\n",
    "    \n",
    "    knn = KNeighborsClassifier(n_neighbors=1)\n",
    "    \n",
    "    # data splitting\n",
    "    X = df.iloc[:,:30]\n",
    "    y = df['target']\n",
    "    X_train, X_test, y_train, y_test = train_test_split(X,y, random_state = 0)\n",
    "\n",
    "    # model training\n",
    "    knn.fit(X_train, y_train)\n",
    "    \n",
    "    #model accuracy\n",
    "    return knn.score(X_test, y_test)\n",
    "    raise NotImplementedError()\n",
    "\n",
    "answer_eight()"
   ]
  },
  {
   "cell_type": "code",
   "execution_count": null,
   "metadata": {
    "deletable": false,
    "editable": false,
    "nbgrader": {
     "cell_type": "code",
     "checksum": "16cf2f1bdeaf7615c73dc6380267d2c4",
     "grade": true,
     "grade_id": "cell-98ed222fbeea9aea",
     "locked": true,
     "points": 1,
     "schema_version": 3,
     "solution": false,
     "task": false
    }
   },
   "outputs": [],
   "source": []
  },
  {
   "cell_type": "markdown",
   "metadata": {
    "deletable": false,
    "editable": false,
    "nbgrader": {
     "cell_type": "markdown",
     "checksum": "7b766df26e90124f43f5b997bdfe30a5",
     "grade": false,
     "grade_id": "cell-0a7e5b62ef8dbf5d",
     "locked": true,
     "schema_version": 3,
     "solution": false,
     "task": false
    }
   },
   "source": [
    "### Optional plot\n",
    "\n",
    "Try using the plotting function below to visualize the different predicition scores between train and test sets, as well as malignant and benign cells."
   ]
  },
  {
   "cell_type": "code",
   "execution_count": 148,
   "metadata": {
    "deletable": false,
    "nbgrader": {
     "cell_type": "code",
     "checksum": "93c96e5d94b1071b03c349246f041cd0",
     "grade": false,
     "grade_id": "cell-b22cfbb1a1fdcb51",
     "locked": false,
     "schema_version": 3,
     "solution": true,
     "task": false
    }
   },
   "outputs": [
    {
     "data": {
      "application/javascript": [
       "/* Put everything inside the global mpl namespace */\n",
       "/* global mpl */\n",
       "window.mpl = {};\n",
       "\n",
       "mpl.get_websocket_type = function () {\n",
       "    if (typeof WebSocket !== 'undefined') {\n",
       "        return WebSocket;\n",
       "    } else if (typeof MozWebSocket !== 'undefined') {\n",
       "        return MozWebSocket;\n",
       "    } else {\n",
       "        alert(\n",
       "            'Your browser does not have WebSocket support. ' +\n",
       "                'Please try Chrome, Safari or Firefox ≥ 6. ' +\n",
       "                'Firefox 4 and 5 are also supported but you ' +\n",
       "                'have to enable WebSockets in about:config.'\n",
       "        );\n",
       "    }\n",
       "};\n",
       "\n",
       "mpl.figure = function (figure_id, websocket, ondownload, parent_element) {\n",
       "    this.id = figure_id;\n",
       "\n",
       "    this.ws = websocket;\n",
       "\n",
       "    this.supports_binary = this.ws.binaryType !== undefined;\n",
       "\n",
       "    if (!this.supports_binary) {\n",
       "        var warnings = document.getElementById('mpl-warnings');\n",
       "        if (warnings) {\n",
       "            warnings.style.display = 'block';\n",
       "            warnings.textContent =\n",
       "                'This browser does not support binary websocket messages. ' +\n",
       "                'Performance may be slow.';\n",
       "        }\n",
       "    }\n",
       "\n",
       "    this.imageObj = new Image();\n",
       "\n",
       "    this.context = undefined;\n",
       "    this.message = undefined;\n",
       "    this.canvas = undefined;\n",
       "    this.rubberband_canvas = undefined;\n",
       "    this.rubberband_context = undefined;\n",
       "    this.format_dropdown = undefined;\n",
       "\n",
       "    this.image_mode = 'full';\n",
       "\n",
       "    this.root = document.createElement('div');\n",
       "    this.root.setAttribute('style', 'display: inline-block');\n",
       "    this._root_extra_style(this.root);\n",
       "\n",
       "    parent_element.appendChild(this.root);\n",
       "\n",
       "    this._init_header(this);\n",
       "    this._init_canvas(this);\n",
       "    this._init_toolbar(this);\n",
       "\n",
       "    var fig = this;\n",
       "\n",
       "    this.waiting = false;\n",
       "\n",
       "    this.ws.onopen = function () {\n",
       "        fig.send_message('supports_binary', { value: fig.supports_binary });\n",
       "        fig.send_message('send_image_mode', {});\n",
       "        if (fig.ratio !== 1) {\n",
       "            fig.send_message('set_device_pixel_ratio', {\n",
       "                device_pixel_ratio: fig.ratio,\n",
       "            });\n",
       "        }\n",
       "        fig.send_message('refresh', {});\n",
       "    };\n",
       "\n",
       "    this.imageObj.onload = function () {\n",
       "        if (fig.image_mode === 'full') {\n",
       "            // Full images could contain transparency (where diff images\n",
       "            // almost always do), so we need to clear the canvas so that\n",
       "            // there is no ghosting.\n",
       "            fig.context.clearRect(0, 0, fig.canvas.width, fig.canvas.height);\n",
       "        }\n",
       "        fig.context.drawImage(fig.imageObj, 0, 0);\n",
       "    };\n",
       "\n",
       "    this.imageObj.onunload = function () {\n",
       "        fig.ws.close();\n",
       "    };\n",
       "\n",
       "    this.ws.onmessage = this._make_on_message_function(this);\n",
       "\n",
       "    this.ondownload = ondownload;\n",
       "};\n",
       "\n",
       "mpl.figure.prototype._init_header = function () {\n",
       "    var titlebar = document.createElement('div');\n",
       "    titlebar.classList =\n",
       "        'ui-dialog-titlebar ui-widget-header ui-corner-all ui-helper-clearfix';\n",
       "    var titletext = document.createElement('div');\n",
       "    titletext.classList = 'ui-dialog-title';\n",
       "    titletext.setAttribute(\n",
       "        'style',\n",
       "        'width: 100%; text-align: center; padding: 3px;'\n",
       "    );\n",
       "    titlebar.appendChild(titletext);\n",
       "    this.root.appendChild(titlebar);\n",
       "    this.header = titletext;\n",
       "};\n",
       "\n",
       "mpl.figure.prototype._canvas_extra_style = function (_canvas_div) {};\n",
       "\n",
       "mpl.figure.prototype._root_extra_style = function (_canvas_div) {};\n",
       "\n",
       "mpl.figure.prototype._init_canvas = function () {\n",
       "    var fig = this;\n",
       "\n",
       "    var canvas_div = (this.canvas_div = document.createElement('div'));\n",
       "    canvas_div.setAttribute('tabindex', '0');\n",
       "    canvas_div.setAttribute(\n",
       "        'style',\n",
       "        'border: 1px solid #ddd;' +\n",
       "            'box-sizing: content-box;' +\n",
       "            'clear: both;' +\n",
       "            'min-height: 1px;' +\n",
       "            'min-width: 1px;' +\n",
       "            'outline: 0;' +\n",
       "            'overflow: hidden;' +\n",
       "            'position: relative;' +\n",
       "            'resize: both;' +\n",
       "            'z-index: 2;'\n",
       "    );\n",
       "\n",
       "    function on_keyboard_event_closure(name) {\n",
       "        return function (event) {\n",
       "            return fig.key_event(event, name);\n",
       "        };\n",
       "    }\n",
       "\n",
       "    canvas_div.addEventListener(\n",
       "        'keydown',\n",
       "        on_keyboard_event_closure('key_press')\n",
       "    );\n",
       "    canvas_div.addEventListener(\n",
       "        'keyup',\n",
       "        on_keyboard_event_closure('key_release')\n",
       "    );\n",
       "\n",
       "    this._canvas_extra_style(canvas_div);\n",
       "    this.root.appendChild(canvas_div);\n",
       "\n",
       "    var canvas = (this.canvas = document.createElement('canvas'));\n",
       "    canvas.classList.add('mpl-canvas');\n",
       "    canvas.setAttribute(\n",
       "        'style',\n",
       "        'box-sizing: content-box;' +\n",
       "            'pointer-events: none;' +\n",
       "            'position: relative;' +\n",
       "            'z-index: 0;'\n",
       "    );\n",
       "\n",
       "    this.context = canvas.getContext('2d');\n",
       "\n",
       "    var backingStore =\n",
       "        this.context.backingStorePixelRatio ||\n",
       "        this.context.webkitBackingStorePixelRatio ||\n",
       "        this.context.mozBackingStorePixelRatio ||\n",
       "        this.context.msBackingStorePixelRatio ||\n",
       "        this.context.oBackingStorePixelRatio ||\n",
       "        this.context.backingStorePixelRatio ||\n",
       "        1;\n",
       "\n",
       "    this.ratio = (window.devicePixelRatio || 1) / backingStore;\n",
       "\n",
       "    var rubberband_canvas = (this.rubberband_canvas = document.createElement(\n",
       "        'canvas'\n",
       "    ));\n",
       "    rubberband_canvas.setAttribute(\n",
       "        'style',\n",
       "        'box-sizing: content-box;' +\n",
       "            'left: 0;' +\n",
       "            'pointer-events: none;' +\n",
       "            'position: absolute;' +\n",
       "            'top: 0;' +\n",
       "            'z-index: 1;'\n",
       "    );\n",
       "\n",
       "    // Apply a ponyfill if ResizeObserver is not implemented by browser.\n",
       "    if (this.ResizeObserver === undefined) {\n",
       "        if (window.ResizeObserver !== undefined) {\n",
       "            this.ResizeObserver = window.ResizeObserver;\n",
       "        } else {\n",
       "            var obs = _JSXTOOLS_RESIZE_OBSERVER({});\n",
       "            this.ResizeObserver = obs.ResizeObserver;\n",
       "        }\n",
       "    }\n",
       "\n",
       "    this.resizeObserverInstance = new this.ResizeObserver(function (entries) {\n",
       "        var nentries = entries.length;\n",
       "        for (var i = 0; i < nentries; i++) {\n",
       "            var entry = entries[i];\n",
       "            var width, height;\n",
       "            if (entry.contentBoxSize) {\n",
       "                if (entry.contentBoxSize instanceof Array) {\n",
       "                    // Chrome 84 implements new version of spec.\n",
       "                    width = entry.contentBoxSize[0].inlineSize;\n",
       "                    height = entry.contentBoxSize[0].blockSize;\n",
       "                } else {\n",
       "                    // Firefox implements old version of spec.\n",
       "                    width = entry.contentBoxSize.inlineSize;\n",
       "                    height = entry.contentBoxSize.blockSize;\n",
       "                }\n",
       "            } else {\n",
       "                // Chrome <84 implements even older version of spec.\n",
       "                width = entry.contentRect.width;\n",
       "                height = entry.contentRect.height;\n",
       "            }\n",
       "\n",
       "            // Keep the size of the canvas and rubber band canvas in sync with\n",
       "            // the canvas container.\n",
       "            if (entry.devicePixelContentBoxSize) {\n",
       "                // Chrome 84 implements new version of spec.\n",
       "                canvas.setAttribute(\n",
       "                    'width',\n",
       "                    entry.devicePixelContentBoxSize[0].inlineSize\n",
       "                );\n",
       "                canvas.setAttribute(\n",
       "                    'height',\n",
       "                    entry.devicePixelContentBoxSize[0].blockSize\n",
       "                );\n",
       "            } else {\n",
       "                canvas.setAttribute('width', width * fig.ratio);\n",
       "                canvas.setAttribute('height', height * fig.ratio);\n",
       "            }\n",
       "            /* This rescales the canvas back to display pixels, so that it\n",
       "             * appears correct on HiDPI screens. */\n",
       "            canvas.style.width = width + 'px';\n",
       "            canvas.style.height = height + 'px';\n",
       "\n",
       "            rubberband_canvas.setAttribute('width', width);\n",
       "            rubberband_canvas.setAttribute('height', height);\n",
       "\n",
       "            // And update the size in Python. We ignore the initial 0/0 size\n",
       "            // that occurs as the element is placed into the DOM, which should\n",
       "            // otherwise not happen due to the minimum size styling.\n",
       "            if (fig.ws.readyState == 1 && width != 0 && height != 0) {\n",
       "                fig.request_resize(width, height);\n",
       "            }\n",
       "        }\n",
       "    });\n",
       "    this.resizeObserverInstance.observe(canvas_div);\n",
       "\n",
       "    function on_mouse_event_closure(name) {\n",
       "        /* User Agent sniffing is bad, but WebKit is busted:\n",
       "         * https://bugs.webkit.org/show_bug.cgi?id=144526\n",
       "         * https://bugs.webkit.org/show_bug.cgi?id=181818\n",
       "         * The worst that happens here is that they get an extra browser\n",
       "         * selection when dragging, if this check fails to catch them.\n",
       "         */\n",
       "        var UA = navigator.userAgent;\n",
       "        var isWebKit = /AppleWebKit/.test(UA) && !/Chrome/.test(UA);\n",
       "        if(isWebKit) {\n",
       "            return function (event) {\n",
       "                /* This prevents the web browser from automatically changing to\n",
       "                 * the text insertion cursor when the button is pressed. We\n",
       "                 * want to control all of the cursor setting manually through\n",
       "                 * the 'cursor' event from matplotlib */\n",
       "                event.preventDefault()\n",
       "                return fig.mouse_event(event, name);\n",
       "            };\n",
       "        } else {\n",
       "            return function (event) {\n",
       "                return fig.mouse_event(event, name);\n",
       "            };\n",
       "        }\n",
       "    }\n",
       "\n",
       "    canvas_div.addEventListener(\n",
       "        'mousedown',\n",
       "        on_mouse_event_closure('button_press')\n",
       "    );\n",
       "    canvas_div.addEventListener(\n",
       "        'mouseup',\n",
       "        on_mouse_event_closure('button_release')\n",
       "    );\n",
       "    canvas_div.addEventListener(\n",
       "        'dblclick',\n",
       "        on_mouse_event_closure('dblclick')\n",
       "    );\n",
       "    // Throttle sequential mouse events to 1 every 20ms.\n",
       "    canvas_div.addEventListener(\n",
       "        'mousemove',\n",
       "        on_mouse_event_closure('motion_notify')\n",
       "    );\n",
       "\n",
       "    canvas_div.addEventListener(\n",
       "        'mouseenter',\n",
       "        on_mouse_event_closure('figure_enter')\n",
       "    );\n",
       "    canvas_div.addEventListener(\n",
       "        'mouseleave',\n",
       "        on_mouse_event_closure('figure_leave')\n",
       "    );\n",
       "\n",
       "    canvas_div.addEventListener('wheel', function (event) {\n",
       "        if (event.deltaY < 0) {\n",
       "            event.step = 1;\n",
       "        } else {\n",
       "            event.step = -1;\n",
       "        }\n",
       "        on_mouse_event_closure('scroll')(event);\n",
       "    });\n",
       "\n",
       "    canvas_div.appendChild(canvas);\n",
       "    canvas_div.appendChild(rubberband_canvas);\n",
       "\n",
       "    this.rubberband_context = rubberband_canvas.getContext('2d');\n",
       "    this.rubberband_context.strokeStyle = '#000000';\n",
       "\n",
       "    this._resize_canvas = function (width, height, forward) {\n",
       "        if (forward) {\n",
       "            canvas_div.style.width = width + 'px';\n",
       "            canvas_div.style.height = height + 'px';\n",
       "        }\n",
       "    };\n",
       "\n",
       "    // Disable right mouse context menu.\n",
       "    canvas_div.addEventListener('contextmenu', function (_e) {\n",
       "        event.preventDefault();\n",
       "        return false;\n",
       "    });\n",
       "\n",
       "    function set_focus() {\n",
       "        canvas.focus();\n",
       "        canvas_div.focus();\n",
       "    }\n",
       "\n",
       "    window.setTimeout(set_focus, 100);\n",
       "};\n",
       "\n",
       "mpl.figure.prototype._init_toolbar = function () {\n",
       "    var fig = this;\n",
       "\n",
       "    var toolbar = document.createElement('div');\n",
       "    toolbar.classList = 'mpl-toolbar';\n",
       "    this.root.appendChild(toolbar);\n",
       "\n",
       "    function on_click_closure(name) {\n",
       "        return function (_event) {\n",
       "            return fig.toolbar_button_onclick(name);\n",
       "        };\n",
       "    }\n",
       "\n",
       "    function on_mouseover_closure(tooltip) {\n",
       "        return function (event) {\n",
       "            if (!event.currentTarget.disabled) {\n",
       "                return fig.toolbar_button_onmouseover(tooltip);\n",
       "            }\n",
       "        };\n",
       "    }\n",
       "\n",
       "    fig.buttons = {};\n",
       "    var buttonGroup = document.createElement('div');\n",
       "    buttonGroup.classList = 'mpl-button-group';\n",
       "    for (var toolbar_ind in mpl.toolbar_items) {\n",
       "        var name = mpl.toolbar_items[toolbar_ind][0];\n",
       "        var tooltip = mpl.toolbar_items[toolbar_ind][1];\n",
       "        var image = mpl.toolbar_items[toolbar_ind][2];\n",
       "        var method_name = mpl.toolbar_items[toolbar_ind][3];\n",
       "\n",
       "        if (!name) {\n",
       "            /* Instead of a spacer, we start a new button group. */\n",
       "            if (buttonGroup.hasChildNodes()) {\n",
       "                toolbar.appendChild(buttonGroup);\n",
       "            }\n",
       "            buttonGroup = document.createElement('div');\n",
       "            buttonGroup.classList = 'mpl-button-group';\n",
       "            continue;\n",
       "        }\n",
       "\n",
       "        var button = (fig.buttons[name] = document.createElement('button'));\n",
       "        button.classList = 'mpl-widget';\n",
       "        button.setAttribute('role', 'button');\n",
       "        button.setAttribute('aria-disabled', 'false');\n",
       "        button.addEventListener('click', on_click_closure(method_name));\n",
       "        button.addEventListener('mouseover', on_mouseover_closure(tooltip));\n",
       "\n",
       "        var icon_img = document.createElement('img');\n",
       "        icon_img.src = '_images/' + image + '.png';\n",
       "        icon_img.srcset = '_images/' + image + '_large.png 2x';\n",
       "        icon_img.alt = tooltip;\n",
       "        button.appendChild(icon_img);\n",
       "\n",
       "        buttonGroup.appendChild(button);\n",
       "    }\n",
       "\n",
       "    if (buttonGroup.hasChildNodes()) {\n",
       "        toolbar.appendChild(buttonGroup);\n",
       "    }\n",
       "\n",
       "    var fmt_picker = document.createElement('select');\n",
       "    fmt_picker.classList = 'mpl-widget';\n",
       "    toolbar.appendChild(fmt_picker);\n",
       "    this.format_dropdown = fmt_picker;\n",
       "\n",
       "    for (var ind in mpl.extensions) {\n",
       "        var fmt = mpl.extensions[ind];\n",
       "        var option = document.createElement('option');\n",
       "        option.selected = fmt === mpl.default_extension;\n",
       "        option.innerHTML = fmt;\n",
       "        fmt_picker.appendChild(option);\n",
       "    }\n",
       "\n",
       "    var status_bar = document.createElement('span');\n",
       "    status_bar.classList = 'mpl-message';\n",
       "    toolbar.appendChild(status_bar);\n",
       "    this.message = status_bar;\n",
       "};\n",
       "\n",
       "mpl.figure.prototype.request_resize = function (x_pixels, y_pixels) {\n",
       "    // Request matplotlib to resize the figure. Matplotlib will then trigger a resize in the client,\n",
       "    // which will in turn request a refresh of the image.\n",
       "    this.send_message('resize', { width: x_pixels, height: y_pixels });\n",
       "};\n",
       "\n",
       "mpl.figure.prototype.send_message = function (type, properties) {\n",
       "    properties['type'] = type;\n",
       "    properties['figure_id'] = this.id;\n",
       "    this.ws.send(JSON.stringify(properties));\n",
       "};\n",
       "\n",
       "mpl.figure.prototype.send_draw_message = function () {\n",
       "    if (!this.waiting) {\n",
       "        this.waiting = true;\n",
       "        this.ws.send(JSON.stringify({ type: 'draw', figure_id: this.id }));\n",
       "    }\n",
       "};\n",
       "\n",
       "mpl.figure.prototype.handle_save = function (fig, _msg) {\n",
       "    var format_dropdown = fig.format_dropdown;\n",
       "    var format = format_dropdown.options[format_dropdown.selectedIndex].value;\n",
       "    fig.ondownload(fig, format);\n",
       "};\n",
       "\n",
       "mpl.figure.prototype.handle_resize = function (fig, msg) {\n",
       "    var size = msg['size'];\n",
       "    if (size[0] !== fig.canvas.width || size[1] !== fig.canvas.height) {\n",
       "        fig._resize_canvas(size[0], size[1], msg['forward']);\n",
       "        fig.send_message('refresh', {});\n",
       "    }\n",
       "};\n",
       "\n",
       "mpl.figure.prototype.handle_rubberband = function (fig, msg) {\n",
       "    var x0 = msg['x0'] / fig.ratio;\n",
       "    var y0 = (fig.canvas.height - msg['y0']) / fig.ratio;\n",
       "    var x1 = msg['x1'] / fig.ratio;\n",
       "    var y1 = (fig.canvas.height - msg['y1']) / fig.ratio;\n",
       "    x0 = Math.floor(x0) + 0.5;\n",
       "    y0 = Math.floor(y0) + 0.5;\n",
       "    x1 = Math.floor(x1) + 0.5;\n",
       "    y1 = Math.floor(y1) + 0.5;\n",
       "    var min_x = Math.min(x0, x1);\n",
       "    var min_y = Math.min(y0, y1);\n",
       "    var width = Math.abs(x1 - x0);\n",
       "    var height = Math.abs(y1 - y0);\n",
       "\n",
       "    fig.rubberband_context.clearRect(\n",
       "        0,\n",
       "        0,\n",
       "        fig.canvas.width / fig.ratio,\n",
       "        fig.canvas.height / fig.ratio\n",
       "    );\n",
       "\n",
       "    fig.rubberband_context.strokeRect(min_x, min_y, width, height);\n",
       "};\n",
       "\n",
       "mpl.figure.prototype.handle_figure_label = function (fig, msg) {\n",
       "    // Updates the figure title.\n",
       "    fig.header.textContent = msg['label'];\n",
       "};\n",
       "\n",
       "mpl.figure.prototype.handle_cursor = function (fig, msg) {\n",
       "    fig.canvas_div.style.cursor = msg['cursor'];\n",
       "};\n",
       "\n",
       "mpl.figure.prototype.handle_message = function (fig, msg) {\n",
       "    fig.message.textContent = msg['message'];\n",
       "};\n",
       "\n",
       "mpl.figure.prototype.handle_draw = function (fig, _msg) {\n",
       "    // Request the server to send over a new figure.\n",
       "    fig.send_draw_message();\n",
       "};\n",
       "\n",
       "mpl.figure.prototype.handle_image_mode = function (fig, msg) {\n",
       "    fig.image_mode = msg['mode'];\n",
       "};\n",
       "\n",
       "mpl.figure.prototype.handle_history_buttons = function (fig, msg) {\n",
       "    for (var key in msg) {\n",
       "        if (!(key in fig.buttons)) {\n",
       "            continue;\n",
       "        }\n",
       "        fig.buttons[key].disabled = !msg[key];\n",
       "        fig.buttons[key].setAttribute('aria-disabled', !msg[key]);\n",
       "    }\n",
       "};\n",
       "\n",
       "mpl.figure.prototype.handle_navigate_mode = function (fig, msg) {\n",
       "    if (msg['mode'] === 'PAN') {\n",
       "        fig.buttons['Pan'].classList.add('active');\n",
       "        fig.buttons['Zoom'].classList.remove('active');\n",
       "    } else if (msg['mode'] === 'ZOOM') {\n",
       "        fig.buttons['Pan'].classList.remove('active');\n",
       "        fig.buttons['Zoom'].classList.add('active');\n",
       "    } else {\n",
       "        fig.buttons['Pan'].classList.remove('active');\n",
       "        fig.buttons['Zoom'].classList.remove('active');\n",
       "    }\n",
       "};\n",
       "\n",
       "mpl.figure.prototype.updated_canvas_event = function () {\n",
       "    // Called whenever the canvas gets updated.\n",
       "    this.send_message('ack', {});\n",
       "};\n",
       "\n",
       "// A function to construct a web socket function for onmessage handling.\n",
       "// Called in the figure constructor.\n",
       "mpl.figure.prototype._make_on_message_function = function (fig) {\n",
       "    return function socket_on_message(evt) {\n",
       "        if (evt.data instanceof Blob) {\n",
       "            var img = evt.data;\n",
       "            if (img.type !== 'image/png') {\n",
       "                /* FIXME: We get \"Resource interpreted as Image but\n",
       "                 * transferred with MIME type text/plain:\" errors on\n",
       "                 * Chrome.  But how to set the MIME type?  It doesn't seem\n",
       "                 * to be part of the websocket stream */\n",
       "                img.type = 'image/png';\n",
       "            }\n",
       "\n",
       "            /* Free the memory for the previous frames */\n",
       "            if (fig.imageObj.src) {\n",
       "                (window.URL || window.webkitURL).revokeObjectURL(\n",
       "                    fig.imageObj.src\n",
       "                );\n",
       "            }\n",
       "\n",
       "            fig.imageObj.src = (window.URL || window.webkitURL).createObjectURL(\n",
       "                img\n",
       "            );\n",
       "            fig.updated_canvas_event();\n",
       "            fig.waiting = false;\n",
       "            return;\n",
       "        } else if (\n",
       "            typeof evt.data === 'string' &&\n",
       "            evt.data.slice(0, 21) === 'data:image/png;base64'\n",
       "        ) {\n",
       "            fig.imageObj.src = evt.data;\n",
       "            fig.updated_canvas_event();\n",
       "            fig.waiting = false;\n",
       "            return;\n",
       "        }\n",
       "\n",
       "        var msg = JSON.parse(evt.data);\n",
       "        var msg_type = msg['type'];\n",
       "\n",
       "        // Call the  \"handle_{type}\" callback, which takes\n",
       "        // the figure and JSON message as its only arguments.\n",
       "        try {\n",
       "            var callback = fig['handle_' + msg_type];\n",
       "        } catch (e) {\n",
       "            console.log(\n",
       "                \"No handler for the '\" + msg_type + \"' message type: \",\n",
       "                msg\n",
       "            );\n",
       "            return;\n",
       "        }\n",
       "\n",
       "        if (callback) {\n",
       "            try {\n",
       "                // console.log(\"Handling '\" + msg_type + \"' message: \", msg);\n",
       "                callback(fig, msg);\n",
       "            } catch (e) {\n",
       "                console.log(\n",
       "                    \"Exception inside the 'handler_\" + msg_type + \"' callback:\",\n",
       "                    e,\n",
       "                    e.stack,\n",
       "                    msg\n",
       "                );\n",
       "            }\n",
       "        }\n",
       "    };\n",
       "};\n",
       "\n",
       "function getModifiers(event) {\n",
       "    var mods = [];\n",
       "    if (event.ctrlKey) {\n",
       "        mods.push('ctrl');\n",
       "    }\n",
       "    if (event.altKey) {\n",
       "        mods.push('alt');\n",
       "    }\n",
       "    if (event.shiftKey) {\n",
       "        mods.push('shift');\n",
       "    }\n",
       "    if (event.metaKey) {\n",
       "        mods.push('meta');\n",
       "    }\n",
       "    return mods;\n",
       "}\n",
       "\n",
       "/*\n",
       " * return a copy of an object with only non-object keys\n",
       " * we need this to avoid circular references\n",
       " * https://stackoverflow.com/a/24161582/3208463\n",
       " */\n",
       "function simpleKeys(original) {\n",
       "    return Object.keys(original).reduce(function (obj, key) {\n",
       "        if (typeof original[key] !== 'object') {\n",
       "            obj[key] = original[key];\n",
       "        }\n",
       "        return obj;\n",
       "    }, {});\n",
       "}\n",
       "\n",
       "mpl.figure.prototype.mouse_event = function (event, name) {\n",
       "    if (name === 'button_press') {\n",
       "        this.canvas.focus();\n",
       "        this.canvas_div.focus();\n",
       "    }\n",
       "\n",
       "    // from https://stackoverflow.com/q/1114465\n",
       "    var boundingRect = this.canvas.getBoundingClientRect();\n",
       "    var x = (event.clientX - boundingRect.left) * this.ratio;\n",
       "    var y = (event.clientY - boundingRect.top) * this.ratio;\n",
       "\n",
       "    this.send_message(name, {\n",
       "        x: x,\n",
       "        y: y,\n",
       "        button: event.button,\n",
       "        step: event.step,\n",
       "        modifiers: getModifiers(event),\n",
       "        guiEvent: simpleKeys(event),\n",
       "    });\n",
       "\n",
       "    return false;\n",
       "};\n",
       "\n",
       "mpl.figure.prototype._key_event_extra = function (_event, _name) {\n",
       "    // Handle any extra behaviour associated with a key event\n",
       "};\n",
       "\n",
       "mpl.figure.prototype.key_event = function (event, name) {\n",
       "    // Prevent repeat events\n",
       "    if (name === 'key_press') {\n",
       "        if (event.key === this._key) {\n",
       "            return;\n",
       "        } else {\n",
       "            this._key = event.key;\n",
       "        }\n",
       "    }\n",
       "    if (name === 'key_release') {\n",
       "        this._key = null;\n",
       "    }\n",
       "\n",
       "    var value = '';\n",
       "    if (event.ctrlKey && event.key !== 'Control') {\n",
       "        value += 'ctrl+';\n",
       "    }\n",
       "    else if (event.altKey && event.key !== 'Alt') {\n",
       "        value += 'alt+';\n",
       "    }\n",
       "    else if (event.shiftKey && event.key !== 'Shift') {\n",
       "        value += 'shift+';\n",
       "    }\n",
       "\n",
       "    value += 'k' + event.key;\n",
       "\n",
       "    this._key_event_extra(event, name);\n",
       "\n",
       "    this.send_message(name, { key: value, guiEvent: simpleKeys(event) });\n",
       "    return false;\n",
       "};\n",
       "\n",
       "mpl.figure.prototype.toolbar_button_onclick = function (name) {\n",
       "    if (name === 'download') {\n",
       "        this.handle_save(this, null);\n",
       "    } else {\n",
       "        this.send_message('toolbar_button', { name: name });\n",
       "    }\n",
       "};\n",
       "\n",
       "mpl.figure.prototype.toolbar_button_onmouseover = function (tooltip) {\n",
       "    this.message.textContent = tooltip;\n",
       "};\n",
       "\n",
       "///////////////// REMAINING CONTENT GENERATED BY embed_js.py /////////////////\n",
       "// prettier-ignore\n",
       "var _JSXTOOLS_RESIZE_OBSERVER=function(A){var t,i=new WeakMap,n=new WeakMap,a=new WeakMap,r=new WeakMap,o=new Set;function s(e){if(!(this instanceof s))throw new TypeError(\"Constructor requires 'new' operator\");i.set(this,e)}function h(){throw new TypeError(\"Function is not a constructor\")}function c(e,t,i,n){e=0 in arguments?Number(arguments[0]):0,t=1 in arguments?Number(arguments[1]):0,i=2 in arguments?Number(arguments[2]):0,n=3 in arguments?Number(arguments[3]):0,this.right=(this.x=this.left=e)+(this.width=i),this.bottom=(this.y=this.top=t)+(this.height=n),Object.freeze(this)}function d(){t=requestAnimationFrame(d);var s=new WeakMap,p=new Set;o.forEach((function(t){r.get(t).forEach((function(i){var r=t instanceof window.SVGElement,o=a.get(t),d=r?0:parseFloat(o.paddingTop),f=r?0:parseFloat(o.paddingRight),l=r?0:parseFloat(o.paddingBottom),u=r?0:parseFloat(o.paddingLeft),g=r?0:parseFloat(o.borderTopWidth),m=r?0:parseFloat(o.borderRightWidth),w=r?0:parseFloat(o.borderBottomWidth),b=u+f,F=d+l,v=(r?0:parseFloat(o.borderLeftWidth))+m,W=g+w,y=r?0:t.offsetHeight-W-t.clientHeight,E=r?0:t.offsetWidth-v-t.clientWidth,R=b+v,z=F+W,M=r?t.width:parseFloat(o.width)-R-E,O=r?t.height:parseFloat(o.height)-z-y;if(n.has(t)){var k=n.get(t);if(k[0]===M&&k[1]===O)return}n.set(t,[M,O]);var S=Object.create(h.prototype);S.target=t,S.contentRect=new c(u,d,M,O),s.has(i)||(s.set(i,[]),p.add(i)),s.get(i).push(S)}))})),p.forEach((function(e){i.get(e).call(e,s.get(e),e)}))}return s.prototype.observe=function(i){if(i instanceof window.Element){r.has(i)||(r.set(i,new Set),o.add(i),a.set(i,window.getComputedStyle(i)));var n=r.get(i);n.has(this)||n.add(this),cancelAnimationFrame(t),t=requestAnimationFrame(d)}},s.prototype.unobserve=function(i){if(i instanceof window.Element&&r.has(i)){var n=r.get(i);n.has(this)&&(n.delete(this),n.size||(r.delete(i),o.delete(i))),n.size||r.delete(i),o.size||cancelAnimationFrame(t)}},A.DOMRectReadOnly=c,A.ResizeObserver=s,A.ResizeObserverEntry=h,A}; // eslint-disable-line\n",
       "mpl.toolbar_items = [[\"Home\", \"Reset original view\", \"fa fa-home\", \"home\"], [\"Back\", \"Back to previous view\", \"fa fa-arrow-left\", \"back\"], [\"Forward\", \"Forward to next view\", \"fa fa-arrow-right\", \"forward\"], [\"\", \"\", \"\", \"\"], [\"Pan\", \"Left button pans, Right button zooms\\nx/y fixes axis, CTRL fixes aspect\", \"fa fa-arrows\", \"pan\"], [\"Zoom\", \"Zoom to rectangle\\nx/y fixes axis\", \"fa fa-square-o\", \"zoom\"], [\"\", \"\", \"\", \"\"], [\"Download\", \"Download plot\", \"fa fa-floppy-o\", \"download\"]];\n",
       "\n",
       "mpl.extensions = [\"eps\", \"jpeg\", \"pgf\", \"pdf\", \"png\", \"ps\", \"raw\", \"svg\", \"tif\", \"webp\"];\n",
       "\n",
       "mpl.default_extension = \"png\";/* global mpl */\n",
       "\n",
       "var comm_websocket_adapter = function (comm) {\n",
       "    // Create a \"websocket\"-like object which calls the given IPython comm\n",
       "    // object with the appropriate methods. Currently this is a non binary\n",
       "    // socket, so there is still some room for performance tuning.\n",
       "    var ws = {};\n",
       "\n",
       "    ws.binaryType = comm.kernel.ws.binaryType;\n",
       "    ws.readyState = comm.kernel.ws.readyState;\n",
       "    function updateReadyState(_event) {\n",
       "        if (comm.kernel.ws) {\n",
       "            ws.readyState = comm.kernel.ws.readyState;\n",
       "        } else {\n",
       "            ws.readyState = 3; // Closed state.\n",
       "        }\n",
       "    }\n",
       "    comm.kernel.ws.addEventListener('open', updateReadyState);\n",
       "    comm.kernel.ws.addEventListener('close', updateReadyState);\n",
       "    comm.kernel.ws.addEventListener('error', updateReadyState);\n",
       "\n",
       "    ws.close = function () {\n",
       "        comm.close();\n",
       "    };\n",
       "    ws.send = function (m) {\n",
       "        //console.log('sending', m);\n",
       "        comm.send(m);\n",
       "    };\n",
       "    // Register the callback with on_msg.\n",
       "    comm.on_msg(function (msg) {\n",
       "        //console.log('receiving', msg['content']['data'], msg);\n",
       "        var data = msg['content']['data'];\n",
       "        if (data['blob'] !== undefined) {\n",
       "            data = {\n",
       "                data: new Blob(msg['buffers'], { type: data['blob'] }),\n",
       "            };\n",
       "        }\n",
       "        // Pass the mpl event to the overridden (by mpl) onmessage function.\n",
       "        ws.onmessage(data);\n",
       "    });\n",
       "    return ws;\n",
       "};\n",
       "\n",
       "mpl.mpl_figure_comm = function (comm, msg) {\n",
       "    // This is the function which gets called when the mpl process\n",
       "    // starts-up an IPython Comm through the \"matplotlib\" channel.\n",
       "\n",
       "    var id = msg.content.data.id;\n",
       "    // Get hold of the div created by the display call when the Comm\n",
       "    // socket was opened in Python.\n",
       "    var element = document.getElementById(id);\n",
       "    var ws_proxy = comm_websocket_adapter(comm);\n",
       "\n",
       "    function ondownload(figure, _format) {\n",
       "        window.open(figure.canvas.toDataURL());\n",
       "    }\n",
       "\n",
       "    var fig = new mpl.figure(id, ws_proxy, ondownload, element);\n",
       "\n",
       "    // Call onopen now - mpl needs it, as it is assuming we've passed it a real\n",
       "    // web socket which is closed, not our websocket->open comm proxy.\n",
       "    ws_proxy.onopen();\n",
       "\n",
       "    fig.parent_element = element;\n",
       "    fig.cell_info = mpl.find_output_cell(\"<div id='\" + id + \"'></div>\");\n",
       "    if (!fig.cell_info) {\n",
       "        console.error('Failed to find cell for figure', id, fig);\n",
       "        return;\n",
       "    }\n",
       "    fig.cell_info[0].output_area.element.on(\n",
       "        'cleared',\n",
       "        { fig: fig },\n",
       "        fig._remove_fig_handler\n",
       "    );\n",
       "};\n",
       "\n",
       "mpl.figure.prototype.handle_close = function (fig, msg) {\n",
       "    var width = fig.canvas.width / fig.ratio;\n",
       "    fig.cell_info[0].output_area.element.off(\n",
       "        'cleared',\n",
       "        fig._remove_fig_handler\n",
       "    );\n",
       "    fig.resizeObserverInstance.unobserve(fig.canvas_div);\n",
       "\n",
       "    // Update the output cell to use the data from the current canvas.\n",
       "    fig.push_to_output();\n",
       "    var dataURL = fig.canvas.toDataURL();\n",
       "    // Re-enable the keyboard manager in IPython - without this line, in FF,\n",
       "    // the notebook keyboard shortcuts fail.\n",
       "    IPython.keyboard_manager.enable();\n",
       "    fig.parent_element.innerHTML =\n",
       "        '<img src=\"' + dataURL + '\" width=\"' + width + '\">';\n",
       "    fig.close_ws(fig, msg);\n",
       "};\n",
       "\n",
       "mpl.figure.prototype.close_ws = function (fig, msg) {\n",
       "    fig.send_message('closing', msg);\n",
       "    // fig.ws.close()\n",
       "};\n",
       "\n",
       "mpl.figure.prototype.push_to_output = function (_remove_interactive) {\n",
       "    // Turn the data on the canvas into data in the output cell.\n",
       "    var width = this.canvas.width / this.ratio;\n",
       "    var dataURL = this.canvas.toDataURL();\n",
       "    this.cell_info[1]['text/html'] =\n",
       "        '<img src=\"' + dataURL + '\" width=\"' + width + '\">';\n",
       "};\n",
       "\n",
       "mpl.figure.prototype.updated_canvas_event = function () {\n",
       "    // Tell IPython that the notebook contents must change.\n",
       "    IPython.notebook.set_dirty(true);\n",
       "    this.send_message('ack', {});\n",
       "    var fig = this;\n",
       "    // Wait a second, then push the new image to the DOM so\n",
       "    // that it is saved nicely (might be nice to debounce this).\n",
       "    setTimeout(function () {\n",
       "        fig.push_to_output();\n",
       "    }, 1000);\n",
       "};\n",
       "\n",
       "mpl.figure.prototype._init_toolbar = function () {\n",
       "    var fig = this;\n",
       "\n",
       "    var toolbar = document.createElement('div');\n",
       "    toolbar.classList = 'btn-toolbar';\n",
       "    this.root.appendChild(toolbar);\n",
       "\n",
       "    function on_click_closure(name) {\n",
       "        return function (_event) {\n",
       "            return fig.toolbar_button_onclick(name);\n",
       "        };\n",
       "    }\n",
       "\n",
       "    function on_mouseover_closure(tooltip) {\n",
       "        return function (event) {\n",
       "            if (!event.currentTarget.disabled) {\n",
       "                return fig.toolbar_button_onmouseover(tooltip);\n",
       "            }\n",
       "        };\n",
       "    }\n",
       "\n",
       "    fig.buttons = {};\n",
       "    var buttonGroup = document.createElement('div');\n",
       "    buttonGroup.classList = 'btn-group';\n",
       "    var button;\n",
       "    for (var toolbar_ind in mpl.toolbar_items) {\n",
       "        var name = mpl.toolbar_items[toolbar_ind][0];\n",
       "        var tooltip = mpl.toolbar_items[toolbar_ind][1];\n",
       "        var image = mpl.toolbar_items[toolbar_ind][2];\n",
       "        var method_name = mpl.toolbar_items[toolbar_ind][3];\n",
       "\n",
       "        if (!name) {\n",
       "            /* Instead of a spacer, we start a new button group. */\n",
       "            if (buttonGroup.hasChildNodes()) {\n",
       "                toolbar.appendChild(buttonGroup);\n",
       "            }\n",
       "            buttonGroup = document.createElement('div');\n",
       "            buttonGroup.classList = 'btn-group';\n",
       "            continue;\n",
       "        }\n",
       "\n",
       "        button = fig.buttons[name] = document.createElement('button');\n",
       "        button.classList = 'btn btn-default';\n",
       "        button.href = '#';\n",
       "        button.title = name;\n",
       "        button.innerHTML = '<i class=\"fa ' + image + ' fa-lg\"></i>';\n",
       "        button.addEventListener('click', on_click_closure(method_name));\n",
       "        button.addEventListener('mouseover', on_mouseover_closure(tooltip));\n",
       "        buttonGroup.appendChild(button);\n",
       "    }\n",
       "\n",
       "    if (buttonGroup.hasChildNodes()) {\n",
       "        toolbar.appendChild(buttonGroup);\n",
       "    }\n",
       "\n",
       "    // Add the status bar.\n",
       "    var status_bar = document.createElement('span');\n",
       "    status_bar.classList = 'mpl-message pull-right';\n",
       "    toolbar.appendChild(status_bar);\n",
       "    this.message = status_bar;\n",
       "\n",
       "    // Add the close button to the window.\n",
       "    var buttongrp = document.createElement('div');\n",
       "    buttongrp.classList = 'btn-group inline pull-right';\n",
       "    button = document.createElement('button');\n",
       "    button.classList = 'btn btn-mini btn-primary';\n",
       "    button.href = '#';\n",
       "    button.title = 'Stop Interaction';\n",
       "    button.innerHTML = '<i class=\"fa fa-power-off icon-remove icon-large\"></i>';\n",
       "    button.addEventListener('click', function (_evt) {\n",
       "        fig.handle_close(fig, {});\n",
       "    });\n",
       "    button.addEventListener(\n",
       "        'mouseover',\n",
       "        on_mouseover_closure('Stop Interaction')\n",
       "    );\n",
       "    buttongrp.appendChild(button);\n",
       "    var titlebar = this.root.querySelector('.ui-dialog-titlebar');\n",
       "    titlebar.insertBefore(buttongrp, titlebar.firstChild);\n",
       "};\n",
       "\n",
       "mpl.figure.prototype._remove_fig_handler = function (event) {\n",
       "    var fig = event.data.fig;\n",
       "    if (event.target !== this) {\n",
       "        // Ignore bubbled events from children.\n",
       "        return;\n",
       "    }\n",
       "    fig.close_ws(fig, {});\n",
       "};\n",
       "\n",
       "mpl.figure.prototype._root_extra_style = function (el) {\n",
       "    el.style.boxSizing = 'content-box'; // override notebook setting of border-box.\n",
       "};\n",
       "\n",
       "mpl.figure.prototype._canvas_extra_style = function (el) {\n",
       "    // this is important to make the div 'focusable\n",
       "    el.setAttribute('tabindex', 0);\n",
       "    // reach out to IPython and tell the keyboard manager to turn it's self\n",
       "    // off when our div gets focus\n",
       "\n",
       "    // location in version 3\n",
       "    if (IPython.notebook.keyboard_manager) {\n",
       "        IPython.notebook.keyboard_manager.register_events(el);\n",
       "    } else {\n",
       "        // location in version 2\n",
       "        IPython.keyboard_manager.register_events(el);\n",
       "    }\n",
       "};\n",
       "\n",
       "mpl.figure.prototype._key_event_extra = function (event, _name) {\n",
       "    // Check for shift+enter\n",
       "    if (event.shiftKey && event.which === 13) {\n",
       "        this.canvas_div.blur();\n",
       "        // select the cell after this one\n",
       "        var index = IPython.notebook.find_cell_index(this.cell_info[0]);\n",
       "        IPython.notebook.select(index + 1);\n",
       "    }\n",
       "};\n",
       "\n",
       "mpl.figure.prototype.handle_save = function (fig, _msg) {\n",
       "    fig.ondownload(fig, null);\n",
       "};\n",
       "\n",
       "mpl.find_output_cell = function (html_output) {\n",
       "    // Return the cell and output element which can be found *uniquely* in the notebook.\n",
       "    // Note - this is a bit hacky, but it is done because the \"notebook_saving.Notebook\"\n",
       "    // IPython event is triggered only after the cells have been serialised, which for\n",
       "    // our purposes (turning an active figure into a static one), is too late.\n",
       "    var cells = IPython.notebook.get_cells();\n",
       "    var ncells = cells.length;\n",
       "    for (var i = 0; i < ncells; i++) {\n",
       "        var cell = cells[i];\n",
       "        if (cell.cell_type === 'code') {\n",
       "            for (var j = 0; j < cell.output_area.outputs.length; j++) {\n",
       "                var data = cell.output_area.outputs[j];\n",
       "                if (data.data) {\n",
       "                    // IPython >= 3 moved mimebundle to data attribute of output\n",
       "                    data = data.data;\n",
       "                }\n",
       "                if (data['text/html'] === html_output) {\n",
       "                    return [cell, data, j];\n",
       "                }\n",
       "            }\n",
       "        }\n",
       "    }\n",
       "};\n",
       "\n",
       "// Register the function which deals with the matplotlib target/channel.\n",
       "// The kernel may be null if the page has been refreshed.\n",
       "if (IPython.notebook.kernel !== null) {\n",
       "    IPython.notebook.kernel.comm_manager.register_target(\n",
       "        'matplotlib',\n",
       "        mpl.mpl_figure_comm\n",
       "    );\n",
       "}\n"
      ],
      "text/plain": [
       "<IPython.core.display.Javascript object>"
      ]
     },
     "metadata": {},
     "output_type": "display_data"
    },
    {
     "data": {
      "text/html": [
       "<img src=\"data:image/png;base64,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\" width=\"640\">"
      ],
      "text/plain": [
       "<IPython.core.display.HTML object>"
      ]
     },
     "metadata": {},
     "output_type": "display_data"
    }
   ],
   "source": [
    "def accuracy_plot():\n",
    "    import matplotlib.pyplot as plt\n",
    "\n",
    "    %matplotlib notebook\n",
    "    \n",
    "    # YOUR CODE HERE\n",
    "    mal_xt = X_train[y_train == 0] # X_train values for which y is malign\n",
    "    ben_xt = X_train[y_train == 1] # X_train vals for which y is benign\n",
    "    mal_xts = X_test[y_test == 0]\n",
    "    ben_xts = X_test[y_test == 1]\n",
    "    mal_yt =  y_train[y_train == 0] \n",
    "    ben_yt = y_train[y_train == 1] \n",
    "    mal_yts = y_test[y_test == 0]\n",
    "    ben_yts = y_test[y_test == 1]\n",
    "    \n",
    "    vals = [knn.score(mal_xt, mal_yt), knn.score(mal_xts, mal_yts), knn.score(ben_xt, ben_yt) ,knn.score(ben_xts, ben_yts)]\n",
    "    bars = plt.bar(range(0,4),vals, color=['#ff72f0','#ffbbaa','#22aaff','#5533ff'])\n",
    "    plt.xticks(range(0,4), ['Mal Train', 'Mal Test', 'Ben Train', 'Ben Test'])\n",
    "\n",
    "    # plt.gca().spines.set_visible(False)\n",
    "    plt.setp(plt.gca().spines.values(), visible=False);\n",
    "    plt.yticks([]);\n",
    "\n",
    "    plt.title('Train and Test Scores for Malignant and Benign Cells',color = 'blue')\n",
    "\n",
    "    for bar in bars:\n",
    "        height = bar.get_height()\n",
    "        plt.gca().text(bar.get_x() + bar.get_width() / 2, bar.get_height()*0.9, f'{height:.2f}',\n",
    "                       ha='center', color='black', fontsize=11)\n",
    "    \n",
    "    return plt.show()\n",
    "    raise NotImplementedError()\n",
    "\n",
    "accuracy_plot()"
   ]
  },
  {
   "cell_type": "code",
   "execution_count": 81,
   "metadata": {},
   "outputs": [
    {
     "data": {
      "text/plain": [
       "1.0"
      ]
     },
     "execution_count": 81,
     "metadata": {},
     "output_type": "execute_result"
    }
   ],
   "source": [
    "# Uncomment the plotting function to see the visualization, \n",
    "# Comment out the plotting function when submitting your notebook for grading\n",
    "\n",
    "knn.score(X_train, y_train)\n",
    "\n",
    "# accuracy_plot() "
   ]
  },
  {
   "cell_type": "code",
   "execution_count": 82,
   "metadata": {},
   "outputs": [
    {
     "data": {
      "text/plain": [
       "0.916083916083916"
      ]
     },
     "execution_count": 82,
     "metadata": {},
     "output_type": "execute_result"
    }
   ],
   "source": [
    "knn.score(X_test, y_test)"
   ]
  },
  {
   "cell_type": "code",
   "execution_count": 83,
   "metadata": {},
   "outputs": [],
   "source": [
    "mal_xt = X_train[y_train == 0] # X_train values for which y is malign\n",
    "\n",
    "ben_xt = X_train[y_train == 1] # X_train vals for which y is benign\n",
    "\n",
    "mal_xts = X_test[y_test == 0]\n",
    "\n",
    "ben_xts = X_test[y_test == 1]\n",
    "\n",
    "mal_yt =  y_train[y_train == 0] \n",
    "\n",
    "ben_yt = y_train[y_train == 1] \n",
    "\n",
    "mal_yts = y_test[y_test == 0]\n",
    "\n",
    "ben_yts = y_test[y_test == 1]\n",
    "\n",
    "\n",
    "# more like (x_train malig, y_train ben) (x_test mal, y_test ben), etc"
   ]
  },
  {
   "cell_type": "code",
   "execution_count": 84,
   "metadata": {},
   "outputs": [
    {
     "data": {
      "text/plain": [
       "(159, 53, 159, 53)"
      ]
     },
     "execution_count": 84,
     "metadata": {},
     "output_type": "execute_result"
    }
   ],
   "source": [
    "# comparing the x,y train-test data. Same can be done for the benign\n",
    "len(mal_xt), len(mal_xts), len(mal_yt),len(mal_yts)"
   ]
  },
  {
   "cell_type": "code",
   "execution_count": 85,
   "metadata": {},
   "outputs": [
    {
     "data": {
      "text/plain": [
       "0.9444444444444444"
      ]
     },
     "execution_count": 85,
     "metadata": {},
     "output_type": "execute_result"
    }
   ],
   "source": [
    "knn.score(mal_xt, mal_yt)\n",
    "knn.score(mal_xts, mal_yts)\n",
    "knn.score(ben_xt, ben_yt)\n",
    "knn.score(ben_xts, ben_yts)"
   ]
  },
  {
   "cell_type": "code",
   "execution_count": 88,
   "metadata": {},
   "outputs": [],
   "source": [
    "import matplotlib.pyplot as plt"
   ]
  },
  {
   "cell_type": "code",
   "execution_count": 146,
   "metadata": {},
   "outputs": [
    {
     "data": {
      "image/png": "[encoded data removed]",
      "text/plain": [
       "<Figure size 640x480 with 1 Axes>"
      ]
     },
     "metadata": {},
     "output_type": "display_data"
    }
   ],
   "source": [
    "vals = [knn.score(mal_xt, mal_yt), knn.score(mal_xts, mal_yts), knn.score(ben_xt, ben_yt) ,knn.score(ben_xts, ben_yts)]\n",
    "bars = plt.bar(range(0,4),vals, color=['#ff72f0','#ffbbaa','#22aaff','#5533ff'])\n",
    "plt.xticks(range(0,4), ['Mal Train', 'Mal Test', 'Ben Train', 'Ben Test'])\n",
    "\n",
    "# plt.gca().spines.set_visible(False)\n",
    "plt.setp(plt.gca().spines.values(), visible=False);\n",
    "plt.yticks([]);\n",
    "\n",
    "plt.title('Train and Test Scores for Malignant and Benign Cells',color = 'blue')\n",
    "\n",
    "for bar in bars:\n",
    "    height = bar.get_height()\n",
    "    plt.gca().text(bar.get_x() + bar.get_width() / 2, bar.get_height()*0.9, f'{height:.2f}',\n",
    "                   ha='center', color='black', fontsize=11)\n",
    "    \n",
    "# for the height u can do some additiona and subtraction (eg instead of *0.9, you can use -0.1)"
   ]
  },
  {
   "cell_type": "code",
   "execution_count": 12,
   "metadata": {},
   "outputs": [],
   "source": [
    "import sklearn"
   ]
  },
  {
   "cell_type": "code",
   "execution_count": 13,
   "metadata": {},
   "outputs": [
    {
     "name": "stdout",
     "output_type": "stream",
     "text": [
      "\n",
      "System:\n",
      "    python: 3.11.5 | packaged by Anaconda, Inc. | (main, Sep 11 2023, 13:26:23) [MSC v.1916 64 bit (AMD64)]\n",
      "executable: C:\\Users\\Victor Darkwah-Owusu\\anaconda3\\python.exe\n",
      "   machine: Windows-10-10.0.22631-SP0\n",
      "\n",
      "Python dependencies:\n",
      "      sklearn: 1.3.0\n",
      "          pip: 23.2.1\n",
      "   setuptools: 68.0.0\n",
      "        numpy: 1.26.4\n",
      "        scipy: 1.11.1\n",
      "       Cython: None\n",
      "       pandas: 2.0.3\n",
      "   matplotlib: 3.7.2\n",
      "       joblib: 1.2.0\n",
      "threadpoolctl: 2.2.0\n",
      "\n",
      "Built with OpenMP: True\n"
     ]
    },
    {
     "ename": "AttributeError",
     "evalue": "'NoneType' object has no attribute 'split'",
     "output_type": "error",
     "traceback": [
      "\u001b[1;31m---------------------------------------------------------------------------\u001b[0m",
      "\u001b[1;31mAttributeError\u001b[0m                            Traceback (most recent call last)",
      "Cell \u001b[1;32mIn[13], line 1\u001b[0m\n\u001b[1;32m----> 1\u001b[0m sklearn\u001b[38;5;241m.\u001b[39mshow_versions()\n",
      "File \u001b[1;32m~\\anaconda3\\Lib\\site-packages\\sklearn\\utils\\_show_versions.py:98\u001b[0m, in \u001b[0;36mshow_versions\u001b[1;34m()\u001b[0m\n\u001b[0;32m     91\u001b[0m \u001b[38;5;28mprint\u001b[39m(\n\u001b[0;32m     92\u001b[0m     \u001b[38;5;124m\"\u001b[39m\u001b[38;5;130;01m\\n\u001b[39;00m\u001b[38;5;132;01m{k}\u001b[39;00m\u001b[38;5;124m: \u001b[39m\u001b[38;5;132;01m{stat}\u001b[39;00m\u001b[38;5;124m\"\u001b[39m\u001b[38;5;241m.\u001b[39mformat(\n\u001b[0;32m     93\u001b[0m         k\u001b[38;5;241m=\u001b[39m\u001b[38;5;124m\"\u001b[39m\u001b[38;5;124mBuilt with OpenMP\u001b[39m\u001b[38;5;124m\"\u001b[39m, stat\u001b[38;5;241m=\u001b[39m_openmp_parallelism_enabled()\n\u001b[0;32m     94\u001b[0m     )\n\u001b[0;32m     95\u001b[0m )\n\u001b[0;32m     97\u001b[0m \u001b[38;5;66;03m# show threadpoolctl results\u001b[39;00m\n\u001b[1;32m---> 98\u001b[0m threadpool_results \u001b[38;5;241m=\u001b[39m threadpool_info()\n\u001b[0;32m     99\u001b[0m \u001b[38;5;28;01mif\u001b[39;00m threadpool_results:\n\u001b[0;32m    100\u001b[0m     \u001b[38;5;28mprint\u001b[39m()\n",
      "File \u001b[1;32m~\\anaconda3\\Lib\\site-packages\\sklearn\\utils\\fixes.py:83\u001b[0m, in \u001b[0;36mthreadpool_info\u001b[1;34m()\u001b[0m\n\u001b[0;32m     81\u001b[0m     \u001b[38;5;28;01mreturn\u001b[39;00m controller\u001b[38;5;241m.\u001b[39minfo()\n\u001b[0;32m     82\u001b[0m \u001b[38;5;28;01melse\u001b[39;00m:\n\u001b[1;32m---> 83\u001b[0m     \u001b[38;5;28;01mreturn\u001b[39;00m threadpoolctl\u001b[38;5;241m.\u001b[39mthreadpool_info()\n",
      "File \u001b[1;32m~\\anaconda3\\Lib\\site-packages\\threadpoolctl.py:124\u001b[0m, in \u001b[0;36mthreadpool_info\u001b[1;34m()\u001b[0m\n\u001b[0;32m    107\u001b[0m \u001b[38;5;129m@_format_docstring\u001b[39m(USER_APIS\u001b[38;5;241m=\u001b[39m\u001b[38;5;28mlist\u001b[39m(_ALL_USER_APIS),\n\u001b[0;32m    108\u001b[0m                    INTERNAL_APIS\u001b[38;5;241m=\u001b[39m_ALL_INTERNAL_APIS)\n\u001b[0;32m    109\u001b[0m \u001b[38;5;28;01mdef\u001b[39;00m \u001b[38;5;21mthreadpool_info\u001b[39m():\n\u001b[0;32m    110\u001b[0m \u001b[38;5;250m    \u001b[39m\u001b[38;5;124;03m\"\"\"Return the maximal number of threads for each detected library.\u001b[39;00m\n\u001b[0;32m    111\u001b[0m \n\u001b[0;32m    112\u001b[0m \u001b[38;5;124;03m    Return a list with all the supported modules that have been found. Each\u001b[39;00m\n\u001b[1;32m   (...)\u001b[0m\n\u001b[0;32m    122\u001b[0m \u001b[38;5;124;03m    In addition, each module may contain internal_api specific entries.\u001b[39;00m\n\u001b[0;32m    123\u001b[0m \u001b[38;5;124;03m    \"\"\"\u001b[39;00m\n\u001b[1;32m--> 124\u001b[0m     \u001b[38;5;28;01mreturn\u001b[39;00m _ThreadpoolInfo(user_api\u001b[38;5;241m=\u001b[39m_ALL_USER_APIS)\u001b[38;5;241m.\u001b[39mtodicts()\n",
      "File \u001b[1;32m~\\anaconda3\\Lib\\site-packages\\threadpoolctl.py:340\u001b[0m, in \u001b[0;36m_ThreadpoolInfo.__init__\u001b[1;34m(self, user_api, prefixes, modules)\u001b[0m\n\u001b[0;32m    337\u001b[0m     \u001b[38;5;28mself\u001b[39m\u001b[38;5;241m.\u001b[39muser_api \u001b[38;5;241m=\u001b[39m [] \u001b[38;5;28;01mif\u001b[39;00m user_api \u001b[38;5;129;01mis\u001b[39;00m \u001b[38;5;28;01mNone\u001b[39;00m \u001b[38;5;28;01melse\u001b[39;00m user_api\n\u001b[0;32m    339\u001b[0m     \u001b[38;5;28mself\u001b[39m\u001b[38;5;241m.\u001b[39mmodules \u001b[38;5;241m=\u001b[39m []\n\u001b[1;32m--> 340\u001b[0m     \u001b[38;5;28mself\u001b[39m\u001b[38;5;241m.\u001b[39m_load_modules()\n\u001b[0;32m    341\u001b[0m     \u001b[38;5;28mself\u001b[39m\u001b[38;5;241m.\u001b[39m_warn_if_incompatible_openmp()\n\u001b[0;32m    342\u001b[0m \u001b[38;5;28;01melse\u001b[39;00m:\n",
      "File \u001b[1;32m~\\anaconda3\\Lib\\site-packages\\threadpoolctl.py:373\u001b[0m, in \u001b[0;36m_ThreadpoolInfo._load_modules\u001b[1;34m(self)\u001b[0m\n\u001b[0;32m    371\u001b[0m     \u001b[38;5;28mself\u001b[39m\u001b[38;5;241m.\u001b[39m_find_modules_with_dyld()\n\u001b[0;32m    372\u001b[0m \u001b[38;5;28;01melif\u001b[39;00m sys\u001b[38;5;241m.\u001b[39mplatform \u001b[38;5;241m==\u001b[39m \u001b[38;5;124m\"\u001b[39m\u001b[38;5;124mwin32\u001b[39m\u001b[38;5;124m\"\u001b[39m:\n\u001b[1;32m--> 373\u001b[0m     \u001b[38;5;28mself\u001b[39m\u001b[38;5;241m.\u001b[39m_find_modules_with_enum_process_module_ex()\n\u001b[0;32m    374\u001b[0m \u001b[38;5;28;01melse\u001b[39;00m:\n\u001b[0;32m    375\u001b[0m     \u001b[38;5;28mself\u001b[39m\u001b[38;5;241m.\u001b[39m_find_modules_with_dl_iterate_phdr()\n",
      "File \u001b[1;32m~\\anaconda3\\Lib\\site-packages\\threadpoolctl.py:485\u001b[0m, in \u001b[0;36m_ThreadpoolInfo._find_modules_with_enum_process_module_ex\u001b[1;34m(self)\u001b[0m\n\u001b[0;32m    482\u001b[0m         filepath \u001b[38;5;241m=\u001b[39m buf\u001b[38;5;241m.\u001b[39mvalue\n\u001b[0;32m    484\u001b[0m         \u001b[38;5;66;03m# Store the module if it is supported and selected\u001b[39;00m\n\u001b[1;32m--> 485\u001b[0m         \u001b[38;5;28mself\u001b[39m\u001b[38;5;241m.\u001b[39m_make_module_from_path(filepath)\n\u001b[0;32m    486\u001b[0m \u001b[38;5;28;01mfinally\u001b[39;00m:\n\u001b[0;32m    487\u001b[0m     kernel_32\u001b[38;5;241m.\u001b[39mCloseHandle(h_process)\n",
      "File \u001b[1;32m~\\anaconda3\\Lib\\site-packages\\threadpoolctl.py:515\u001b[0m, in \u001b[0;36m_ThreadpoolInfo._make_module_from_path\u001b[1;34m(self, filepath)\u001b[0m\n\u001b[0;32m    513\u001b[0m \u001b[38;5;28;01mif\u001b[39;00m prefix \u001b[38;5;129;01min\u001b[39;00m \u001b[38;5;28mself\u001b[39m\u001b[38;5;241m.\u001b[39mprefixes \u001b[38;5;129;01mor\u001b[39;00m user_api \u001b[38;5;129;01min\u001b[39;00m \u001b[38;5;28mself\u001b[39m\u001b[38;5;241m.\u001b[39muser_api:\n\u001b[0;32m    514\u001b[0m     module_class \u001b[38;5;241m=\u001b[39m \u001b[38;5;28mglobals\u001b[39m()[module_class]\n\u001b[1;32m--> 515\u001b[0m     module \u001b[38;5;241m=\u001b[39m module_class(filepath, prefix, user_api, internal_api)\n\u001b[0;32m    516\u001b[0m     \u001b[38;5;28mself\u001b[39m\u001b[38;5;241m.\u001b[39mmodules\u001b[38;5;241m.\u001b[39mappend(module)\n",
      "File \u001b[1;32m~\\anaconda3\\Lib\\site-packages\\threadpoolctl.py:606\u001b[0m, in \u001b[0;36m_Module.__init__\u001b[1;34m(self, filepath, prefix, user_api, internal_api)\u001b[0m\n\u001b[0;32m    604\u001b[0m \u001b[38;5;28mself\u001b[39m\u001b[38;5;241m.\u001b[39minternal_api \u001b[38;5;241m=\u001b[39m internal_api\n\u001b[0;32m    605\u001b[0m \u001b[38;5;28mself\u001b[39m\u001b[38;5;241m.\u001b[39m_dynlib \u001b[38;5;241m=\u001b[39m ctypes\u001b[38;5;241m.\u001b[39mCDLL(filepath, mode\u001b[38;5;241m=\u001b[39m_RTLD_NOLOAD)\n\u001b[1;32m--> 606\u001b[0m \u001b[38;5;28mself\u001b[39m\u001b[38;5;241m.\u001b[39mversion \u001b[38;5;241m=\u001b[39m \u001b[38;5;28mself\u001b[39m\u001b[38;5;241m.\u001b[39mget_version()\n\u001b[0;32m    607\u001b[0m \u001b[38;5;28mself\u001b[39m\u001b[38;5;241m.\u001b[39mnum_threads \u001b[38;5;241m=\u001b[39m \u001b[38;5;28mself\u001b[39m\u001b[38;5;241m.\u001b[39mget_num_threads()\n\u001b[0;32m    608\u001b[0m \u001b[38;5;28mself\u001b[39m\u001b[38;5;241m.\u001b[39m_get_extra_info()\n",
      "File \u001b[1;32m~\\anaconda3\\Lib\\site-packages\\threadpoolctl.py:646\u001b[0m, in \u001b[0;36m_OpenBLASModule.get_version\u001b[1;34m(self)\u001b[0m\n\u001b[0;32m    643\u001b[0m get_config \u001b[38;5;241m=\u001b[39m \u001b[38;5;28mgetattr\u001b[39m(\u001b[38;5;28mself\u001b[39m\u001b[38;5;241m.\u001b[39m_dynlib, \u001b[38;5;124m\"\u001b[39m\u001b[38;5;124mopenblas_get_config\u001b[39m\u001b[38;5;124m\"\u001b[39m,\n\u001b[0;32m    644\u001b[0m                      \u001b[38;5;28;01mlambda\u001b[39;00m: \u001b[38;5;28;01mNone\u001b[39;00m)\n\u001b[0;32m    645\u001b[0m get_config\u001b[38;5;241m.\u001b[39mrestype \u001b[38;5;241m=\u001b[39m ctypes\u001b[38;5;241m.\u001b[39mc_char_p\n\u001b[1;32m--> 646\u001b[0m config \u001b[38;5;241m=\u001b[39m get_config()\u001b[38;5;241m.\u001b[39msplit()\n\u001b[0;32m    647\u001b[0m \u001b[38;5;28;01mif\u001b[39;00m config[\u001b[38;5;241m0\u001b[39m] \u001b[38;5;241m==\u001b[39m \u001b[38;5;124mb\u001b[39m\u001b[38;5;124m\"\u001b[39m\u001b[38;5;124mOpenBLAS\u001b[39m\u001b[38;5;124m\"\u001b[39m:\n\u001b[0;32m    648\u001b[0m     \u001b[38;5;28;01mreturn\u001b[39;00m config[\u001b[38;5;241m1\u001b[39m]\u001b[38;5;241m.\u001b[39mdecode(\u001b[38;5;124m\"\u001b[39m\u001b[38;5;124mutf-8\u001b[39m\u001b[38;5;124m\"\u001b[39m)\n",
      "\u001b[1;31mAttributeError\u001b[0m: 'NoneType' object has no attribute 'split'"
     ]
    }
   ],
   "source": [
    "sklearn.show_versions()\n"
   ]
  },
  {
   "cell_type": "code",
   "execution_count": 11,
   "metadata": {},
   "outputs": [
    {
     "name": "stdout",
     "output_type": "stream",
     "text": [
      "^C\n"
     ]
    }
   ],
   "source": [
    "!pip uninstall scikit-learn"
   ]
  },
  {
   "cell_type": "code",
   "execution_count": null,
   "metadata": {},
   "outputs": [],
   "source": []
  }
 ],
 "metadata": {
  "kernelspec": {
   "display_name": "Python 3 (ipykernel)",
   "language": "python",
   "name": "python3"
  },
  "language_info": {
   "codemirror_mode": {
    "name": "ipython",
    "version": 3
   },
   "file_extension": ".py",
   "mimetype": "text/x-python",
   "name": "python",
   "nbconvert_exporter": "python",
   "pygments_lexer": "ipython3",
   "version": "3.11.5"
  }
 },
 "nbformat": 4,
 "nbformat_minor": 4
}
